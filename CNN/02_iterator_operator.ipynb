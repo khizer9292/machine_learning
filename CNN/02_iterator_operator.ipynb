{
 "cells": [
  {
   "cell_type": "markdown",
   "metadata": {},
   "source": [
    "# **Python program to demonstrate the iterator module**"
   ]
  },
  {
   "cell_type": "code",
   "execution_count": 76,
   "metadata": {},
   "outputs": [],
   "source": [
    "# import the libraries\n",
    "import time \n",
    "import operator"
   ]
  },
  {
   "cell_type": "code",
   "execution_count": 77,
   "metadata": {},
   "outputs": [],
   "source": [
    "# creating the 2 lists\n",
    "L1 = [1, 2, 3]\n",
    "L2 = [4, 5, 6]"
   ]
  },
  {
   "cell_type": "code",
   "execution_count": 78,
   "metadata": {},
   "outputs": [
    {
     "name": "stdout",
     "output_type": "stream",
     "text": [
      "The Result :  4 10 18\n",
      "Time taken by the map function: 0.000000\n"
     ]
    }
   ],
   "source": [
    "start_time = time.time()\n",
    "a, b , c = map(operator.mul, L1, L2)\n",
    "end_time = time.time()\n",
    "print('The Result : ', a, b, c)\n",
    "print('Time taken by the map function: %.6f' % (end_time - start_time))"
   ]
  },
  {
   "cell_type": "code",
   "execution_count": 81,
   "metadata": {},
   "outputs": [
    {
     "name": "stdout",
     "output_type": "stream",
     "text": [
      "The Result : 4 10 18 \n",
      "Time taken by the loop: 0.000000\n"
     ]
    }
   ],
   "source": [
    "start_time = time.time()\n",
    "print('The Result :' ,end =' ')\n",
    "for i in range(3):\n",
    "    print(L1[i] * L2[i], end= ' ')\n",
    "end_time = time.time()    \n",
    "print('\\nTime taken by the loop: %.6f' % (end_time - start_time))"
   ]
  },
  {
   "cell_type": "code",
   "execution_count": 82,
   "metadata": {},
   "outputs": [
    {
     "name": "stdout",
     "output_type": "stream",
     "text": [
      "1\n",
      "3\n",
      "5\n",
      "7\n",
      "9\n"
     ]
    }
   ],
   "source": [
    "from itertools import count\n",
    "\n",
    "for number in count(start=1, step=2):\n",
    "\tif number > 10:\n",
    "\t\tbreak\n",
    "\tprint(number) # print statement\n"
   ]
  },
  {
   "cell_type": "code",
   "execution_count": 84,
   "metadata": {},
   "outputs": [
    {
     "name": "stdout",
     "output_type": "stream",
     "text": [
      "5 10 15 20 25 30 35 40 45 50 "
     ]
    }
   ],
   "source": [
    "# Python program to demonstrate\n",
    "# infinite iterators\n",
    "\n",
    "import itertools\n",
    "\n",
    "# for in loop\n",
    "for i in itertools.count(5, 5):\n",
    "\tif i == 55:\n",
    "\t\tbreak\n",
    "\telse:\n",
    "\t\tprint(i, end=\" \")\n"
   ]
  },
  {
   "cell_type": "code",
   "execution_count": null,
   "metadata": {},
   "outputs": [
    {
     "name": "stdout",
     "output_type": "stream",
     "text": [
      "Enter the number and I will give you the table of that number\n",
      "The table of 50 is\n",
      "50 x 1 =  50\n",
      "50 x 2 =  100\n",
      "50 x 3 =  150\n",
      "50 x 4 =  200\n",
      "50 x 5 =  250\n",
      "50 x 6 =  300\n",
      "50 x 7 =  350\n",
      "50 x 8 =  400\n",
      "50 x 9 =  450\n",
      "50 x 10 =  500\n",
      "Thanks for using this program, Can you want to try this on another number?? (y/n)\n",
      "50 x 1 =  50\n",
      "50 x 2 =  100\n",
      "50 x 3 =  150\n",
      "50 x 4 =  200\n",
      "50 x 5 =  250\n",
      "50 x 6 =  300\n",
      "50 x 7 =  350\n",
      "50 x 8 =  400\n",
      "50 x 9 =  450\n",
      "50 x 10 =  500\n",
      "Thanks for using this program, Can you want to try this on another number?? (y/n)\n",
      "50 x 1 =  50\n",
      "50 x 2 =  100\n",
      "50 x 3 =  150\n",
      "50 x 4 =  200\n",
      "50 x 5 =  250\n",
      "50 x 6 =  300\n",
      "50 x 7 =  350\n",
      "50 x 8 =  400\n",
      "50 x 9 =  450\n",
      "50 x 10 =  500\n",
      "Thanks for using this program, Can you want to try this on another number?? (y/n)\n"
     ]
    }
   ],
   "source": [
    "print('Enter the number and I will give you the table of that number')\n",
    "\n",
    "ans = 'y'\n",
    "\n",
    "def table(n):\n",
    "    if n < 0:\n",
    "        print('please Enter the positive number')\n",
    "    elif n == 0:\n",
    "        print('Please Enter the postive number other than zero')\n",
    "    else:\n",
    "        for i in range(1,11):\n",
    "            print(f\"{n} x {i} = \" ,  n * i, end='\\n' )\n",
    "        print('Thanks for using this program, Can you want to try this on another number?? (y/n)')\n",
    "        ans = str(input('')).lower()\n",
    "\n",
    "\n",
    "while True:\n",
    "    n = int(input('Enter the number:'))\n",
    "    table(n)\n",
    "    if ans != 'y':\n",
    "        print('Exiting the Program, Good Bye!!')\n",
    "        break"
   ]
  }
 ],
 "metadata": {
  "kernelspec": {
   "display_name": "python_ml",
   "language": "python",
   "name": "python3"
  },
  "language_info": {
   "codemirror_mode": {
    "name": "ipython",
    "version": 3
   },
   "file_extension": ".py",
   "mimetype": "text/x-python",
   "name": "python",
   "nbconvert_exporter": "python",
   "pygments_lexer": "ipython3",
   "version": "3.11.0"
  }
 },
 "nbformat": 4,
 "nbformat_minor": 2
}

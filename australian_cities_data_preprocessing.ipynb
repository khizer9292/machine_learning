{
 "cells": [
  {
   "cell_type": "markdown",
   "metadata": {},
   "source": [
    "# **Australian Cities dataset with Suburbs** \n",
    "## **Author: Khizer Rehman**\n",
    "### ***Date: 25-11-2024***\n",
    "### Dataset from [opendatasoft.com](https://public.opendatasoft.com/explore/dataset/georef-australia-state-suburb-millesime/table/?disjunctive.ste_code&disjunctive.ste_name&disjunctive.lga_code&disjunctive.lga_name&disjunctive.scc_code&disjunctive.scc_name&refine.year=2021)"
   ]
  },
  {
   "cell_type": "markdown",
   "metadata": {},
   "source": [
    "# Import libraries"
   ]
  },
  {
   "cell_type": "code",
   "execution_count": 1,
   "metadata": {},
   "outputs": [
    {
     "name": "stderr",
     "output_type": "stream",
     "text": [
      "c:\\Users\\dv04i\\miniconda3\\envs\\ydata_profiling\\lib\\site-packages\\tqdm\\auto.py:21: TqdmWarning: IProgress not found. Please update jupyter and ipywidgets. See https://ipywidgets.readthedocs.io/en/stable/user_install.html\n",
      "  from .autonotebook import tqdm as notebook_tqdm\n"
     ]
    }
   ],
   "source": [
    "# importing the libraries\n",
    "import pandas as pd\n",
    "import numpy as np\n",
    "import matplotlib.pyplot as plt\n",
    "import seaborn as sns\n",
    "from ydata_profiling import ProfileReport"
   ]
  },
  {
   "cell_type": "markdown",
   "metadata": {},
   "source": [
    "**Load the dataset**"
   ]
  },
  {
   "cell_type": "code",
   "execution_count": 786,
   "metadata": {},
   "outputs": [],
   "source": [
    "df = pd.read_excel('georef-australia-state-suburb-millesime.xlsx')"
   ]
  },
  {
   "cell_type": "markdown",
   "metadata": {},
   "source": [
    "# Dataset basic Info "
   ]
  },
  {
   "cell_type": "code",
   "execution_count": 787,
   "metadata": {},
   "outputs": [
    {
     "name": "stdout",
     "output_type": "stream",
     "text": [
      "<class 'pandas.core.frame.DataFrame'>\n",
      "RangeIndex: 15334 entries, 0 to 15333\n",
      "Data columns (total 11 columns):\n",
      " #   Column                               Non-Null Count  Dtype \n",
      "---  ------                               --------------  ----- \n",
      " 0   Geo Point                            15333 non-null  object\n",
      " 1   Geo Shape                            15333 non-null  object\n",
      " 2   Year                                 15334 non-null  int64 \n",
      " 3   Official Code State                  15334 non-null  int64 \n",
      " 4   Official Name State                  15334 non-null  object\n",
      " 5   Official Code Local Government Area  15334 non-null  object\n",
      " 6   Official Name Local Government Area  15334 non-null  object\n",
      " 7   Official Code Suburb                 15334 non-null  int64 \n",
      " 8   Official Name Suburb                 15334 non-null  object\n",
      " 9   Iso 3166-3 Area Code                 15334 non-null  object\n",
      " 10  Type                                 15334 non-null  object\n",
      "dtypes: int64(3), object(8)\n",
      "memory usage: 1.3+ MB\n"
     ]
    }
   ],
   "source": [
    "df.info()"
   ]
  },
  {
   "cell_type": "markdown",
   "metadata": {},
   "source": [
    "# Drop these columns from the dataset 'Iso 3166-3 Area Code' , 'Year', 'Type'"
   ]
  },
  {
   "cell_type": "code",
   "execution_count": 788,
   "metadata": {},
   "outputs": [
    {
     "data": {
      "text/plain": [
       "1"
      ]
     },
     "execution_count": 788,
     "metadata": {},
     "output_type": "execute_result"
    }
   ],
   "source": [
    "df['Iso 3166-3 Area Code'].nunique()"
   ]
  },
  {
   "cell_type": "code",
   "execution_count": 789,
   "metadata": {},
   "outputs": [
    {
     "data": {
      "text/plain": [
       "1"
      ]
     },
     "execution_count": 789,
     "metadata": {},
     "output_type": "execute_result"
    }
   ],
   "source": [
    "df['Year'].nunique()"
   ]
  },
  {
   "cell_type": "code",
   "execution_count": 790,
   "metadata": {},
   "outputs": [
    {
     "data": {
      "text/plain": [
       "1"
      ]
     },
     "execution_count": 790,
     "metadata": {},
     "output_type": "execute_result"
    }
   ],
   "source": [
    "df['Type'].nunique()"
   ]
  },
  {
   "cell_type": "code",
   "execution_count": 791,
   "metadata": {},
   "outputs": [],
   "source": [
    "df.drop(['Iso 3166-3 Area Code', 'Year', 'Type'], axis=1, inplace=True)"
   ]
  },
  {
   "cell_type": "code",
   "execution_count": 792,
   "metadata": {},
   "outputs": [
    {
     "data": {
      "text/plain": [
       "Index(['Geo Point', 'Geo Shape', 'Official Code State', 'Official Name State',\n",
       "       'Official Code Local Government Area',\n",
       "       'Official Name Local Government Area', 'Official Code Suburb',\n",
       "       'Official Name Suburb'],\n",
       "      dtype='object')"
      ]
     },
     "execution_count": 792,
     "metadata": {},
     "output_type": "execute_result"
    }
   ],
   "source": [
    "df.columns"
   ]
  },
  {
   "cell_type": "code",
   "execution_count": 793,
   "metadata": {},
   "outputs": [
    {
     "data": {
      "text/html": [
       "<div>\n",
       "<style scoped>\n",
       "    .dataframe tbody tr th:only-of-type {\n",
       "        vertical-align: middle;\n",
       "    }\n",
       "\n",
       "    .dataframe tbody tr th {\n",
       "        vertical-align: top;\n",
       "    }\n",
       "\n",
       "    .dataframe thead th {\n",
       "        text-align: right;\n",
       "    }\n",
       "</style>\n",
       "<table border=\"1\" class=\"dataframe\">\n",
       "  <thead>\n",
       "    <tr style=\"text-align: right;\">\n",
       "      <th></th>\n",
       "      <th>Geo Point</th>\n",
       "      <th>Geo Shape</th>\n",
       "      <th>Official Code State</th>\n",
       "      <th>Official Name State</th>\n",
       "      <th>Official Code Local Government Area</th>\n",
       "      <th>Official Name Local Government Area</th>\n",
       "      <th>Official Code Suburb</th>\n",
       "      <th>Official Name Suburb</th>\n",
       "    </tr>\n",
       "  </thead>\n",
       "  <tbody>\n",
       "    <tr>\n",
       "      <th>0</th>\n",
       "      <td>-36.01193158762528, 148.786320441595</td>\n",
       "      <td>{\"coordinates\":[[[148.71675360000006,-36.06054...</td>\n",
       "      <td>1</td>\n",
       "      <td>New South Wales</td>\n",
       "      <td>17040</td>\n",
       "      <td>Snowy Monaro Regional</td>\n",
       "      <td>10015</td>\n",
       "      <td>Adaminaby</td>\n",
       "    </tr>\n",
       "    <tr>\n",
       "      <th>1</th>\n",
       "      <td>-36.07369799464406, 146.91346780765934</td>\n",
       "      <td>{\"coordinates\":[[[146.92431042300007,-36.08614...</td>\n",
       "      <td>1</td>\n",
       "      <td>New South Wales</td>\n",
       "      <td>10050</td>\n",
       "      <td>Albury</td>\n",
       "      <td>10027</td>\n",
       "      <td>Albury</td>\n",
       "    </tr>\n",
       "    <tr>\n",
       "      <th>2</th>\n",
       "      <td>-32.91425516102453, 148.26802074020546</td>\n",
       "      <td>{\"coordinates\":[[[148.19998799900006,-32.96692...</td>\n",
       "      <td>1</td>\n",
       "      <td>New South Wales</td>\n",
       "      <td>16200</td>\n",
       "      <td>Parkes</td>\n",
       "      <td>10029</td>\n",
       "      <td>Alectown</td>\n",
       "    </tr>\n",
       "    <tr>\n",
       "      <th>3</th>\n",
       "      <td>-34.40869358826243, 150.53677066431447</td>\n",
       "      <td>{\"coordinates\":[[[150.5122384670001,-34.422367...</td>\n",
       "      <td>1</td>\n",
       "      <td>New South Wales</td>\n",
       "      <td>18350</td>\n",
       "      <td>Wingecarribee</td>\n",
       "      <td>10044</td>\n",
       "      <td>Alpine</td>\n",
       "    </tr>\n",
       "    <tr>\n",
       "      <th>4</th>\n",
       "      <td>-34.91797895821861, 145.6572484339588</td>\n",
       "      <td>{\"coordinates\":[[[145.66848513900004,-35.01702...</td>\n",
       "      <td>1</td>\n",
       "      <td>New South Wales</td>\n",
       "      <td>15560</td>\n",
       "      <td>Murrumbidgee</td>\n",
       "      <td>10081</td>\n",
       "      <td>Argoon</td>\n",
       "    </tr>\n",
       "  </tbody>\n",
       "</table>\n",
       "</div>"
      ],
      "text/plain": [
       "                                Geo Point  \\\n",
       "0    -36.01193158762528, 148.786320441595   \n",
       "1  -36.07369799464406, 146.91346780765934   \n",
       "2  -32.91425516102453, 148.26802074020546   \n",
       "3  -34.40869358826243, 150.53677066431447   \n",
       "4   -34.91797895821861, 145.6572484339588   \n",
       "\n",
       "                                           Geo Shape  Official Code State  \\\n",
       "0  {\"coordinates\":[[[148.71675360000006,-36.06054...                    1   \n",
       "1  {\"coordinates\":[[[146.92431042300007,-36.08614...                    1   \n",
       "2  {\"coordinates\":[[[148.19998799900006,-32.96692...                    1   \n",
       "3  {\"coordinates\":[[[150.5122384670001,-34.422367...                    1   \n",
       "4  {\"coordinates\":[[[145.66848513900004,-35.01702...                    1   \n",
       "\n",
       "  Official Name State Official Code Local Government Area  \\\n",
       "0     New South Wales                               17040   \n",
       "1     New South Wales                               10050   \n",
       "2     New South Wales                               16200   \n",
       "3     New South Wales                               18350   \n",
       "4     New South Wales                               15560   \n",
       "\n",
       "  Official Name Local Government Area  Official Code Suburb  \\\n",
       "0               Snowy Monaro Regional                 10015   \n",
       "1                              Albury                 10027   \n",
       "2                              Parkes                 10029   \n",
       "3                       Wingecarribee                 10044   \n",
       "4                        Murrumbidgee                 10081   \n",
       "\n",
       "  Official Name Suburb  \n",
       "0            Adaminaby  \n",
       "1               Albury  \n",
       "2             Alectown  \n",
       "3               Alpine  \n",
       "4               Argoon  "
      ]
     },
     "execution_count": 793,
     "metadata": {},
     "output_type": "execute_result"
    }
   ],
   "source": [
    "df.head()"
   ]
  },
  {
   "cell_type": "code",
   "execution_count": 794,
   "metadata": {},
   "outputs": [
    {
     "data": {
      "text/plain": [
       "Official Name Suburb\n",
       "Adaminaby             1\n",
       "Safety Beach (NSW)    1\n",
       "Peacock Creek         1\n",
       "Peak Hill (NSW)       1\n",
       "Peak View             1\n",
       "                     ..\n",
       "Kudla                 1\n",
       "Kybybolite            1\n",
       "Lake Alexandrina      1\n",
       "Leasingham            1\n",
       "O'Connor (ACT)        1\n",
       "Name: count, Length: 15334, dtype: int64"
      ]
     },
     "execution_count": 794,
     "metadata": {},
     "output_type": "execute_result"
    }
   ],
   "source": [
    "df['Official Name Suburb'].value_counts()"
   ]
  },
  {
   "cell_type": "code",
   "execution_count": 795,
   "metadata": {},
   "outputs": [
    {
     "data": {
      "text/plain": [
       "15334"
      ]
     },
     "execution_count": 795,
     "metadata": {},
     "output_type": "execute_result"
    }
   ],
   "source": [
    "df['Official Name Suburb'].count()"
   ]
  },
  {
   "cell_type": "code",
   "execution_count": 796,
   "metadata": {},
   "outputs": [
    {
     "data": {
      "text/plain": [
       "1294"
      ]
     },
     "execution_count": 796,
     "metadata": {},
     "output_type": "execute_result"
    }
   ],
   "source": [
    "df['Official Name Local Government Area'].nunique()"
   ]
  },
  {
   "cell_type": "code",
   "execution_count": 797,
   "metadata": {},
   "outputs": [
    {
     "data": {
      "text/html": [
       "<div>\n",
       "<style scoped>\n",
       "    .dataframe tbody tr th:only-of-type {\n",
       "        vertical-align: middle;\n",
       "    }\n",
       "\n",
       "    .dataframe tbody tr th {\n",
       "        vertical-align: top;\n",
       "    }\n",
       "\n",
       "    .dataframe thead th {\n",
       "        text-align: right;\n",
       "    }\n",
       "</style>\n",
       "<table border=\"1\" class=\"dataframe\">\n",
       "  <thead>\n",
       "    <tr style=\"text-align: right;\">\n",
       "      <th></th>\n",
       "      <th>Geo Point</th>\n",
       "      <th>Geo Shape</th>\n",
       "      <th>Official Code State</th>\n",
       "      <th>Official Name State</th>\n",
       "      <th>Official Code Local Government Area</th>\n",
       "      <th>Official Name Local Government Area</th>\n",
       "      <th>Official Code Suburb</th>\n",
       "      <th>Official Name Suburb</th>\n",
       "    </tr>\n",
       "  </thead>\n",
       "  <tbody>\n",
       "    <tr>\n",
       "      <th>0</th>\n",
       "      <td>-36.01193158762528, 148.786320441595</td>\n",
       "      <td>{\"coordinates\":[[[148.71675360000006,-36.06054...</td>\n",
       "      <td>1</td>\n",
       "      <td>New South Wales</td>\n",
       "      <td>17040</td>\n",
       "      <td>Snowy Monaro Regional</td>\n",
       "      <td>10015</td>\n",
       "      <td>Adaminaby</td>\n",
       "    </tr>\n",
       "    <tr>\n",
       "      <th>1</th>\n",
       "      <td>-36.07369799464406, 146.91346780765934</td>\n",
       "      <td>{\"coordinates\":[[[146.92431042300007,-36.08614...</td>\n",
       "      <td>1</td>\n",
       "      <td>New South Wales</td>\n",
       "      <td>10050</td>\n",
       "      <td>Albury</td>\n",
       "      <td>10027</td>\n",
       "      <td>Albury</td>\n",
       "    </tr>\n",
       "    <tr>\n",
       "      <th>2</th>\n",
       "      <td>-32.91425516102453, 148.26802074020546</td>\n",
       "      <td>{\"coordinates\":[[[148.19998799900006,-32.96692...</td>\n",
       "      <td>1</td>\n",
       "      <td>New South Wales</td>\n",
       "      <td>16200</td>\n",
       "      <td>Parkes</td>\n",
       "      <td>10029</td>\n",
       "      <td>Alectown</td>\n",
       "    </tr>\n",
       "    <tr>\n",
       "      <th>3</th>\n",
       "      <td>-34.40869358826243, 150.53677066431447</td>\n",
       "      <td>{\"coordinates\":[[[150.5122384670001,-34.422367...</td>\n",
       "      <td>1</td>\n",
       "      <td>New South Wales</td>\n",
       "      <td>18350</td>\n",
       "      <td>Wingecarribee</td>\n",
       "      <td>10044</td>\n",
       "      <td>Alpine</td>\n",
       "    </tr>\n",
       "    <tr>\n",
       "      <th>4</th>\n",
       "      <td>-34.91797895821861, 145.6572484339588</td>\n",
       "      <td>{\"coordinates\":[[[145.66848513900004,-35.01702...</td>\n",
       "      <td>1</td>\n",
       "      <td>New South Wales</td>\n",
       "      <td>15560</td>\n",
       "      <td>Murrumbidgee</td>\n",
       "      <td>10081</td>\n",
       "      <td>Argoon</td>\n",
       "    </tr>\n",
       "  </tbody>\n",
       "</table>\n",
       "</div>"
      ],
      "text/plain": [
       "                                Geo Point  \\\n",
       "0    -36.01193158762528, 148.786320441595   \n",
       "1  -36.07369799464406, 146.91346780765934   \n",
       "2  -32.91425516102453, 148.26802074020546   \n",
       "3  -34.40869358826243, 150.53677066431447   \n",
       "4   -34.91797895821861, 145.6572484339588   \n",
       "\n",
       "                                           Geo Shape  Official Code State  \\\n",
       "0  {\"coordinates\":[[[148.71675360000006,-36.06054...                    1   \n",
       "1  {\"coordinates\":[[[146.92431042300007,-36.08614...                    1   \n",
       "2  {\"coordinates\":[[[148.19998799900006,-32.96692...                    1   \n",
       "3  {\"coordinates\":[[[150.5122384670001,-34.422367...                    1   \n",
       "4  {\"coordinates\":[[[145.66848513900004,-35.01702...                    1   \n",
       "\n",
       "  Official Name State Official Code Local Government Area  \\\n",
       "0     New South Wales                               17040   \n",
       "1     New South Wales                               10050   \n",
       "2     New South Wales                               16200   \n",
       "3     New South Wales                               18350   \n",
       "4     New South Wales                               15560   \n",
       "\n",
       "  Official Name Local Government Area  Official Code Suburb  \\\n",
       "0               Snowy Monaro Regional                 10015   \n",
       "1                              Albury                 10027   \n",
       "2                              Parkes                 10029   \n",
       "3                       Wingecarribee                 10044   \n",
       "4                        Murrumbidgee                 10081   \n",
       "\n",
       "  Official Name Suburb  \n",
       "0            Adaminaby  \n",
       "1               Albury  \n",
       "2             Alectown  \n",
       "3               Alpine  \n",
       "4               Argoon  "
      ]
     },
     "execution_count": 797,
     "metadata": {},
     "output_type": "execute_result"
    }
   ],
   "source": [
    "df.head()"
   ]
  },
  {
   "cell_type": "code",
   "execution_count": 798,
   "metadata": {},
   "outputs": [
    {
     "name": "stdout",
     "output_type": "stream",
     "text": [
      "Geo Point\n",
      "Geo Shape\n",
      "Official Code State\n",
      "Official Name State\n",
      "Official Code Local Government Area\n",
      "Official Name Local Government Area\n",
      "Official Code Suburb\n",
      "Official Name Suburb\n"
     ]
    }
   ],
   "source": [
    "columns = df.columns\n",
    "for i in columns:\n",
    "    print(i)"
   ]
  },
  {
   "cell_type": "markdown",
   "metadata": {},
   "source": [
    "# Rename all the columns according to mysql database "
   ]
  },
  {
   "cell_type": "code",
   "execution_count": 799,
   "metadata": {},
   "outputs": [],
   "source": [
    "df.rename(columns={'Geo Point':\"geo_point\", \n",
    "                   \"Geo Shape\":\"geo_shape\", \n",
    "                   \"Official Code State\":\"stateid\", \n",
    "                   \"Official Name State\":\"statename\", \n",
    "                   \"Official Code Local Government Area\":\"cityid\", \n",
    "                   \"Official Name Local Government Area\":\"cityname\", \n",
    "                   \"Official Code Suburb\":\"suburbid\", \n",
    "                   \"Official Name Suburb\":\"suburbname\"}, inplace=True)"
   ]
  },
  {
   "cell_type": "code",
   "execution_count": 800,
   "metadata": {},
   "outputs": [
    {
     "name": "stdout",
     "output_type": "stream",
     "text": [
      "geo_point\n",
      "geo_shape\n",
      "stateid\n",
      "statename\n",
      "cityid\n",
      "cityname\n",
      "suburbid\n",
      "suburbname\n"
     ]
    }
   ],
   "source": [
    "columns = df.columns\n",
    "for i in columns:\n",
    "    print(i)"
   ]
  },
  {
   "cell_type": "code",
   "execution_count": 801,
   "metadata": {},
   "outputs": [
    {
     "data": {
      "text/plain": [
       "geo_point     object\n",
       "geo_shape     object\n",
       "stateid        int64\n",
       "statename     object\n",
       "cityid        object\n",
       "cityname      object\n",
       "suburbid       int64\n",
       "suburbname    object\n",
       "dtype: object"
      ]
     },
     "execution_count": 801,
     "metadata": {},
     "output_type": "execute_result"
    }
   ],
   "source": [
    "df.dtypes"
   ]
  },
  {
   "cell_type": "markdown",
   "metadata": {},
   "source": [
    "# Rearrange the dataset"
   ]
  },
  {
   "cell_type": "code",
   "execution_count": 802,
   "metadata": {},
   "outputs": [
    {
     "data": {
      "text/html": [
       "<div>\n",
       "<style scoped>\n",
       "    .dataframe tbody tr th:only-of-type {\n",
       "        vertical-align: middle;\n",
       "    }\n",
       "\n",
       "    .dataframe tbody tr th {\n",
       "        vertical-align: top;\n",
       "    }\n",
       "\n",
       "    .dataframe thead th {\n",
       "        text-align: right;\n",
       "    }\n",
       "</style>\n",
       "<table border=\"1\" class=\"dataframe\">\n",
       "  <thead>\n",
       "    <tr style=\"text-align: right;\">\n",
       "      <th></th>\n",
       "      <th>stateid</th>\n",
       "      <th>statename</th>\n",
       "      <th>cityid</th>\n",
       "      <th>cityname</th>\n",
       "      <th>suburbid</th>\n",
       "      <th>suburbname</th>\n",
       "      <th>geo_point</th>\n",
       "      <th>geo_shape</th>\n",
       "    </tr>\n",
       "  </thead>\n",
       "  <tbody>\n",
       "    <tr>\n",
       "      <th>0</th>\n",
       "      <td>1</td>\n",
       "      <td>New South Wales</td>\n",
       "      <td>17040</td>\n",
       "      <td>Snowy Monaro Regional</td>\n",
       "      <td>10015</td>\n",
       "      <td>Adaminaby</td>\n",
       "      <td>-36.01193158762528, 148.786320441595</td>\n",
       "      <td>{\"coordinates\":[[[148.71675360000006,-36.06054...</td>\n",
       "    </tr>\n",
       "    <tr>\n",
       "      <th>1</th>\n",
       "      <td>1</td>\n",
       "      <td>New South Wales</td>\n",
       "      <td>10050</td>\n",
       "      <td>Albury</td>\n",
       "      <td>10027</td>\n",
       "      <td>Albury</td>\n",
       "      <td>-36.07369799464406, 146.91346780765934</td>\n",
       "      <td>{\"coordinates\":[[[146.92431042300007,-36.08614...</td>\n",
       "    </tr>\n",
       "    <tr>\n",
       "      <th>2</th>\n",
       "      <td>1</td>\n",
       "      <td>New South Wales</td>\n",
       "      <td>16200</td>\n",
       "      <td>Parkes</td>\n",
       "      <td>10029</td>\n",
       "      <td>Alectown</td>\n",
       "      <td>-32.91425516102453, 148.26802074020546</td>\n",
       "      <td>{\"coordinates\":[[[148.19998799900006,-32.96692...</td>\n",
       "    </tr>\n",
       "    <tr>\n",
       "      <th>3</th>\n",
       "      <td>1</td>\n",
       "      <td>New South Wales</td>\n",
       "      <td>18350</td>\n",
       "      <td>Wingecarribee</td>\n",
       "      <td>10044</td>\n",
       "      <td>Alpine</td>\n",
       "      <td>-34.40869358826243, 150.53677066431447</td>\n",
       "      <td>{\"coordinates\":[[[150.5122384670001,-34.422367...</td>\n",
       "    </tr>\n",
       "    <tr>\n",
       "      <th>4</th>\n",
       "      <td>1</td>\n",
       "      <td>New South Wales</td>\n",
       "      <td>15560</td>\n",
       "      <td>Murrumbidgee</td>\n",
       "      <td>10081</td>\n",
       "      <td>Argoon</td>\n",
       "      <td>-34.91797895821861, 145.6572484339588</td>\n",
       "      <td>{\"coordinates\":[[[145.66848513900004,-35.01702...</td>\n",
       "    </tr>\n",
       "    <tr>\n",
       "      <th>...</th>\n",
       "      <td>...</td>\n",
       "      <td>...</td>\n",
       "      <td>...</td>\n",
       "      <td>...</td>\n",
       "      <td>...</td>\n",
       "      <td>...</td>\n",
       "      <td>...</td>\n",
       "      <td>...</td>\n",
       "    </tr>\n",
       "    <tr>\n",
       "      <th>15329</th>\n",
       "      <td>8</td>\n",
       "      <td>Australian Capital Territory</td>\n",
       "      <td>89399</td>\n",
       "      <td>Unincorporated ACT</td>\n",
       "      <td>80023</td>\n",
       "      <td>Beard</td>\n",
       "      <td>-35.341729402139414, 149.2105302094079</td>\n",
       "      <td>{\"coordinates\":[[[149.21876130200005,-35.34132...</td>\n",
       "    </tr>\n",
       "    <tr>\n",
       "      <th>15330</th>\n",
       "      <td>8</td>\n",
       "      <td>Australian Capital Territory</td>\n",
       "      <td>89399</td>\n",
       "      <td>Unincorporated ACT</td>\n",
       "      <td>80028</td>\n",
       "      <td>Bruce (ACT)</td>\n",
       "      <td>-35.24548030806253, 149.09155194266856</td>\n",
       "      <td>{\"coordinates\":[[[149.09199952500012,-35.23483...</td>\n",
       "    </tr>\n",
       "    <tr>\n",
       "      <th>15331</th>\n",
       "      <td>8</td>\n",
       "      <td>Australian Capital Territory</td>\n",
       "      <td>89399</td>\n",
       "      <td>Unincorporated ACT</td>\n",
       "      <td>80037</td>\n",
       "      <td>Chisholm (ACT)</td>\n",
       "      <td>-35.42196479042136, 149.12491232833983</td>\n",
       "      <td>{\"coordinates\":[[[149.114427619,-35.4162914309...</td>\n",
       "    </tr>\n",
       "    <tr>\n",
       "      <th>15332</th>\n",
       "      <td>8</td>\n",
       "      <td>Australian Capital Territory</td>\n",
       "      <td>89399</td>\n",
       "      <td>Unincorporated ACT</td>\n",
       "      <td>80038</td>\n",
       "      <td>City</td>\n",
       "      <td>-35.281329376797565, 149.12913206614766</td>\n",
       "      <td>{\"coordinates\":[[[149.12790347300006,-35.28601...</td>\n",
       "    </tr>\n",
       "    <tr>\n",
       "      <th>15333</th>\n",
       "      <td>8</td>\n",
       "      <td>Australian Capital Territory</td>\n",
       "      <td>89399</td>\n",
       "      <td>Unincorporated ACT</td>\n",
       "      <td>80102</td>\n",
       "      <td>O'Connor (ACT)</td>\n",
       "      <td>-35.256640856045756, 149.11555601657275</td>\n",
       "      <td>{\"coordinates\":[[[149.11397424100005,-35.24369...</td>\n",
       "    </tr>\n",
       "  </tbody>\n",
       "</table>\n",
       "<p>15334 rows × 8 columns</p>\n",
       "</div>"
      ],
      "text/plain": [
       "       stateid                     statename cityid               cityname  \\\n",
       "0            1               New South Wales  17040  Snowy Monaro Regional   \n",
       "1            1               New South Wales  10050                 Albury   \n",
       "2            1               New South Wales  16200                 Parkes   \n",
       "3            1               New South Wales  18350          Wingecarribee   \n",
       "4            1               New South Wales  15560           Murrumbidgee   \n",
       "...        ...                           ...    ...                    ...   \n",
       "15329        8  Australian Capital Territory  89399     Unincorporated ACT   \n",
       "15330        8  Australian Capital Territory  89399     Unincorporated ACT   \n",
       "15331        8  Australian Capital Territory  89399     Unincorporated ACT   \n",
       "15332        8  Australian Capital Territory  89399     Unincorporated ACT   \n",
       "15333        8  Australian Capital Territory  89399     Unincorporated ACT   \n",
       "\n",
       "       suburbid      suburbname                                geo_point  \\\n",
       "0         10015       Adaminaby     -36.01193158762528, 148.786320441595   \n",
       "1         10027          Albury   -36.07369799464406, 146.91346780765934   \n",
       "2         10029        Alectown   -32.91425516102453, 148.26802074020546   \n",
       "3         10044          Alpine   -34.40869358826243, 150.53677066431447   \n",
       "4         10081          Argoon    -34.91797895821861, 145.6572484339588   \n",
       "...         ...             ...                                      ...   \n",
       "15329     80023           Beard   -35.341729402139414, 149.2105302094079   \n",
       "15330     80028     Bruce (ACT)   -35.24548030806253, 149.09155194266856   \n",
       "15331     80037  Chisholm (ACT)   -35.42196479042136, 149.12491232833983   \n",
       "15332     80038            City  -35.281329376797565, 149.12913206614766   \n",
       "15333     80102  O'Connor (ACT)  -35.256640856045756, 149.11555601657275   \n",
       "\n",
       "                                               geo_shape  \n",
       "0      {\"coordinates\":[[[148.71675360000006,-36.06054...  \n",
       "1      {\"coordinates\":[[[146.92431042300007,-36.08614...  \n",
       "2      {\"coordinates\":[[[148.19998799900006,-32.96692...  \n",
       "3      {\"coordinates\":[[[150.5122384670001,-34.422367...  \n",
       "4      {\"coordinates\":[[[145.66848513900004,-35.01702...  \n",
       "...                                                  ...  \n",
       "15329  {\"coordinates\":[[[149.21876130200005,-35.34132...  \n",
       "15330  {\"coordinates\":[[[149.09199952500012,-35.23483...  \n",
       "15331  {\"coordinates\":[[[149.114427619,-35.4162914309...  \n",
       "15332  {\"coordinates\":[[[149.12790347300006,-35.28601...  \n",
       "15333  {\"coordinates\":[[[149.11397424100005,-35.24369...  \n",
       "\n",
       "[15334 rows x 8 columns]"
      ]
     },
     "execution_count": 802,
     "metadata": {},
     "output_type": "execute_result"
    }
   ],
   "source": [
    "df = df[['stateid','statename','cityid' , 'cityname','suburbid', 'suburbname', 'geo_point', 'geo_shape']] \n",
    "df"
   ]
  },
  {
   "cell_type": "markdown",
   "metadata": {},
   "source": [
    "# Drope the geo_shape column from the dataset"
   ]
  },
  {
   "cell_type": "code",
   "execution_count": 803,
   "metadata": {},
   "outputs": [],
   "source": [
    "df.drop('geo_shape', axis=1, inplace = True)"
   ]
  },
  {
   "cell_type": "markdown",
   "metadata": {},
   "source": [
    "# Change the statename with its short form"
   ]
  },
  {
   "cell_type": "code",
   "execution_count": 804,
   "metadata": {},
   "outputs": [
    {
     "name": "stdout",
     "output_type": "stream",
     "text": [
      "New South Wales\n",
      "Victoria\n",
      "Queensland\n",
      "South Australia\n",
      "Western Australia\n",
      "Northern Territory, Western Australia\n",
      "Tasmania\n",
      "Northern Territory\n",
      "Australian Capital Territory\n",
      "New South Wales, Victoria\n",
      "South Australia, Victoria\n",
      "South Australia, Western Australia\n",
      "Other Territories\n",
      "Northern Territory, Queensland\n",
      "Australian Capital Territory, New South Wales\n",
      "New South Wales, South Australia\n",
      "New South Wales, Queensland\n",
      "Northern Territory, South Australia, Western Australia\n"
     ]
    }
   ],
   "source": [
    "names = df['statename'].unique()\n",
    "for i in names:\n",
    "    print(i)"
   ]
  },
  {
   "cell_type": "code",
   "execution_count": 805,
   "metadata": {},
   "outputs": [],
   "source": [
    "state_short_form = {\n",
    "    'New South Wales': 'NSW',\n",
    "    'Victoria': 'Vic',\n",
    "    'Queensland': 'Qld',\n",
    "    'South Australia': 'SA',\n",
    "    'Western Australia': 'WA',\n",
    "    'Northern Territory, Western Australia': 'NT, WA',\n",
    "    'Tasmania': 'Tas',\n",
    "    'Northern Territory': 'NT',\n",
    "    'Australian Capital Territory': 'ACT',\n",
    "    'New South Wales, Victoria': 'NSW, Vic',\n",
    "    'South Australia, Victoria': 'SA, Vic',\n",
    "    'South Australia, Western Australia': 'SA, WA',\n",
    "    'Other Territories': 'OT',\n",
    "    'Northern Territory, Queensland': 'NT, Qld',\n",
    "    'Australian Capital Territory, New South Wales': 'ACT, NSW',\n",
    "    'New South Wales, South Australia': 'NSW, SA',\n",
    "    'New South Wales, Queensland': 'NSW, Qld',\n",
    "    'Northern Territory, South Australia, Western Australia': 'NT, SA, WA'\n",
    "\n",
    "}"
   ]
  },
  {
   "cell_type": "code",
   "execution_count": 806,
   "metadata": {},
   "outputs": [],
   "source": [
    "df['statename'] = df['statename'].map(state_short_form)"
   ]
  },
  {
   "cell_type": "code",
   "execution_count": 807,
   "metadata": {},
   "outputs": [
    {
     "data": {
      "text/plain": [
       "statename\n",
       "NSW           4525\n",
       "Qld           3229\n",
       "Vic           2940\n",
       "WA            1697\n",
       "SA            1692\n",
       "Tas            776\n",
       "NT             302\n",
       "ACT            136\n",
       "NSW, Vic         9\n",
       "NSW, Qld         7\n",
       "OT               5\n",
       "ACT, NSW         4\n",
       "NT, WA           3\n",
       "SA, Vic          3\n",
       "NT, Qld          2\n",
       "NSW, SA          2\n",
       "SA, WA           1\n",
       "NT, SA, WA       1\n",
       "Name: count, dtype: int64"
      ]
     },
     "execution_count": 807,
     "metadata": {},
     "output_type": "execute_result"
    }
   ],
   "source": [
    "df['statename'].value_counts()"
   ]
  },
  {
   "cell_type": "code",
   "execution_count": 808,
   "metadata": {},
   "outputs": [
    {
     "data": {
      "text/plain": [
       "stateid\n",
       "1    4542\n",
       "3    3233\n",
       "2    2945\n",
       "5    1700\n",
       "4    1694\n",
       "6     776\n",
       "7     303\n",
       "8     136\n",
       "9       5\n",
       "Name: count, dtype: int64"
      ]
     },
     "execution_count": 808,
     "metadata": {},
     "output_type": "execute_result"
    }
   ],
   "source": [
    "df['stateid'].value_counts()"
   ]
  },
  {
   "cell_type": "code",
   "execution_count": 809,
   "metadata": {},
   "outputs": [
    {
     "data": {
      "text/plain": [
       "0"
      ]
     },
     "execution_count": 809,
     "metadata": {},
     "output_type": "execute_result"
    }
   ],
   "source": [
    "df['cityid'].isnull().sum()"
   ]
  },
  {
   "cell_type": "code",
   "execution_count": 810,
   "metadata": {},
   "outputs": [
    {
     "data": {
      "text/plain": [
       "cityid\n",
       "36910                                215\n",
       "15240                                191\n",
       "31000                                190\n",
       "11650                                149\n",
       "11730                                147\n",
       "                                    ... \n",
       "62410, 64610, 65010                    1\n",
       "10300, 11600, 13850                    1\n",
       "10180, 13660, 14220, 17310, 17650      1\n",
       "12150, 15750, 17900                    1\n",
       "70420                                  1\n",
       "Name: count, Length: 1319, dtype: int64"
      ]
     },
     "execution_count": 810,
     "metadata": {},
     "output_type": "execute_result"
    }
   ],
   "source": [
    "df['cityid'].value_counts()"
   ]
  },
  {
   "cell_type": "code",
   "execution_count": 811,
   "metadata": {},
   "outputs": [
    {
     "data": {
      "text/plain": [
       "0        17040\n",
       "1        10050\n",
       "2        16200\n",
       "3        18350\n",
       "4        15560\n",
       "         ...  \n",
       "15329    89399\n",
       "15330    89399\n",
       "15331    89399\n",
       "15332    89399\n",
       "15333    89399\n",
       "Name: cityid, Length: 15334, dtype: Int64"
      ]
     },
     "execution_count": 811,
     "metadata": {},
     "output_type": "execute_result"
    }
   ],
   "source": [
    "df['cityid'] = df['cityid'].astype(str).str.split(',').str[0]\n",
    "df['cityid'].astype('Int64')"
   ]
  },
  {
   "cell_type": "code",
   "execution_count": 812,
   "metadata": {},
   "outputs": [
    {
     "data": {
      "text/plain": [
       "0"
      ]
     },
     "execution_count": 812,
     "metadata": {},
     "output_type": "execute_result"
    }
   ],
   "source": [
    "df['cityid'].isnull().sum()"
   ]
  },
  {
   "cell_type": "code",
   "execution_count": 813,
   "metadata": {},
   "outputs": [
    {
     "data": {
      "text/plain": [
       "15334"
      ]
     },
     "execution_count": 813,
     "metadata": {},
     "output_type": "execute_result"
    }
   ],
   "source": [
    "df['suburbid'].nunique()"
   ]
  },
  {
   "cell_type": "code",
   "execution_count": 814,
   "metadata": {},
   "outputs": [
    {
     "data": {
      "text/html": [
       "<div>\n",
       "<style scoped>\n",
       "    .dataframe tbody tr th:only-of-type {\n",
       "        vertical-align: middle;\n",
       "    }\n",
       "\n",
       "    .dataframe tbody tr th {\n",
       "        vertical-align: top;\n",
       "    }\n",
       "\n",
       "    .dataframe thead th {\n",
       "        text-align: right;\n",
       "    }\n",
       "</style>\n",
       "<table border=\"1\" class=\"dataframe\">\n",
       "  <thead>\n",
       "    <tr style=\"text-align: right;\">\n",
       "      <th></th>\n",
       "      <th>stateid</th>\n",
       "      <th>statename</th>\n",
       "      <th>cityid</th>\n",
       "      <th>cityname</th>\n",
       "      <th>suburbid</th>\n",
       "      <th>suburbname</th>\n",
       "      <th>geo_point</th>\n",
       "    </tr>\n",
       "  </thead>\n",
       "  <tbody>\n",
       "    <tr>\n",
       "      <th>14768</th>\n",
       "      <td>1</td>\n",
       "      <td>NSW</td>\n",
       "      <td>12700</td>\n",
       "      <td>Dungog</td>\n",
       "      <td>10765</td>\n",
       "      <td>Cambra</td>\n",
       "      <td>-32.45123917631323, 151.8649024812341</td>\n",
       "    </tr>\n",
       "  </tbody>\n",
       "</table>\n",
       "</div>"
      ],
      "text/plain": [
       "       stateid statename cityid cityname  suburbid suburbname  \\\n",
       "14768        1       NSW  12700   Dungog     10765     Cambra   \n",
       "\n",
       "                                   geo_point  \n",
       "14768  -32.45123917631323, 151.8649024812341  "
      ]
     },
     "execution_count": 814,
     "metadata": {},
     "output_type": "execute_result"
    }
   ],
   "source": [
    "df[df['suburbname'] == 'Cambra']"
   ]
  },
  {
   "cell_type": "code",
   "execution_count": 815,
   "metadata": {},
   "outputs": [
    {
     "name": "stdout",
     "output_type": "stream",
     "text": [
      "17040\n",
      "10050\n",
      "16200\n",
      "18350\n",
      "15560\n",
      "10300\n",
      "16380\n",
      "17640\n",
      "11650\n",
      "13910\n",
      "15050\n",
      "15240\n",
      "10800\n",
      "15270\n",
      "14920\n",
      "11400\n",
      "17080\n",
      "15900\n",
      "19399\n",
      "14550\n",
      "12750\n",
      "15850\n",
      "12850\n",
      "14170\n",
      "14650\n",
      "17200\n",
      "10950\n",
      "11350\n",
      "14850\n",
      "13660\n",
      "15950\n",
      "12160\n",
      "12390\n",
      "16700\n",
      "16260\n",
      "16400\n",
      "10850\n",
      "14400\n",
      "17550\n",
      "15990\n",
      "10550\n",
      "11150\n",
      "13850\n",
      "15700\n",
      "14300\n",
      "16100\n",
      "16490\n",
      "11730\n",
      "16950\n",
      "11720\n",
      "18450\n",
      "10500\n",
      "12930\n",
      "18400\n",
      "10900\n",
      "12730\n",
      "18250\n",
      "12870\n",
      "13010\n",
      "13550\n",
      "11450\n",
      "10600\n",
      "17000\n",
      "10750\n",
      "13800\n",
      "17350\n",
      "10470\n",
      "16610\n",
      "17150\n",
      "12700\n",
      "13310\n",
      "17750\n",
      "14220\n",
      "18200\n",
      "17400\n",
      "15520\n",
      "17850\n",
      "11600\n",
      "13450\n",
      "14500\n",
      "13340\n",
      "14950\n",
      "20830\n",
      "22830\n",
      "23940\n",
      "25990\n",
      "25340\n",
      "22250\n",
      "22750\n",
      "26980\n",
      "26260\n",
      "21010\n",
      "24900\n",
      "23270\n",
      "22620\n",
      "23430\n",
      "20570\n",
      "22110\n",
      "25620\n",
      "25710\n",
      "21670\n",
      "20260\n",
      "24850\n",
      "26890\n",
      "26170\n",
      "24780\n",
      "23810\n",
      "24250\n",
      "21750\n",
      "20660\n",
      "26490\n",
      "22980\n",
      "26610\n",
      "21610\n",
      "24330\n",
      "22310\n",
      "26700\n",
      "26810\n",
      "27450\n",
      "21370\n",
      "25250\n",
      "22490\n",
      "25490\n",
      "20740\n",
      "21110\n",
      "25810\n",
      "24970\n",
      "24600\n",
      "24210\n",
      "21270\n",
      "32270\n",
      "33220\n",
      "31820\n",
      "34770\n",
      "35760\n",
      "36720\n",
      "34590\n",
      "36630\n",
      "36910\n",
      "34860\n",
      "30760\n",
      "36660\n",
      "35010\n",
      "36510\n",
      "32260\n",
      "31000\n",
      "33980\n",
      "34580\n",
      "33610\n",
      "36250\n",
      "32310\n",
      "32810\n",
      "37010\n",
      "33360\n",
      "33620\n",
      "32080\n",
      "32250\n",
      "34880\n",
      "33960\n",
      "31900\n",
      "37310\n",
      "36580\n",
      "34420\n",
      "35740\n",
      "33800\n",
      "33430\n",
      "36370\n",
      "32500\n",
      "37340\n",
      "35600\n",
      "34800\n",
      "36820\n",
      "37550\n",
      "40430\n",
      "42750\n",
      "45120\n",
      "48830\n",
      "43790\n",
      "44210\n",
      "41140\n",
      "45340\n",
      "40310\n",
      "47800\n",
      "46450\n",
      "48130\n",
      "44340\n",
      "46090\n",
      "45290\n",
      "49399\n",
      "46670\n",
      "41830\n",
      "45090\n",
      "43650\n",
      "47630\n",
      "40220\n",
      "40700\n",
      "44060\n",
      "42250\n",
      "48410\n",
      "41960\n",
      "43080\n",
      "45040\n",
      "41750\n",
      "48750\n",
      "46510\n",
      "45890\n",
      "48340\n",
      "47490\n",
      "47910\n",
      "47700\n",
      "45400\n",
      "41010\n",
      "51890\n",
      "54310\n",
      "59370\n",
      "55320\n",
      "50080\n",
      "51330\n",
      "57490\n",
      "52240\n",
      "52450\n",
      "59170\n",
      "50770\n",
      "59030\n",
      "53360\n",
      "55110\n",
      "57280\n",
      "51400\n",
      "57770\n",
      "57910\n",
      "53920\n",
      "50840\n",
      "58570\n",
      "56790\n",
      "51610\n",
      "56730\n",
      "58610\n",
      "54550\n",
      "55950\n",
      "59100\n",
      "55390\n",
      "56860\n",
      "54280\n",
      "53780\n",
      "51540\n",
      "55250\n",
      "52520\n",
      "51680\n",
      "58330\n",
      "57350\n",
      "53010\n",
      "53220\n",
      "56230\n",
      "54830\n",
      "55810\n",
      "56300\n",
      "50210\n",
      "53710\n",
      "53800\n",
      "55460\n",
      "51820\n",
      "50560\n",
      "58190\n",
      "53290\n",
      "58760\n",
      "58540\n",
      "52590\n",
      "63210\n",
      "62010\n",
      "61810\n",
      "62610\n",
      "61210\n",
      "64610\n",
      "64010\n",
      "63410\n",
      "60810\n",
      "62210\n",
      "61410\n",
      "61510\n",
      "64210\n",
      "61010\n",
      "62410\n",
      "60610\n",
      "60210\n",
      "63810\n",
      "71000\n",
      "70200\n",
      "70700\n",
      "72300\n",
      "72330\n",
      "73600\n",
      "70420\n",
      "74550\n",
      "70620\n",
      "89399\n",
      "17650\n",
      "17620\n",
      "15300\n",
      "11750\n",
      "16550\n",
      "12150\n",
      "14870\n",
      "17900\n",
      "10250\n",
      "14350\n",
      "2642\n",
      "12380\n",
      "14600\n",
      "14900\n",
      "10650\n",
      "16150\n",
      "16900\n",
      "11520\n",
      "23110\n",
      "25150\n",
      "20910\n",
      "20110\n",
      "24130\n",
      "23350\n",
      "27260\n",
      "27350\n",
      "27070\n",
      "26430\n",
      "21450\n",
      "25430\n",
      "22410\n",
      "22910\n",
      "24650\n",
      "26080\n",
      "25900\n",
      "21830\n",
      "25060\n",
      "23190\n",
      "30370\n",
      "36960\n",
      "34530\n",
      "35300\n",
      "37600\n",
      "40120\n",
      "42110\n",
      "44830\n",
      "42030\n",
      "5291\n",
      "44620\n",
      "45680\n",
      "44000\n",
      "44550\n",
      "43360\n",
      "41060\n",
      "40250\n",
      "50910\n",
      "51260\n",
      "54060\n",
      "55600\n",
      "50980\n",
      "55180\n",
      "52870\n",
      "53570\n",
      "51310\n",
      "57980\n",
      "54170\n",
      "59310\n",
      "50280\n",
      "52030\n",
      "50250\n",
      "54690\n",
      "51470\n",
      "55040\n",
      "54760\n",
      "55530\n",
      "59340\n",
      "53640\n",
      "57210\n",
      "54130\n",
      "52660\n",
      "57630\n",
      "57700\n",
      "59250\n",
      "65810\n",
      "64810\n",
      "63010\n",
      "65410\n",
      "65010\n",
      "65210\n",
      "63610\n",
      "79399\n",
      "74660\n",
      "74680\n",
      "51710\n",
      "10180\n",
      "15750\n",
      "15650\n",
      "16350\n",
      "12900\n",
      "18020\n",
      "12350\n",
      "2734\n",
      "11500\n",
      "11800\n",
      "17950\n",
      "12000\n",
      "17310\n",
      "22170\n",
      "23670\n",
      "27170\n",
      "36150\n",
      "33100\n",
      "41190\n",
      "48050\n",
      "47140\n",
      "43220\n",
      "43710\n",
      "40150\n",
      "41560\n",
      "48540\n",
      "48640\n",
      "58050\n",
      "51080\n",
      "51750\n",
      "53080\n",
      "50630\n",
      "51190\n",
      "57140\n",
      "51960\n",
      "54620\n",
      "52730\n",
      "52310\n",
      "58400\n",
      "50490\n",
      "57000\n",
      "59360\n",
      "58680\n",
      "59320\n",
      "62810\n",
      "72800\n",
      "72200\n",
      "14000\n",
      "11570\n",
      "18500\n",
      "15800\n",
      "18710\n",
      "15350\n",
      "14750\n",
      "2640\n",
      "18050\n",
      "27630\n",
      "21890\n",
      "21180\n",
      "26350\n",
      "31950\n",
      "35800\n",
      "32450\n",
      "36950\n",
      "4829\n",
      "40520\n",
      "54340\n",
      "54410\n",
      "54200\n",
      "58470\n",
      "52940\n",
      "58510\n",
      "52800\n",
      "59330\n",
      "53990\n",
      "56370\n",
      "57420\n",
      "60410\n",
      "61610\n",
      "71300\n",
      "51860\n",
      "33200\n",
      "40070\n",
      "47290\n",
      "48260\n",
      "46860\n",
      "54900\n",
      "57080\n",
      "56090\n",
      "74050\n",
      "11200\n",
      "18100\n",
      "14100\n",
      "2620\n",
      "12950\n",
      "26670\n",
      "22670\n",
      "17420\n",
      "24410\n",
      "30900\n",
      "42600\n",
      "52380\n",
      "54970\n",
      "57840\n",
      "56160\n",
      "56460\n",
      "53430\n",
      "55880\n",
      "2880\n",
      "30300\n",
      "36300\n",
      "37300\n",
      "31750\n",
      "40910\n",
      "45540\n",
      "58890\n",
      "58260\n",
      "58820\n",
      "56620\n",
      "2840\n",
      "17100\n",
      "2476\n",
      "37400\n",
      "36070\n",
      "35780\n",
      "35250\n",
      "32600\n",
      "47980\n",
      "46970\n",
      "51120\n",
      "55670\n",
      "59350\n",
      "65610\n",
      "99399\n",
      "32330\n",
      "50420\n",
      "52100\n",
      "11300\n",
      "11700\n",
      "30250\n",
      "32750\n",
      "32770\n",
      "30410\n",
      "30450\n",
      "52170\n",
      "14700\n",
      "55740\n",
      "34710\n",
      "50350\n",
      "74560\n",
      "2737\n",
      "29399\n",
      "2406\n",
      "54480\n",
      "53150\n",
      "56580\n",
      "37570\n",
      "41330\n",
      "56930\n",
      "70540\n"
     ]
    }
   ],
   "source": [
    "values = df['cityid'].unique()\n",
    "for x in values:\n",
    "    print(x)"
   ]
  },
  {
   "cell_type": "code",
   "execution_count": 816,
   "metadata": {},
   "outputs": [
    {
     "name": "stdout",
     "output_type": "stream",
     "text": [
      "<class 'pandas.core.frame.DataFrame'>\n",
      "RangeIndex: 15334 entries, 0 to 15333\n",
      "Data columns (total 7 columns):\n",
      " #   Column      Non-Null Count  Dtype \n",
      "---  ------      --------------  ----- \n",
      " 0   stateid     15334 non-null  int64 \n",
      " 1   statename   15334 non-null  object\n",
      " 2   cityid      15334 non-null  object\n",
      " 3   cityname    15334 non-null  object\n",
      " 4   suburbid    15334 non-null  int64 \n",
      " 5   suburbname  15334 non-null  object\n",
      " 6   geo_point   15333 non-null  object\n",
      "dtypes: int64(2), object(5)\n",
      "memory usage: 838.7+ KB\n"
     ]
    }
   ],
   "source": [
    "df.info()"
   ]
  },
  {
   "cell_type": "code",
   "execution_count": 817,
   "metadata": {},
   "outputs": [
    {
     "data": {
      "text/html": [
       "<div>\n",
       "<style scoped>\n",
       "    .dataframe tbody tr th:only-of-type {\n",
       "        vertical-align: middle;\n",
       "    }\n",
       "\n",
       "    .dataframe tbody tr th {\n",
       "        vertical-align: top;\n",
       "    }\n",
       "\n",
       "    .dataframe thead th {\n",
       "        text-align: right;\n",
       "    }\n",
       "</style>\n",
       "<table border=\"1\" class=\"dataframe\">\n",
       "  <thead>\n",
       "    <tr style=\"text-align: right;\">\n",
       "      <th></th>\n",
       "      <th></th>\n",
       "      <th>count</th>\n",
       "    </tr>\n",
       "    <tr>\n",
       "      <th>cityname</th>\n",
       "      <th>suburbname</th>\n",
       "      <th></th>\n",
       "    </tr>\n",
       "  </thead>\n",
       "  <tbody>\n",
       "    <tr>\n",
       "      <th rowspan=\"2\" valign=\"top\">Adelaide</th>\n",
       "      <th>Adelaide</th>\n",
       "      <td>1</td>\n",
       "    </tr>\n",
       "    <tr>\n",
       "      <th>North Adelaide</th>\n",
       "      <td>1</td>\n",
       "    </tr>\n",
       "    <tr>\n",
       "      <th rowspan=\"3\" valign=\"top\">Adelaide Hills</th>\n",
       "      <th>Aldgate</th>\n",
       "      <td>1</td>\n",
       "    </tr>\n",
       "    <tr>\n",
       "      <th>Ashton</th>\n",
       "      <td>1</td>\n",
       "    </tr>\n",
       "    <tr>\n",
       "      <th>Balhannah</th>\n",
       "      <td>1</td>\n",
       "    </tr>\n",
       "    <tr>\n",
       "      <th>...</th>\n",
       "      <th>...</th>\n",
       "      <td>...</td>\n",
       "    </tr>\n",
       "    <tr>\n",
       "      <th rowspan=\"5\" valign=\"top\">Yorke Peninsula</th>\n",
       "      <th>White Hut</th>\n",
       "      <td>1</td>\n",
       "    </tr>\n",
       "    <tr>\n",
       "      <th>Winulta</th>\n",
       "      <td>1</td>\n",
       "    </tr>\n",
       "    <tr>\n",
       "      <th>Wool Bay</th>\n",
       "      <td>1</td>\n",
       "    </tr>\n",
       "    <tr>\n",
       "      <th>Yorke Valley</th>\n",
       "      <td>1</td>\n",
       "    </tr>\n",
       "    <tr>\n",
       "      <th>Yorketown</th>\n",
       "      <td>1</td>\n",
       "    </tr>\n",
       "  </tbody>\n",
       "</table>\n",
       "<p>15334 rows × 1 columns</p>\n",
       "</div>"
      ],
      "text/plain": [
       "                                count\n",
       "cityname        suburbname           \n",
       "Adelaide        Adelaide            1\n",
       "                North Adelaide      1\n",
       "Adelaide Hills  Aldgate             1\n",
       "                Ashton              1\n",
       "                Balhannah           1\n",
       "...                               ...\n",
       "Yorke Peninsula White Hut           1\n",
       "                Winulta             1\n",
       "                Wool Bay            1\n",
       "                Yorke Valley        1\n",
       "                Yorketown           1\n",
       "\n",
       "[15334 rows x 1 columns]"
      ]
     },
     "execution_count": 817,
     "metadata": {},
     "output_type": "execute_result"
    }
   ],
   "source": [
    "df_city_suburbs = pd.DataFrame(df.groupby('cityname')['suburbname'].value_counts())\n",
    "df_city_suburbs"
   ]
  },
  {
   "cell_type": "markdown",
   "metadata": {},
   "source": [
    "# Feature Engineering the 'geo_point' and 'geo_shape'"
   ]
  },
  {
   "cell_type": "code",
   "execution_count": 818,
   "metadata": {},
   "outputs": [
    {
     "data": {
      "text/plain": [
       "39.0"
      ]
     },
     "execution_count": 818,
     "metadata": {},
     "output_type": "execute_result"
    }
   ],
   "source": [
    "max_geo_point_chars = df['geo_point'].str.len().max()\n",
    "max_geo_point_chars"
   ]
  },
  {
   "cell_type": "code",
   "execution_count": 819,
   "metadata": {},
   "outputs": [
    {
     "data": {
      "text/plain": [
       "Index(['stateid', 'statename', 'cityid', 'cityname', 'suburbid', 'suburbname',\n",
       "       'geo_point'],\n",
       "      dtype='object')"
      ]
     },
     "execution_count": 819,
     "metadata": {},
     "output_type": "execute_result"
    }
   ],
   "source": [
    "df.columns"
   ]
  },
  {
   "cell_type": "code",
   "execution_count": 820,
   "metadata": {},
   "outputs": [],
   "source": [
    "df1 =df.iloc[0:2000, 0:]"
   ]
  },
  {
   "cell_type": "code",
   "execution_count": 821,
   "metadata": {},
   "outputs": [
    {
     "name": "stdout",
     "output_type": "stream",
     "text": [
      "<class 'pandas.core.frame.DataFrame'>\n",
      "RangeIndex: 2000 entries, 0 to 1999\n",
      "Data columns (total 7 columns):\n",
      " #   Column      Non-Null Count  Dtype \n",
      "---  ------      --------------  ----- \n",
      " 0   stateid     2000 non-null   int64 \n",
      " 1   statename   2000 non-null   object\n",
      " 2   cityid      2000 non-null   object\n",
      " 3   cityname    2000 non-null   object\n",
      " 4   suburbid    2000 non-null   int64 \n",
      " 5   suburbname  2000 non-null   object\n",
      " 6   geo_point   2000 non-null   object\n",
      "dtypes: int64(2), object(5)\n",
      "memory usage: 109.5+ KB\n"
     ]
    }
   ],
   "source": [
    "df1.info()"
   ]
  },
  {
   "cell_type": "code",
   "execution_count": 822,
   "metadata": {},
   "outputs": [
    {
     "data": {
      "text/html": [
       "<div>\n",
       "<style scoped>\n",
       "    .dataframe tbody tr th:only-of-type {\n",
       "        vertical-align: middle;\n",
       "    }\n",
       "\n",
       "    .dataframe tbody tr th {\n",
       "        vertical-align: top;\n",
       "    }\n",
       "\n",
       "    .dataframe thead th {\n",
       "        text-align: right;\n",
       "    }\n",
       "</style>\n",
       "<table border=\"1\" class=\"dataframe\">\n",
       "  <thead>\n",
       "    <tr style=\"text-align: right;\">\n",
       "      <th></th>\n",
       "      <th></th>\n",
       "      <th>count</th>\n",
       "    </tr>\n",
       "    <tr>\n",
       "      <th>cityname</th>\n",
       "      <th>suburbname</th>\n",
       "      <th></th>\n",
       "    </tr>\n",
       "  </thead>\n",
       "  <tbody>\n",
       "    <tr>\n",
       "      <th rowspan=\"2\" valign=\"top\">Adelaide</th>\n",
       "      <th>Adelaide</th>\n",
       "      <td>1</td>\n",
       "    </tr>\n",
       "    <tr>\n",
       "      <th>North Adelaide</th>\n",
       "      <td>1</td>\n",
       "    </tr>\n",
       "    <tr>\n",
       "      <th rowspan=\"3\" valign=\"top\">Adelaide Hills</th>\n",
       "      <th>Aldgate</th>\n",
       "      <td>1</td>\n",
       "    </tr>\n",
       "    <tr>\n",
       "      <th>Ashton</th>\n",
       "      <td>1</td>\n",
       "    </tr>\n",
       "    <tr>\n",
       "      <th>Balhannah</th>\n",
       "      <td>1</td>\n",
       "    </tr>\n",
       "    <tr>\n",
       "      <th>...</th>\n",
       "      <th>...</th>\n",
       "      <td>...</td>\n",
       "    </tr>\n",
       "    <tr>\n",
       "      <th rowspan=\"5\" valign=\"top\">Yorke Peninsula</th>\n",
       "      <th>White Hut</th>\n",
       "      <td>1</td>\n",
       "    </tr>\n",
       "    <tr>\n",
       "      <th>Winulta</th>\n",
       "      <td>1</td>\n",
       "    </tr>\n",
       "    <tr>\n",
       "      <th>Wool Bay</th>\n",
       "      <td>1</td>\n",
       "    </tr>\n",
       "    <tr>\n",
       "      <th>Yorke Valley</th>\n",
       "      <td>1</td>\n",
       "    </tr>\n",
       "    <tr>\n",
       "      <th>Yorketown</th>\n",
       "      <td>1</td>\n",
       "    </tr>\n",
       "  </tbody>\n",
       "</table>\n",
       "<p>15334 rows × 1 columns</p>\n",
       "</div>"
      ],
      "text/plain": [
       "                                count\n",
       "cityname        suburbname           \n",
       "Adelaide        Adelaide            1\n",
       "                North Adelaide      1\n",
       "Adelaide Hills  Aldgate             1\n",
       "                Ashton              1\n",
       "                Balhannah           1\n",
       "...                               ...\n",
       "Yorke Peninsula White Hut           1\n",
       "                Winulta             1\n",
       "                Wool Bay            1\n",
       "                Yorke Valley        1\n",
       "                Yorketown           1\n",
       "\n",
       "[15334 rows x 1 columns]"
      ]
     },
     "execution_count": 822,
     "metadata": {},
     "output_type": "execute_result"
    }
   ],
   "source": [
    "df_city_suburbs = pd.DataFrame(df.groupby('cityname')['suburbname'].value_counts())\n",
    "df_city_suburbs"
   ]
  },
  {
   "cell_type": "code",
   "execution_count": 823,
   "metadata": {},
   "outputs": [],
   "source": [
    "df.to_csv('australian_cities.csv')"
   ]
  }
 ],
 "metadata": {
  "kernelspec": {
   "display_name": "ydata_profiling",
   "language": "python",
   "name": "python3"
  },
  "language_info": {
   "codemirror_mode": {
    "name": "ipython",
    "version": 3
   },
   "file_extension": ".py",
   "mimetype": "text/x-python",
   "name": "python",
   "nbconvert_exporter": "python",
   "pygments_lexer": "ipython3",
   "version": "3.10.0"
  }
 },
 "nbformat": 4,
 "nbformat_minor": 2
}

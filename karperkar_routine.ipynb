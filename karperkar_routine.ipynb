{
 "cells": [
  {
   "cell_type": "markdown",
   "metadata": {},
   "source": [
    "# **Karperkar Routine:**"
   ]
  },
  {
   "cell_type": "code",
   "execution_count": 5,
   "metadata": {},
   "outputs": [
    {
     "name": "stdout",
     "output_type": "stream",
     "text": [
      "This is your Number: 6549\n",
      "Step 1: 9654 - 4569 = 5085\n",
      "Step 2: 8550 - 558 = 7992\n",
      "Step 3: 9972 - 2799 = 7173\n",
      "Step 4: 7731 - 1377 = 6354\n",
      "Step 5: 6543 - 3456 = 3087\n",
      "Step 6: 8730 - 378 = 8352\n",
      "Step 7: 8532 - 2358 = 6174\n",
      "We got 6174 in 7 Steps 🎉\n"
     ]
    }
   ],
   "source": [
    "def karperkar_routine(num):\n",
    "    print(f\"This is your Number: {num}\")\n",
    "    steps = 0\n",
    "    while num != 6174:\n",
    "        num_str = f\"{num:04d}\"\n",
    "        smallest = int(\"\".join(sorted(num_str)))\n",
    "        largest = int(\"\".join(sorted(num_str, reverse=True)))\n",
    "        num  = largest - smallest\n",
    "        steps += 1\n",
    "        print(f\"Step {steps}: {largest} - {smallest} = {num}\")\n",
    "    print(f\"We got 6174 in {steps} Steps 🎉\")    \n",
    "\n",
    "# Get the value from the user\n",
    "user_input = input(\"Enter a 4-digit number: \")\n",
    "if user_input.isdigit() and len(user_input) == 4 and len(set(user_input)) > 1:\n",
    "    karperkar_routine(int(user_input))\n",
    "else:\n",
    "    print(\"Invalid input❌. Please enter a 4-digit number with atleast 1 unique digit.\")"
   ]
  }
 ],
 "metadata": {
  "kernelspec": {
   "display_name": "python_ml",
   "language": "python",
   "name": "python3"
  },
  "language_info": {
   "codemirror_mode": {
    "name": "ipython",
    "version": 3
   },
   "file_extension": ".py",
   "mimetype": "text/x-python",
   "name": "python",
   "nbconvert_exporter": "python",
   "pygments_lexer": "ipython3",
   "version": "3.11.0"
  }
 },
 "nbformat": 4,
 "nbformat_minor": 2
}

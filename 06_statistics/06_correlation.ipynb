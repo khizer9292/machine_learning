{
 "cells": [
  {
   "cell_type": "markdown",
   "metadata": {},
   "source": [
    "# **Correlation**"
   ]
  },
  {
   "cell_type": "markdown",
   "metadata": {},
   "source": [
    "## Pearson's correlation coefficient"
   ]
  },
  {
   "cell_type": "code",
   "execution_count": 1,
   "metadata": {},
   "outputs": [
    {
     "name": "stdout",
     "output_type": "stream",
     "text": [
      "Pearson Correlation Coefficient: 0.7745966692414834\n",
      "Highly Positive Correlation.\n"
     ]
    }
   ],
   "source": [
    "# pearson's correlation coefficient\n",
    "import pandas as pd\n",
    "import numpy as np\n",
    "def pearson(x, y):\n",
    "    x_mean = np.mean(x)\n",
    "    y_mean = np.mean(y)\n",
    "    x_std = np.std(x)\n",
    "    y_std = np.std(y)\n",
    "    n = len(x)\n",
    "    return sum((x-x_mean)*(y-y_mean))/(n*x_std*y_std)\n",
    "# example dataset\n",
    "x = np.array([1,2,3,4,5])\n",
    "y = np.array([2,4,5,4,5])\n",
    "print(f\"Pearson Correlation Coefficient: {pearson(x,y)}\")\n",
    "\n",
    "# print with if else statement \n",
    "if pearson(x,y) < 0.6 > 0:\n",
    "    print(\"Positive Correlation.\")\n",
    "elif pearson(x,y) > 0.6:\n",
    "    print(\"Highly Positive Correlation.\")\n",
    "elif pearson(x,y) > -0.6 < 0:\n",
    "    print(\"Negative Correlation.\")\n",
    "elif pearson(x,y) < -0.6:\n",
    "    print(\"Highly Negative Correlation.\")\n",
    "else:\n",
    "    print(\"No Correlation.\")"
   ]
  },
  {
   "cell_type": "markdown",
   "metadata": {},
   "source": [
    "## Spearman's rank correlation coefficient"
   ]
  },
  {
   "cell_type": "code",
   "execution_count": 2,
   "metadata": {},
   "outputs": [
    {
     "name": "stdout",
     "output_type": "stream",
     "text": [
      "Spearman Correlation Coefficient: 0.7378647873726218\n",
      "Highly Positive Correlation\n"
     ]
    }
   ],
   "source": [
    "# SPearman's correlation coefficient\n",
    "def spearman(x, y):\n",
    "    x_rank = pd.Series(x).rank()\n",
    "    y_rank = pd.Series(y).rank()\n",
    "    return pearson(x_rank, y_rank)\n",
    "\n",
    "print(f\"Spearman Correlation Coefficient: {spearman(x,y)}\")\n",
    "\n",
    "# print with if else statement\n",
    "if spearman(x,y) < 0.6 > 0:\n",
    "    print(\"Positive Correlation\")\n",
    "elif spearman(x,y) > 0.6:\n",
    "    print(\"Highly Positive Correlation\")\n",
    "elif spearman(x,y) > -0.6 < 0:\n",
    "    print(\"Negative Correlation\")\n",
    "elif spearman(x,y) < -0.6:\n",
    "    print(\"Highly Negative Correlation\")\n",
    "else:\n",
    "    print(\"No Correlation\")"
   ]
  },
  {
   "cell_type": "code",
   "execution_count": null,
   "metadata": {},
   "outputs": [],
   "source": []
  }
 ],
 "metadata": {
  "kernelspec": {
   "display_name": "python_eda",
   "language": "python",
   "name": "python3"
  },
  "language_info": {
   "codemirror_mode": {
    "name": "ipython",
    "version": 3
   },
   "file_extension": ".py",
   "mimetype": "text/x-python",
   "name": "python",
   "nbconvert_exporter": "python",
   "pygments_lexer": "ipython3",
   "version": "3.13.0"
  }
 },
 "nbformat": 4,
 "nbformat_minor": 2
}

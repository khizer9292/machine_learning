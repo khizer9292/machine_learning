{
 "cells": [
  {
   "cell_type": "markdown",
   "metadata": {},
   "source": [
    "# ANOVA test \n",
    "#### Types of ANOVA Test\n",
    "- One-way ANOVA (Two or more groups of samples compare across one independent variable)\n",
    "- Two-way ANOVA (Two or more groups of samples compare across two independent variables)\n",
    "- N-way ANOVA (Two or more groups of samples compare across N independent variables)\n",
    "\n"
   ]
  },
  {
   "cell_type": "code",
   "execution_count": 9,
   "metadata": {},
   "outputs": [
    {
     "name": "stdout",
     "output_type": "stream",
     "text": [
      "Statistic value: 15.662162162162158\n",
      "p_value: 0.0004515404760997282\n",
      "There is significant difference between these groups. (Reject H0)\n"
     ]
    }
   ],
   "source": [
    "from scipy import stats\n",
    "\n",
    "# Sample data: Growth of plants with three types of fertilizers\n",
    "fertilizer1 = [20, 22, 19, 24, 25]\n",
    "fertilizer2 = [28, 30, 27, 26, 29]\n",
    "fertilizer3 = [18, 20, 22, 19, 24]\n",
    "\n",
    "# Applying the ANOVA test on these three groups of data \n",
    "f_stat, p_val = stats.f_oneway(fertilizer1, fertilizer2, fertilizer3)\n",
    "\n",
    "# print the result by using if else statement \n",
    "print(f'Statistic value: {f_stat}')\n",
    "print(f'p_value: {p_val}')\n",
    "\n",
    "if p_val > 0.05:\n",
    "    print('There is no significant difference between these groups.(Fail to reject H0)')\n",
    "else: \n",
    "    print(f'There is significant difference between these groups. (Reject H0)')\n"
   ]
  },
  {
   "cell_type": "code",
   "execution_count": 16,
   "metadata": {},
   "outputs": [],
   "source": [
    "# one-way ANOVA by using statsmodel library\n",
    "import pandas as pd\n",
    "import statsmodels.api as sm\n",
    "from statsmodels.formula.api import ols"
   ]
  },
  {
   "cell_type": "code",
   "execution_count": 17,
   "metadata": {},
   "outputs": [
    {
     "data": {
      "text/html": [
       "<div>\n",
       "<style scoped>\n",
       "    .dataframe tbody tr th:only-of-type {\n",
       "        vertical-align: middle;\n",
       "    }\n",
       "\n",
       "    .dataframe tbody tr th {\n",
       "        vertical-align: top;\n",
       "    }\n",
       "\n",
       "    .dataframe thead th {\n",
       "        text-align: right;\n",
       "    }\n",
       "</style>\n",
       "<table border=\"1\" class=\"dataframe\">\n",
       "  <thead>\n",
       "    <tr style=\"text-align: right;\">\n",
       "      <th></th>\n",
       "      <th>fertilizers</th>\n",
       "      <th>growth</th>\n",
       "    </tr>\n",
       "  </thead>\n",
       "  <tbody>\n",
       "    <tr>\n",
       "      <th>0</th>\n",
       "      <td>fertilizer1</td>\n",
       "      <td>20</td>\n",
       "    </tr>\n",
       "    <tr>\n",
       "      <th>1</th>\n",
       "      <td>fertilizer1</td>\n",
       "      <td>22</td>\n",
       "    </tr>\n",
       "    <tr>\n",
       "      <th>2</th>\n",
       "      <td>fertilizer1</td>\n",
       "      <td>19</td>\n",
       "    </tr>\n",
       "    <tr>\n",
       "      <th>3</th>\n",
       "      <td>fertilizer1</td>\n",
       "      <td>24</td>\n",
       "    </tr>\n",
       "    <tr>\n",
       "      <th>4</th>\n",
       "      <td>fertilizer1</td>\n",
       "      <td>25</td>\n",
       "    </tr>\n",
       "    <tr>\n",
       "      <th>5</th>\n",
       "      <td>fertilizer2</td>\n",
       "      <td>28</td>\n",
       "    </tr>\n",
       "    <tr>\n",
       "      <th>6</th>\n",
       "      <td>fertilizer2</td>\n",
       "      <td>30</td>\n",
       "    </tr>\n",
       "    <tr>\n",
       "      <th>7</th>\n",
       "      <td>fertilizer2</td>\n",
       "      <td>27</td>\n",
       "    </tr>\n",
       "    <tr>\n",
       "      <th>8</th>\n",
       "      <td>fertilizer2</td>\n",
       "      <td>26</td>\n",
       "    </tr>\n",
       "    <tr>\n",
       "      <th>9</th>\n",
       "      <td>fertilizer2</td>\n",
       "      <td>29</td>\n",
       "    </tr>\n",
       "    <tr>\n",
       "      <th>10</th>\n",
       "      <td>fertilizer3</td>\n",
       "      <td>18</td>\n",
       "    </tr>\n",
       "    <tr>\n",
       "      <th>11</th>\n",
       "      <td>fertilizer3</td>\n",
       "      <td>20</td>\n",
       "    </tr>\n",
       "    <tr>\n",
       "      <th>12</th>\n",
       "      <td>fertilizer3</td>\n",
       "      <td>22</td>\n",
       "    </tr>\n",
       "    <tr>\n",
       "      <th>13</th>\n",
       "      <td>fertilizer3</td>\n",
       "      <td>19</td>\n",
       "    </tr>\n",
       "    <tr>\n",
       "      <th>14</th>\n",
       "      <td>fertilizer3</td>\n",
       "      <td>24</td>\n",
       "    </tr>\n",
       "  </tbody>\n",
       "</table>\n",
       "</div>"
      ],
      "text/plain": [
       "    fertilizers  growth\n",
       "0   fertilizer1      20\n",
       "1   fertilizer1      22\n",
       "2   fertilizer1      19\n",
       "3   fertilizer1      24\n",
       "4   fertilizer1      25\n",
       "5   fertilizer2      28\n",
       "6   fertilizer2      30\n",
       "7   fertilizer2      27\n",
       "8   fertilizer2      26\n",
       "9   fertilizer2      29\n",
       "10  fertilizer3      18\n",
       "11  fertilizer3      20\n",
       "12  fertilizer3      22\n",
       "13  fertilizer3      19\n",
       "14  fertilizer3      24"
      ]
     },
     "execution_count": 17,
     "metadata": {},
     "output_type": "execute_result"
    }
   ],
   "source": [
    "df = pd.DataFrame({'fertilizers':['fertilizer1']*5 + ['fertilizer2']*5 + ['fertilizer3']*5,\n",
    "                    'growth':fertilizer1 + fertilizer2 + fertilizer3})\n",
    "df"
   ]
  },
  {
   "cell_type": "code",
   "execution_count": 18,
   "metadata": {},
   "outputs": [
    {
     "data": {
      "text/plain": [
       "fertilizers\n",
       "fertilizer1    5\n",
       "fertilizer2    5\n",
       "fertilizer3    5\n",
       "Name: count, dtype: int64"
      ]
     },
     "execution_count": 18,
     "metadata": {},
     "output_type": "execute_result"
    }
   ],
   "source": [
    "df['fertilizers'].value_counts()"
   ]
  },
  {
   "cell_type": "code",
   "execution_count": 20,
   "metadata": {},
   "outputs": [],
   "source": [
    "# Fit the model\n",
    "model = ols(\"growth ~ fertilizers\", data = df).fit()"
   ]
  },
  {
   "cell_type": "code",
   "execution_count": 21,
   "metadata": {},
   "outputs": [
    {
     "name": "stdout",
     "output_type": "stream",
     "text": [
      "               df      sum_sq    mean_sq          F    PR(>F)\n",
      "fertilizers   2.0  154.533333  77.266667  15.662162  0.000452\n",
      "Residual     12.0   59.200000   4.933333        NaN       NaN\n"
     ]
    }
   ],
   "source": [
    "anova_table = sm.stats.anova_lm(model, type = 2)\n",
    "print(anova_table)"
   ]
  },
  {
   "cell_type": "code",
   "execution_count": 23,
   "metadata": {},
   "outputs": [
    {
     "name": "stdout",
     "output_type": "stream",
     "text": [
      "(Reject the H0) The means are not equal.\n"
     ]
    },
    {
     "name": "stderr",
     "output_type": "stream",
     "text": [
      "C:\\Users\\dv04i\\AppData\\Local\\Temp\\ipykernel_10868\\3714170836.py:2: FutureWarning: Series.__getitem__ treating keys as positions is deprecated. In a future version, integer keys will always be treated as labels (consistent with DataFrame behavior). To access a value by position, use `ser.iloc[pos]`\n",
      "  if anova_table['PR(>F)'][0] < 0.05:\n"
     ]
    }
   ],
   "source": [
    "# display the result with the if else statment \n",
    "if anova_table['PR(>F)'][0] < 0.05:\n",
    "    print(f'(Reject the H0) The means are not equal.')\n",
    "else:\n",
    "    print(f'(Fail to reject H0) The means are equal.')"
   ]
  },
  {
   "cell_type": "code",
   "execution_count": 27,
   "metadata": {},
   "outputs": [
    {
     "name": "stdout",
     "output_type": "stream",
     "text": [
      "              df      sum_sq    mean_sq          F    PR(>F)\n",
      "fertilizer   2.0  154.533333  77.266667  15.662162  0.000452\n",
      "Residual    12.0   59.200000   4.933333        NaN       NaN\n",
      "(Reject H0) The mean is different between the groups.\n"
     ]
    }
   ],
   "source": [
    "# one-way ANOVA by using statsmodels\n",
    "\n",
    "# This is the dataset on which we will perform the one-way ANOVA\n",
    "df = pd.DataFrame({'fertilizer':['fertilizer1']*5 + ['fertilizer2']*5 + ['fertilizer3']*5 ,\n",
    "                   'growth': fertilizer1 + fertilizer2 + fertilizer3\n",
    "                   })\n",
    "\n",
    "# create ols model for the one-way ANOVA\n",
    "model = ols('growth ~ fertilizer', data = df).fit()\n",
    "\n",
    "# creating Anova table for the result summary\n",
    "anova_table = sm.stats.anova_lm(model, type =2)\n",
    "print(anova_table)\n",
    "\n",
    "# display the result with the if else statement \n",
    "if anova_table['PR(>F)'].iloc[0] < 0.05:\n",
    "    print(f'(Reject H0) The mean is different between the groups.')\n",
    "else:\n",
    "    print(f'(Fail to reject H0) The mean  is same between the groups.')\n"
   ]
  },
  {
   "cell_type": "markdown",
   "metadata": {},
   "source": [
    "# Two-way ANOVA"
   ]
  },
  {
   "cell_type": "code",
   "execution_count": 28,
   "metadata": {},
   "outputs": [
    {
     "data": {
      "text/html": [
       "<div>\n",
       "<style scoped>\n",
       "    .dataframe tbody tr th:only-of-type {\n",
       "        vertical-align: middle;\n",
       "    }\n",
       "\n",
       "    .dataframe tbody tr th {\n",
       "        vertical-align: top;\n",
       "    }\n",
       "\n",
       "    .dataframe thead th {\n",
       "        text-align: right;\n",
       "    }\n",
       "</style>\n",
       "<table border=\"1\" class=\"dataframe\">\n",
       "  <thead>\n",
       "    <tr style=\"text-align: right;\">\n",
       "      <th></th>\n",
       "      <th>Growth</th>\n",
       "      <th>Fertilizer</th>\n",
       "      <th>Sunlight</th>\n",
       "    </tr>\n",
       "  </thead>\n",
       "  <tbody>\n",
       "    <tr>\n",
       "      <th>0</th>\n",
       "      <td>20</td>\n",
       "      <td>F1</td>\n",
       "      <td>High</td>\n",
       "    </tr>\n",
       "    <tr>\n",
       "      <th>1</th>\n",
       "      <td>22</td>\n",
       "      <td>F1</td>\n",
       "      <td>High</td>\n",
       "    </tr>\n",
       "    <tr>\n",
       "      <th>2</th>\n",
       "      <td>19</td>\n",
       "      <td>F1</td>\n",
       "      <td>High</td>\n",
       "    </tr>\n",
       "    <tr>\n",
       "      <th>3</th>\n",
       "      <td>24</td>\n",
       "      <td>F1</td>\n",
       "      <td>High</td>\n",
       "    </tr>\n",
       "    <tr>\n",
       "      <th>4</th>\n",
       "      <td>25</td>\n",
       "      <td>F1</td>\n",
       "      <td>High</td>\n",
       "    </tr>\n",
       "  </tbody>\n",
       "</table>\n",
       "</div>"
      ],
      "text/plain": [
       "   Growth Fertilizer Sunlight\n",
       "0      20         F1     High\n",
       "1      22         F1     High\n",
       "2      19         F1     High\n",
       "3      24         F1     High\n",
       "4      25         F1     High"
      ]
     },
     "execution_count": 28,
     "metadata": {},
     "output_type": "execute_result"
    }
   ],
   "source": [
    "# Sample data\n",
    "data = pd.DataFrame({\n",
    "    \"Growth\": [20, 22, 19, 24, 25, 28, 30, 27, 26, 29, 18, 20, 22, 19, 24,\n",
    "               21, 23, 20, 25, 26, 29, 31, 28, 27, 30, 19, 21, 23, 20, 25],\n",
    "    \"Fertilizer\": [\"F1\", \"F1\", \"F1\", \"F1\", \"F1\", \"F2\", \"F2\", \"F2\", \"F2\", \"F2\", \n",
    "                   \"F3\", \"F3\", \"F3\", \"F3\", \"F3\", \"F1\", \"F1\", \"F1\", \"F1\", \"F1\", \n",
    "                   \"F2\", \"F2\", \"F2\", \"F2\", \"F2\", \"F3\", \"F3\", \"F3\", \"F3\", \"F3\"],\n",
    "    \"Sunlight\": [\"High\", \"High\", \"High\", \"High\", \"High\", \"High\", \"High\", \"High\", \"High\", \"High\", \n",
    "                 \"High\", \"High\", \"High\", \"High\", \"High\", \"Low\", \"Low\", \"Low\", \"Low\", \"Low\", \n",
    "                 \"Low\", \"Low\", \"Low\", \"Low\", \"Low\", \"Low\", \"Low\", \"Low\", \"Low\", \"Low\"]\n",
    "})\n",
    "data.head()"
   ]
  },
  {
   "cell_type": "code",
   "execution_count": 32,
   "metadata": {},
   "outputs": [
    {
     "name": "stdout",
     "output_type": "stream",
     "text": [
      "                             df        sum_sq  ...             F        PR(>F)\n",
      "C(Fertilizer)               2.0  3.090667e+02  ...  3.132432e+01  2.038888e-07\n",
      "C(Sunlight)                 1.0  7.500000e+00  ...  1.520270e+00  2.295198e-01\n",
      "C(Fertilizer):C(Sunlight)   2.0  1.333175e-28  ...  1.351191e-29  1.000000e+00\n",
      "Residual                   24.0  1.184000e+02  ...           NaN           NaN\n",
      "\n",
      "[4 rows x 5 columns]\n",
      "Reject the null hypothesis (p_value: 2.0388880155636925e-07). There is a significant difference between the means of the groups.\n"
     ]
    },
    {
     "name": "stderr",
     "output_type": "stream",
     "text": [
      "C:\\Users\\dv04i\\AppData\\Local\\Temp\\ipykernel_10868\\1523845236.py:23: FutureWarning: Series.__getitem__ treating keys as positions is deprecated. In a future version, integer keys will always be treated as labels (consistent with DataFrame behavior). To access a value by position, use `ser.iloc[pos]`\n",
      "  result = anova_table['PR(>F)'][0]\n"
     ]
    }
   ],
   "source": [
    "import pandas as pd \n",
    "import statsmodels.api as sm\n",
    "from statsmodels.formula.api import ols\n",
    "\n",
    "# Sample data\n",
    "data = pd.DataFrame({\n",
    "    \"Growth\": [20, 22, 19, 24, 25, 28, 30, 27, 26, 29, 18, 20, 22, 19, 24,\n",
    "               21, 23, 20, 25, 26, 29, 31, 28, 27, 30, 19, 21, 23, 20, 25],\n",
    "    \"Fertilizer\": [\"F1\", \"F1\", \"F1\", \"F1\", \"F1\", \"F2\", \"F2\", \"F2\", \"F2\", \"F2\", \n",
    "                   \"F3\", \"F3\", \"F3\", \"F3\", \"F3\", \"F1\", \"F1\", \"F1\", \"F1\", \"F1\", \n",
    "                   \"F2\", \"F2\", \"F2\", \"F2\", \"F2\", \"F3\", \"F3\", \"F3\", \"F3\", \"F3\"],\n",
    "    \"Sunlight\": [\"High\", \"High\", \"High\", \"High\", \"High\", \"High\", \"High\", \"High\", \"High\", \"High\", \n",
    "                 \"High\", \"High\", \"High\", \"High\", \"High\", \"Low\", \"Low\", \"Low\", \"Low\", \"Low\", \n",
    "                 \"Low\", \"Low\", \"Low\", \"Low\", \"Low\", \"Low\", \"Low\", \"Low\", \"Low\", \"Low\"]\n",
    "})\n",
    "\n",
    "# creating the model \n",
    "model = ols('Growth ~ C(Fertilizer) + C(Sunlight) + C(Fertilizer) : C(Sunlight)', data = data).fit()\n",
    "\n",
    "# applying the one-way ANOVA and creating the anova_table of summary \n",
    "anova_table = sm.stats.anova_lm(model, type =2)\n",
    "\n",
    "result = anova_table['PR(>F)'][0]\n",
    "\n",
    "print(anova_table)\n",
    "# Display the result with if else statement\n",
    "if result < 0.05:\n",
    "    print(f'Reject the null hypothesis (p_value: {result}). There is a significant difference between the means of the groups.')\n",
    "else:\n",
    "    print(f'Fail to reject (p_value: {result}). There is no signeficent difference between the means of the groups')    \n"
   ]
  },
  {
   "cell_type": "markdown",
   "metadata": {},
   "source": [
    "# N-way ANOVA"
   ]
  },
  {
   "cell_type": "code",
   "execution_count": 35,
   "metadata": {},
   "outputs": [
    {
     "name": "stdout",
     "output_type": "stream",
     "text": [
      "                                         df  ...        PR(>F)\n",
      "C(Fertilizer)                           2.0  ...  2.050614e-12\n",
      "C(Sunlight)                             1.0  ...  2.969139e-02\n",
      "C(Watering)                             1.0  ...  2.043692e-01\n",
      "C(Fertilizer):C(Sunlight)               2.0  ...  9.232071e-01\n",
      "C(Fertilizer):C(Watering)               2.0  ...  3.875404e-01\n",
      "C(Sunlight):C(Watering)                 1.0  ...  1.408278e-01\n",
      "C(Fertilizer):C(Sunlight):C(Watering)   2.0  ...  3.678229e-01\n",
      "Residual                               39.0  ...           NaN\n",
      "\n",
      "[8 rows x 5 columns]\n",
      "Reject the H0, The means are significant different from each other \n"
     ]
    },
    {
     "name": "stderr",
     "output_type": "stream",
     "text": [
      "C:\\Users\\dv04i\\AppData\\Local\\Temp\\ipykernel_10868\\3233644892.py:38: FutureWarning: Series.__getitem__ treating keys as positions is deprecated. In a future version, integer keys will always be treated as labels (consistent with DataFrame behavior). To access a value by position, use `ser.iloc[pos]`\n",
      "  if anova_table['PR(>F)'][0] < 0.05:\n"
     ]
    }
   ],
   "source": [
    "import pandas as pd\n",
    "import statsmodels.api as sm\n",
    "from statsmodels.formula.api import ols\n",
    "\n",
    "# Sample data\n",
    "data = pd.DataFrame({\n",
    "    \"Growth\": [20, 22, 19, 24, 25, 28, 30, 27, 26, 29, 18, 20, 22, 19, 24,\n",
    "               21, 23, 20, 25, 26, 29, 31, 28, 27, 30, 19, 21, 23, 20, 25,\n",
    "               20, 22, 21, 23, 24, 26, 28, 25, 27, 29, 17, 19, 21, 18, 20],\n",
    "    \"Fertilizer\": [\"F1\", \"F1\", \"F1\", \"F1\", \"F1\", \"F2\", \"F2\", \"F2\", \"F2\", \"F2\", \n",
    "                   \"F3\", \"F3\", \"F3\", \"F3\", \"F3\", \"F1\", \"F1\", \"F1\", \"F1\", \"F1\", \n",
    "                   \"F2\", \"F2\", \"F2\", \"F2\", \"F2\", \"F3\", \"F3\", \"F3\", \"F3\", \"F3\",\n",
    "                   \"F1\", \"F1\", \"F1\", \"F1\", \"F1\", \"F2\", \"F2\", \"F2\", \"F2\", \"F2\", \n",
    "                   \"F3\", \"F3\", \"F3\", \"F3\", \"F3\"],\n",
    "    \"Sunlight\": [\"High\", \"High\", \"High\", \"High\", \"High\", \"High\", \"High\", \"High\", \"High\", \"High\", \n",
    "                 \"High\", \"High\", \"High\", \"High\", \"High\", \"Low\", \"Low\", \"Low\", \"Low\", \"Low\", \n",
    "                 \"Low\", \"Low\", \"Low\", \"Low\", \"Low\", \"Low\", \"Low\", \"Low\", \"Low\", \"Low\",\n",
    "                 \"High\", \"High\", \"High\", \"High\", \"High\", \"High\", \"High\", \"High\", \"High\", \"High\", \n",
    "                 \"High\", \"High\", \"High\", \"High\", \"High\"],\n",
    "    \"Watering\": [\"Regular\", \"Regular\", \"Regular\", \"Regular\", \"Regular\", \n",
    "                 \"Regular\", \"Regular\", \"Regular\", \"Regular\", \"Regular\",\n",
    "                 \"Regular\", \"Regular\", \"Regular\", \"Regular\", \"Regular\",\n",
    "                 \"Sparse\", \"Sparse\", \"Sparse\", \"Sparse\", \"Sparse\", \n",
    "                 \"Sparse\", \"Sparse\", \"Sparse\", \"Sparse\", \"Sparse\",\n",
    "                 \"Sparse\", \"Sparse\", \"Sparse\", \"Sparse\", \"Sparse\",\n",
    "                 \"Regular\", \"Regular\", \"Regular\", \"Regular\", \"Regular\", \n",
    "                 \"Regular\", \"Regular\", \"Regular\", \"Regular\", \"Regular\",\n",
    "                 \"Regular\", \"Regular\", \"Regular\", \"Regular\", \"Regular\"]\n",
    "})\n",
    "\n",
    "# creating model \n",
    "model = ols('Growth ~ C(Fertilizer) + C(Sunlight) + C(Watering) + C(Fertilizer):C(Sunlight) + C(Fertilizer):C(Watering) + C(Sunlight):C(Watering) + C(Fertilizer):C(Sunlight):C(Watering)', data=data).fit()\n",
    "\n",
    "# summary table of the result\n",
    "anova_table = sm.stats.anova_lm(model, type = 2)\n",
    "print(anova_table)\n",
    "\n",
    "if anova_table['PR(>F)'][0] < 0.05:\n",
    "    print(f'Reject the H0, The means are significant different from each other ')\n",
    "else:\n",
    "    print(f'Fail to reject H0, The means are not significant different from each other ')    \n"
   ]
  },
  {
   "cell_type": "markdown",
   "metadata": {},
   "source": [
    "_____\n",
    "# Post-Hoc Test\n",
    "\n",
    "After conducting an ANOVA and finding a significant difference, a post hoc test is needed to determine exactly which groups differ from each other. Here, I'll demonstrate post hoc tests for one-way, two-way, and N-way ANOVA using Python."
   ]
  },
  {
   "cell_type": "markdown",
   "metadata": {},
   "source": [
    "## Post-Hoc Test for One-way ANOVA"
   ]
  },
  {
   "cell_type": "code",
   "execution_count": 37,
   "metadata": {},
   "outputs": [
    {
     "name": "stdout",
     "output_type": "stream",
     "text": [
      " Multiple Comparison of Means - Tukey HSD, FWER=0.05 \n",
      "=====================================================\n",
      "group1 group2 meandiff p-adj   lower    upper  reject\n",
      "-----------------------------------------------------\n",
      "    F1     F2      6.0 0.0029   2.2523  9.7477   True\n",
      "    F1     F3     -1.4 0.5928  -5.1477  2.3477  False\n",
      "    F2     F3     -7.4 0.0005 -11.1477 -3.6523   True\n",
      "-----------------------------------------------------\n"
     ]
    }
   ],
   "source": [
    "from statsmodels.stats.multicomp import pairwise_tukeyhsd\n",
    "import numpy as np\n",
    "\n",
    "# Sample data\n",
    "data = {\n",
    "    'Growth':np.concatenate([fertilizer1, fertilizer2, fertilizer3]),\n",
    "    'fertilizer':['F1']*len(fertilizer1) + ['F2']*len(fertilizer2) + ['F3']*len(fertilizer3)\n",
    "}\n",
    "\n",
    "df = pd.DataFrame(data)\n",
    "\n",
    "# Applying the Tukey's HSD test\n",
    "tukey = pairwise_tukeyhsd(endog=df['Growth'], groups=df['fertilizer'], alpha=0.05)\n",
    "print(tukey)"
   ]
  },
  {
   "cell_type": "markdown",
   "metadata": {},
   "source": [
    "## Post-Hoc Test for Two-way ANOVA"
   ]
  },
  {
   "cell_type": "code",
   "execution_count": 43,
   "metadata": {},
   "outputs": [
    {
     "name": "stdout",
     "output_type": "stream",
     "text": [
      " Multiple Comparison of Means - Tukey HSD, FWER=0.05 \n",
      "=====================================================\n",
      "group1 group2 meandiff p-adj   lower    upper  reject\n",
      "-----------------------------------------------------\n",
      "F1High  F1Low      1.0 0.9786  -3.3434  5.3434  False\n",
      "F1High F2High      6.0 0.0032   1.6566 10.3434   True\n",
      "F1High  F2Low      7.0 0.0006   2.6566 11.3434   True\n",
      "F1High F3High     -1.4 0.9145  -5.7434  2.9434  False\n",
      "F1High  F3Low     -0.4 0.9997  -4.7434  3.9434  False\n",
      " F1Low F2High      5.0 0.0176   0.6566  9.3434   True\n",
      " F1Low  F2Low      6.0 0.0032   1.6566 10.3434   True\n",
      " F1Low F3High     -2.4 0.5396  -6.7434  1.9434  False\n",
      " F1Low  F3Low     -1.4 0.9145  -5.7434  2.9434  False\n",
      "F2High  F2Low      1.0 0.9786  -3.3434  5.3434  False\n",
      "F2High F3High     -7.4 0.0003 -11.7434 -3.0566   True\n",
      "F2High  F3Low     -6.4 0.0016 -10.7434 -2.0566   True\n",
      " F2Low F3High     -8.4    0.0 -12.7434 -4.0566   True\n",
      " F2Low  F3Low     -7.4 0.0003 -11.7434 -3.0566   True\n",
      "F3High  F3Low      1.0 0.9786  -3.3434  5.3434  False\n",
      "-----------------------------------------------------\n"
     ]
    }
   ],
   "source": [
    "from statsmodels.stats.multicomp import pairwise_tukeyhsd\n",
    "import statsmodels.api as sm\n",
    "from statsmodels.formula.api import ols\n",
    "import pandas as pd \n",
    "\n",
    "# Sample data\n",
    "data = pd.DataFrame({\n",
    "    \"Growth\": [20, 22, 19, 24, 25, 28, 30, 27, 26, 29, 18, 20, 22, 19, 24,\n",
    "               21, 23, 20, 25, 26, 29, 31, 28, 27, 30, 19, 21, 23, 20, 25],\n",
    "    \"Fertilizer\": [\"F1\", \"F1\", \"F1\", \"F1\", \"F1\", \"F2\", \"F2\", \"F2\", \"F2\", \"F2\", \n",
    "                   \"F3\", \"F3\", \"F3\", \"F3\", \"F3\", \"F1\", \"F1\", \"F1\", \"F1\", \"F1\", \n",
    "                   \"F2\", \"F2\", \"F2\", \"F2\", \"F2\", \"F3\", \"F3\", \"F3\", \"F3\", \"F3\"],\n",
    "    \"Sunlight\": [\"High\", \"High\", \"High\", \"High\", \"High\", \"High\", \"High\", \"High\", \"High\", \"High\", \n",
    "                 \"High\", \"High\", \"High\", \"High\", \"High\", \"Low\", \"Low\", \"Low\", \"Low\", \"Low\", \n",
    "                 \"Low\", \"Low\", \"Low\", \"Low\", \"Low\", \"Low\", \"Low\", \"Low\", \"Low\", \"Low\"]\n",
    "})\n",
    "\n",
    "tukey = pairwise_tukeyhsd(data['Growth'],data['Fertilizer'] + data['Sunlight'], alpha=0.05)\n",
    "print(tukey)"
   ]
  },
  {
   "cell_type": "markdown",
   "metadata": {},
   "source": [
    "# Post-Hoc test on N-way ANOVA"
   ]
  },
  {
   "cell_type": "code",
   "execution_count": 44,
   "metadata": {},
   "outputs": [
    {
     "name": "stdout",
     "output_type": "stream",
     "text": [
      "        Multiple Comparison of Means - Tukey HSD, FWER=0.05        \n",
      "===================================================================\n",
      "    group1        group2    meandiff p-adj   lower    upper  reject\n",
      "-------------------------------------------------------------------\n",
      "F1HighRegular   F1LowSparse      1.0 0.9419  -2.2956  4.2956  False\n",
      "F1HighRegular F2HighRegular      5.5    0.0   2.8092  8.1908   True\n",
      "F1HighRegular   F2LowSparse      7.0    0.0   3.7044 10.2956   True\n",
      "F1HighRegular F3HighRegular     -2.2 0.1647  -4.8908  0.4908  False\n",
      "F1HighRegular   F3LowSparse     -0.4 0.9991  -3.6956  2.8956  False\n",
      "  F1LowSparse F2HighRegular      4.5 0.0027   1.2044  7.7956   True\n",
      "  F1LowSparse   F2LowSparse      6.0 0.0004   2.1946  9.8054   True\n",
      "  F1LowSparse F3HighRegular     -3.2 0.0613  -6.4956  0.0956  False\n",
      "  F1LowSparse   F3LowSparse     -1.4 0.8775  -5.2054  2.4054  False\n",
      "F2HighRegular   F2LowSparse      1.5 0.7478  -1.7956  4.7956  False\n",
      "F2HighRegular F3HighRegular     -7.7    0.0 -10.3908 -5.0092   True\n",
      "F2HighRegular   F3LowSparse     -5.9 0.0001  -9.1956 -2.6044   True\n",
      "  F2LowSparse F3HighRegular     -9.2    0.0 -12.4956 -5.9044   True\n",
      "  F2LowSparse   F3LowSparse     -7.4    0.0 -11.2054 -3.5946   True\n",
      "F3HighRegular   F3LowSparse      1.8 0.5804  -1.4956  5.0956  False\n",
      "-------------------------------------------------------------------\n"
     ]
    }
   ],
   "source": [
    "from statsmodels.stats.multicomp import pairwise_tukeyhsd\n",
    "# sample dataset\n",
    "data = pd.DataFrame({\n",
    "    \"Growth\": [20, 22, 19, 24, 25, 28, 30, 27, 26, 29, 18, 20, 22, 19, 24,\n",
    "               21, 23, 20, 25, 26, 29, 31, 28, 27, 30, 19, 21, 23, 20, 25,\n",
    "               20, 22, 21, 23, 24, 26, 28, 25, 27, 29, 17, 19, 21, 18, 20],\n",
    "    \"Fertilizer\": [\"F1\", \"F1\", \"F1\", \"F1\", \"F1\", \"F2\", \"F2\", \"F2\", \"F2\", \"F2\", \n",
    "                   \"F3\", \"F3\", \"F3\", \"F3\", \"F3\", \"F1\", \"F1\", \"F1\", \"F1\", \"F1\", \n",
    "                   \"F2\", \"F2\", \"F2\", \"F2\", \"F2\", \"F3\", \"F3\", \"F3\", \"F3\", \"F3\",\n",
    "                   \"F1\", \"F1\", \"F1\", \"F1\", \"F1\", \"F2\", \"F2\", \"F2\", \"F2\", \"F2\", \n",
    "                   \"F3\", \"F3\", \"F3\", \"F3\", \"F3\"],\n",
    "    \"Sunlight\": [\"High\", \"High\", \"High\", \"High\", \"High\", \"High\", \"High\", \"High\", \"High\", \"High\", \n",
    "                 \"High\", \"High\", \"High\", \"High\", \"High\", \"Low\", \"Low\", \"Low\", \"Low\", \"Low\", \n",
    "                 \"Low\", \"Low\", \"Low\", \"Low\", \"Low\", \"Low\", \"Low\", \"Low\", \"Low\", \"Low\",\n",
    "                 \"High\", \"High\", \"High\", \"High\", \"High\", \"High\", \"High\", \"High\", \"High\", \"High\", \n",
    "                 \"High\", \"High\", \"High\", \"High\", \"High\"],\n",
    "    \"Watering\": [\"Regular\", \"Regular\", \"Regular\", \"Regular\", \"Regular\", \n",
    "                 \"Regular\", \"Regular\", \"Regular\", \"Regular\", \"Regular\",\n",
    "                 \"Regular\", \"Regular\", \"Regular\", \"Regular\", \"Regular\",\n",
    "                 \"Sparse\", \"Sparse\", \"Sparse\", \"Sparse\", \"Sparse\", \n",
    "                 \"Sparse\", \"Sparse\", \"Sparse\", \"Sparse\", \"Sparse\",\n",
    "                 \"Sparse\", \"Sparse\", \"Sparse\", \"Sparse\", \"Sparse\",\n",
    "                 \"Regular\", \"Regular\", \"Regular\", \"Regular\", \"Regular\", \n",
    "                 \"Regular\", \"Regular\", \"Regular\", \"Regular\", \"Regular\",\n",
    "                 \"Regular\", \"Regular\", \"Regular\", \"Regular\", \"Regular\"]\n",
    "})\n",
    "\n",
    "tukey = pairwise_tukeyhsd(data['Growth'], data['Fertilizer'] + data['Sunlight'] + data['Watering'],alpha=0.05)\n",
    "print(tukey)"
   ]
  },
  {
   "cell_type": "markdown",
   "metadata": {},
   "source": [
    "# Bonferri Correction"
   ]
  },
  {
   "cell_type": "code",
   "execution_count": 45,
   "metadata": {},
   "outputs": [
    {
     "name": "stdout",
     "output_type": "stream",
     "text": [
      "F1 vs F2: t-statistic = -4.472, p-value (adjusted) = 0.006\n",
      "F1 vs F3: t-statistic = 0.893, p-value (adjusted) = 1.194\n",
      "F2 vs F3: t-statistic = 5.744, p-value (adjusted) = 0.001\n"
     ]
    }
   ],
   "source": [
    "import scipy.stats as stats\n",
    "import pandas as pd\n",
    "\n",
    "# Sample data\n",
    "fertilizer1 = [20, 22, 19, 24, 25]\n",
    "fertilizer2 = [28, 30, 27, 26, 29]\n",
    "fertilizer3 = [18, 20, 22, 19, 24]\n",
    "\n",
    "# Create DataFrame\n",
    "data = {\n",
    "    'Growth': fertilizer1 + fertilizer2 + fertilizer3,\n",
    "    'Fertilizer': ['F1']*len(fertilizer1) + ['F2']*len(fertilizer2) + ['F3']*len(fertilizer3)\n",
    "}\n",
    "df = pd.DataFrame(data)\n",
    "\n",
    "# Number of comparisons\n",
    "num_comparisons = 3 # For 3 groups, we have 3 pairwise comparisons (F1 vs F2, F1 vs F3, F2 vs F3)\n",
    "\n",
    "# Adjusted alpha level (for significance)\n",
    "alpha = 0.05 / num_comparisons\n",
    "\n",
    "# Conduct pairwise t-tests with Bonferroni correction\n",
    "pairwise_results = []\n",
    "for group1 in df['Fertilizer'].unique():\n",
    "    for group2 in df['Fertilizer'].unique():\n",
    "        if group1 < group2: # To avoid duplicate comparisons\n",
    "            group1_data = df[df['Fertilizer'] == group1]['Growth']\n",
    "            group2_data = df[df['Fertilizer'] == group2]['Growth']\n",
    "            t_stat, p_val = stats.ttest_ind(group1_data, group2_data)\n",
    "            p_val_adjusted = p_val * num_comparisons\n",
    "            pairwise_results.append((f'{group1} vs {group2}', t_stat, p_val_adjusted))\n",
    "\n",
    "# Print results\n",
    "for result in pairwise_results:\n",
    "    group_comparison, t_stat, p_val_adjusted = result\n",
    "    print(f\"{group_comparison}: t-statistic = {t_stat:.3f}, p-value (adjusted) = {p_val_adjusted:.3f}\")"
   ]
  }
 ],
 "metadata": {
  "kernelspec": {
   "display_name": "python_eda",
   "language": "python",
   "name": "python3"
  },
  "language_info": {
   "codemirror_mode": {
    "name": "ipython",
    "version": 3
   },
   "file_extension": ".py",
   "mimetype": "text/x-python",
   "name": "python",
   "nbconvert_exporter": "python",
   "pygments_lexer": "ipython3",
   "version": "3.13.0"
  }
 },
 "nbformat": 4,
 "nbformat_minor": 2
}

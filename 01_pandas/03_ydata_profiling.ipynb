{
 "cells": [
  {
   "cell_type": "markdown",
   "metadata": {},
   "source": [
    "# **Automatic EDA by using `ydata_profiling`**"
   ]
  },
  {
   "cell_type": "code",
   "execution_count": 1,
   "metadata": {},
   "outputs": [
    {
     "name": "stderr",
     "output_type": "stream",
     "text": [
      "c:\\Users\\dv04i\\miniconda3\\envs\\ydata_profiling\\lib\\site-packages\\tqdm\\auto.py:21: TqdmWarning: IProgress not found. Please update jupyter and ipywidgets. See https://ipywidgets.readthedocs.io/en/stable/user_install.html\n",
      "  from .autonotebook import tqdm as notebook_tqdm\n"
     ]
    }
   ],
   "source": [
    "# load libraries\n",
    "import pandas as pd\n",
    "import seaborn as sns\n",
    "import ydata_profiling as yd"
   ]
  },
  {
   "cell_type": "code",
   "execution_count": 3,
   "metadata": {},
   "outputs": [],
   "source": [
    "# load the dataset\n",
    "df = sns.load_dataset(\"titanic\")"
   ]
  },
  {
   "cell_type": "code",
   "execution_count": 8,
   "metadata": {},
   "outputs": [
    {
     "name": "stderr",
     "output_type": "stream",
     "text": [
      "Summarize dataset: 100%|██████████| 41/41 [00:03<00:00, 11.08it/s, Completed]                    \n",
      "Generate report structure: 100%|██████████| 1/1 [00:04<00:00,  4.43s/it]\n",
      "Render HTML: 100%|██████████| 1/1 [00:01<00:00,  1.22s/it]\n",
      "Export report to file: 100%|██████████| 1/1 [00:00<00:00, 72.61it/s]\n"
     ]
    }
   ],
   "source": [
    "#ydata profile report\n",
    "profile = yd.ProfileReport(df)\n",
    "profile.to_file(\"outputs/ydata_titanic.html\")"
   ]
  },
  {
   "cell_type": "markdown",
   "metadata": {},
   "source": [
    "# **Do this on Pak popullation dataset**"
   ]
  },
  {
   "cell_type": "code",
   "execution_count": 10,
   "metadata": {},
   "outputs": [],
   "source": [
    "pak_pop_dataset = pd.read_csv(\"Datasets\\sub-division_population_of_pakistan.csv\") "
   ]
  },
  {
   "cell_type": "code",
   "execution_count": 11,
   "metadata": {},
   "outputs": [
    {
     "name": "stderr",
     "output_type": "stream",
     "text": [
      "Summarize dataset: 100%|██████████| 319/319 [00:41<00:00,  7.68it/s, Completed]                                                     \n",
      "Generate report structure: 100%|██████████| 1/1 [00:10<00:00, 10.04s/it]\n",
      "Render HTML: 100%|██████████| 1/1 [00:10<00:00, 10.62s/it]\n",
      "Export report to file: 100%|██████████| 1/1 [00:00<00:00,  8.51it/s]\n"
     ]
    }
   ],
   "source": [
    "profile_pak_pop = yd.ProfileReport(pak_pop_dataset)\n",
    "profile_pak_pop.to_file(\"outputs/ydata_pak_pop.html\")"
   ]
  },
  {
   "cell_type": "code",
   "execution_count": null,
   "metadata": {},
   "outputs": [],
   "source": []
  }
 ],
 "metadata": {
  "kernelspec": {
   "display_name": "ydata_profiling",
   "language": "python",
   "name": "python3"
  },
  "language_info": {
   "codemirror_mode": {
    "name": "ipython",
    "version": 3
   },
   "file_extension": ".py",
   "mimetype": "text/x-python",
   "name": "python",
   "nbconvert_exporter": "python",
   "pygments_lexer": "ipython3",
   "version": "3.10.0"
  }
 },
 "nbformat": 4,
 "nbformat_minor": 2
}

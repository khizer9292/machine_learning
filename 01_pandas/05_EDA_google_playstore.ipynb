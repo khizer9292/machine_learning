{
 "cells": [
  {
   "cell_type": "markdown",
   "metadata": {},
   "source": [
    "# **Google PlayStore EDA**\n",
    "***Author:*** Khizer Rehman\n",
    "### In this EDA , I am using the dataset of Google PlayStore apps which downloaded from the following [Link](https://www.kaggle.com/datasets/lava18/google-play-store-apps)\n",
    "\n",
    "# `About Dataset`\n",
    "* `Context`\n",
    "\n",
    "   While many public datasets (on Kaggle and the like) provide Apple App Store data, there are not many counterpart datasets available for Google Play Store apps anywhere on the web. On digging deeper, I found out that iTunes App Store page deploys a nicely indexed appendix-like structure to allow for simple and easy web scraping. On the other hand, Google Play Store uses sophisticated modern-day techniques (like dynamic page load) using JQuery making scraping more challenging.\n",
    "\n",
    "* `Content`\n",
    "\n",
    "   Each app (row) has values for catergory, rating, size, and more.\n",
    "\n",
    "* `Acknowledgements`\n",
    "\n",
    "   This information is scraped from the Google Play Store. This app information would not be available without it.\n",
    "\n",
    "* `Inspiration`\n",
    "\n",
    "   The Play Store apps data has enormous potential to drive app-making businesses to success. Actionable insights can be drawn for developers to work on and capture the Android market!\n"
   ]
  },
  {
   "cell_type": "markdown",
   "metadata": {},
   "source": [
    "# 1.  First of all Importing all the important Libraries"
   ]
  },
  {
   "cell_type": "code",
   "execution_count": 204,
   "metadata": {},
   "outputs": [],
   "source": [
    "# This is use for the jupyter notebook to show the graphs in the notebook itself instead to open in new window\n",
    "%matplotlib inline\n",
    "import numpy as np\n",
    "import pandas as pd\n",
    "import seaborn as sns\n",
    "import matplotlib.pyplot as plt "
   ]
  },
  {
   "cell_type": "markdown",
   "metadata": {},
   "source": [
    "# 2. Now, Load the Dataset"
   ]
  },
  {
   "cell_type": "code",
   "execution_count": 205,
   "metadata": {},
   "outputs": [
    {
     "data": {
      "text/html": [
       "<div>\n",
       "<style scoped>\n",
       "    .dataframe tbody tr th:only-of-type {\n",
       "        vertical-align: middle;\n",
       "    }\n",
       "\n",
       "    .dataframe tbody tr th {\n",
       "        vertical-align: top;\n",
       "    }\n",
       "\n",
       "    .dataframe thead th {\n",
       "        text-align: right;\n",
       "    }\n",
       "</style>\n",
       "<table border=\"1\" class=\"dataframe\">\n",
       "  <thead>\n",
       "    <tr style=\"text-align: right;\">\n",
       "      <th></th>\n",
       "      <th>App</th>\n",
       "      <th>Category</th>\n",
       "      <th>Rating</th>\n",
       "      <th>Reviews</th>\n",
       "      <th>Size</th>\n",
       "      <th>Installs</th>\n",
       "      <th>Type</th>\n",
       "      <th>Price</th>\n",
       "      <th>Content Rating</th>\n",
       "      <th>Genres</th>\n",
       "      <th>Last Updated</th>\n",
       "      <th>Current Ver</th>\n",
       "      <th>Android Ver</th>\n",
       "      <th>Unnamed: 13</th>\n",
       "    </tr>\n",
       "  </thead>\n",
       "  <tbody>\n",
       "    <tr>\n",
       "      <th>0</th>\n",
       "      <td>Photo Editor &amp; Candy Camera &amp; Grid &amp; ScrapBook</td>\n",
       "      <td>ART_AND_DESIGN</td>\n",
       "      <td>4.1</td>\n",
       "      <td>159</td>\n",
       "      <td>19M</td>\n",
       "      <td>10,000+</td>\n",
       "      <td>Free</td>\n",
       "      <td>0</td>\n",
       "      <td>Everyone</td>\n",
       "      <td>Art &amp; Design</td>\n",
       "      <td>January 7, 2018</td>\n",
       "      <td>1.0.0</td>\n",
       "      <td>4.0.3 and up</td>\n",
       "      <td>NaN</td>\n",
       "    </tr>\n",
       "    <tr>\n",
       "      <th>1</th>\n",
       "      <td>Coloring book moana</td>\n",
       "      <td>ART_AND_DESIGN</td>\n",
       "      <td>3.9</td>\n",
       "      <td>967</td>\n",
       "      <td>14M</td>\n",
       "      <td>500,000+</td>\n",
       "      <td>Free</td>\n",
       "      <td>0</td>\n",
       "      <td>Everyone</td>\n",
       "      <td>Art &amp; Design;Pretend Play</td>\n",
       "      <td>January 15, 2018</td>\n",
       "      <td>2.0.0</td>\n",
       "      <td>4.0.3 and up</td>\n",
       "      <td>NaN</td>\n",
       "    </tr>\n",
       "  </tbody>\n",
       "</table>\n",
       "</div>"
      ],
      "text/plain": [
       "                                              App        Category  Rating  \\\n",
       "0  Photo Editor & Candy Camera & Grid & ScrapBook  ART_AND_DESIGN     4.1   \n",
       "1                             Coloring book moana  ART_AND_DESIGN     3.9   \n",
       "\n",
       "   Reviews Size  Installs  Type Price Content Rating  \\\n",
       "0      159  19M   10,000+  Free     0       Everyone   \n",
       "1      967  14M  500,000+  Free     0       Everyone   \n",
       "\n",
       "                      Genres      Last Updated Current Ver   Android Ver  \\\n",
       "0               Art & Design   January 7, 2018       1.0.0  4.0.3 and up   \n",
       "1  Art & Design;Pretend Play  January 15, 2018       2.0.0  4.0.3 and up   \n",
       "\n",
       "   Unnamed: 13  \n",
       "0          NaN  \n",
       "1          NaN  "
      ]
     },
     "execution_count": 205,
     "metadata": {},
     "output_type": "execute_result"
    }
   ],
   "source": [
    "df = pd.read_csv('Datasets/googleplaystore.csv')\n",
    "df.head(2)"
   ]
  },
  {
   "cell_type": "code",
   "execution_count": 206,
   "metadata": {},
   "outputs": [
    {
     "data": {
      "text/plain": [
       "Index(['App', 'Category', 'Rating', 'Reviews', 'Size', 'Installs', 'Type',\n",
       "       'Price', 'Content Rating', 'Genres', 'Last Updated', 'Current Ver',\n",
       "       'Android Ver', 'Unnamed: 13'],\n",
       "      dtype='object')"
      ]
     },
     "execution_count": 206,
     "metadata": {},
     "output_type": "execute_result"
    }
   ],
   "source": [
    "df.columns"
   ]
  },
  {
   "cell_type": "markdown",
   "metadata": {},
   "source": [
    "# 3. Basic Info about the whole Dataset"
   ]
  },
  {
   "cell_type": "code",
   "execution_count": 207,
   "metadata": {},
   "outputs": [
    {
     "name": "stdout",
     "output_type": "stream",
     "text": [
      "<class 'pandas.core.frame.DataFrame'>\n",
      "RangeIndex: 10841 entries, 0 to 10840\n",
      "Data columns (total 14 columns):\n",
      " #   Column          Non-Null Count  Dtype  \n",
      "---  ------          --------------  -----  \n",
      " 0   App             10841 non-null  object \n",
      " 1   Category        10840 non-null  object \n",
      " 2   Rating          9367 non-null   float64\n",
      " 3   Reviews         10841 non-null  int64  \n",
      " 4   Size            10841 non-null  object \n",
      " 5   Installs        10841 non-null  object \n",
      " 6   Type            10840 non-null  object \n",
      " 7   Price           10841 non-null  object \n",
      " 8   Content Rating  10841 non-null  object \n",
      " 9   Genres          10840 non-null  object \n",
      " 10  Last Updated    10841 non-null  object \n",
      " 11  Current Ver     10833 non-null  object \n",
      " 12  Android Ver     10839 non-null  object \n",
      " 13  Unnamed: 13     0 non-null      float64\n",
      "dtypes: float64(2), int64(1), object(11)\n",
      "memory usage: 1.2+ MB\n"
     ]
    }
   ],
   "source": [
    "df.info()"
   ]
  },
  {
   "cell_type": "markdown",
   "metadata": {},
   "source": [
    "# 4. Creating Statistic analysis of the whole dataset"
   ]
  },
  {
   "cell_type": "code",
   "execution_count": 208,
   "metadata": {},
   "outputs": [
    {
     "data": {
      "text/html": [
       "<div>\n",
       "<style scoped>\n",
       "    .dataframe tbody tr th:only-of-type {\n",
       "        vertical-align: middle;\n",
       "    }\n",
       "\n",
       "    .dataframe tbody tr th {\n",
       "        vertical-align: top;\n",
       "    }\n",
       "\n",
       "    .dataframe thead th {\n",
       "        text-align: right;\n",
       "    }\n",
       "</style>\n",
       "<table border=\"1\" class=\"dataframe\">\n",
       "  <thead>\n",
       "    <tr style=\"text-align: right;\">\n",
       "      <th></th>\n",
       "      <th>Rating</th>\n",
       "      <th>Reviews</th>\n",
       "      <th>Unnamed: 13</th>\n",
       "    </tr>\n",
       "  </thead>\n",
       "  <tbody>\n",
       "    <tr>\n",
       "      <th>count</th>\n",
       "      <td>9367.000000</td>\n",
       "      <td>1.084100e+04</td>\n",
       "      <td>0.0</td>\n",
       "    </tr>\n",
       "    <tr>\n",
       "      <th>mean</th>\n",
       "      <td>4.191513</td>\n",
       "      <td>4.441119e+05</td>\n",
       "      <td>NaN</td>\n",
       "    </tr>\n",
       "    <tr>\n",
       "      <th>std</th>\n",
       "      <td>0.515735</td>\n",
       "      <td>2.927629e+06</td>\n",
       "      <td>NaN</td>\n",
       "    </tr>\n",
       "    <tr>\n",
       "      <th>min</th>\n",
       "      <td>1.000000</td>\n",
       "      <td>0.000000e+00</td>\n",
       "      <td>NaN</td>\n",
       "    </tr>\n",
       "    <tr>\n",
       "      <th>25%</th>\n",
       "      <td>4.000000</td>\n",
       "      <td>3.800000e+01</td>\n",
       "      <td>NaN</td>\n",
       "    </tr>\n",
       "    <tr>\n",
       "      <th>50%</th>\n",
       "      <td>4.300000</td>\n",
       "      <td>2.094000e+03</td>\n",
       "      <td>NaN</td>\n",
       "    </tr>\n",
       "    <tr>\n",
       "      <th>75%</th>\n",
       "      <td>4.500000</td>\n",
       "      <td>5.476800e+04</td>\n",
       "      <td>NaN</td>\n",
       "    </tr>\n",
       "    <tr>\n",
       "      <th>max</th>\n",
       "      <td>5.000000</td>\n",
       "      <td>7.815831e+07</td>\n",
       "      <td>NaN</td>\n",
       "    </tr>\n",
       "  </tbody>\n",
       "</table>\n",
       "</div>"
      ],
      "text/plain": [
       "            Rating       Reviews  Unnamed: 13\n",
       "count  9367.000000  1.084100e+04          0.0\n",
       "mean      4.191513  4.441119e+05          NaN\n",
       "std       0.515735  2.927629e+06          NaN\n",
       "min       1.000000  0.000000e+00          NaN\n",
       "25%       4.000000  3.800000e+01          NaN\n",
       "50%       4.300000  2.094000e+03          NaN\n",
       "75%       4.500000  5.476800e+04          NaN\n",
       "max       5.000000  7.815831e+07          NaN"
      ]
     },
     "execution_count": 208,
     "metadata": {},
     "output_type": "execute_result"
    }
   ],
   "source": [
    "df.describe()"
   ]
  },
  {
   "cell_type": "code",
   "execution_count": 209,
   "metadata": {},
   "outputs": [
    {
     "data": {
      "text/plain": [
       "10841"
      ]
     },
     "execution_count": 209,
     "metadata": {},
     "output_type": "execute_result"
    }
   ],
   "source": [
    "len(df)"
   ]
  },
  {
   "cell_type": "code",
   "execution_count": null,
   "metadata": {},
   "outputs": [
    {
     "name": "stdout",
     "output_type": "stream",
     "text": [
      "App\n",
      "Category\n",
      "Rating\n",
      "Reviews\n",
      "Size\n",
      "Installs\n",
      "Type\n",
      "Price\n",
      "Content Rating\n",
      "Genres\n",
      "Last Updated\n",
      "Current Ver\n",
      "Android Ver\n",
      "Unnamed: 13\n",
      "App\n",
      "Category\n",
      "Rating\n",
      "Reviews\n",
      "Size\n",
      "Installs\n",
      "Type\n",
      "Price\n",
      "Content Rating\n",
      "Genres\n",
      "Last Updated\n",
      "Current Ver\n",
      "Android Ver\n",
      "Unnamed: 13\n"
     ]
    }
   ],
   "source": [
    "# for col in df.columns:\n",
    "#     print(col)\n",
    "\n",
    "x = 0\n",
    "while x < len(df.columns):\n",
    "    print(df.columns[x])   \n",
    "    x +=1"
   ]
  },
  {
   "cell_type": "markdown",
   "metadata": {},
   "source": [
    "# Analysis of the dataset\n",
    "* ### **Observation**\n",
    "1. Removing the missing values.\n",
    "2. Columns in our dataset:  'App', 'Category', 'Rating', 'Reviews', 'Size', 'Installs', 'Type','Price', 'Content Rating', 'Genres', 'Last Updated', 'Current Ver','Android Ver', 'Unnamed: 13'(But, their are only 2 columns which are in numeric)\n",
    "  * **Numeric columns in our dataset:**\\\n",
    "    Convert all the numeric columns into the numeric data type\n",
    "    1. Rating \n",
    "    2. Reviews\n",
    "    3. Size\n",
    "    4. Installs \n",
    "    5. Price \n"
   ]
  },
  {
   "cell_type": "markdown",
   "metadata": {},
   "source": [
    "# 5. Calculating the `missing values`"
   ]
  },
  {
   "cell_type": "code",
   "execution_count": null,
   "metadata": {},
   "outputs": [
    {
     "data": {
      "text/plain": [
       "App                   0\n",
       "Category              1\n",
       "Rating             1474\n",
       "Reviews               0\n",
       "Size                  0\n",
       "Installs              0\n",
       "Type                  1\n",
       "Price                 0\n",
       "Content Rating        0\n",
       "Genres                1\n",
       "Last Updated          0\n",
       "Current Ver           8\n",
       "Android Ver           2\n",
       "Unnamed: 13       10841\n",
       "dtype: int64"
      ]
     },
     "execution_count": 102,
     "metadata": {},
     "output_type": "execute_result"
    }
   ],
   "source": [
    "df.isnull().sum()"
   ]
  },
  {
   "cell_type": "code",
   "execution_count": null,
   "metadata": {},
   "outputs": [
    {
     "data": {
      "text/plain": [
       "<Axes: >"
      ]
     },
     "execution_count": 103,
     "metadata": {},
     "output_type": "execute_result"
    },
    {
     "data": {
      "image/png": "[encoded data removed]",
      "text/plain": [
       "<Figure size 1400x600 with 1 Axes>"
      ]
     },
     "metadata": {},
     "output_type": "display_data"
    }
   ],
   "source": [
    "plt.figure(figsize=(14,6))\n",
    "sns.heatmap(df.isnull(), cbar=False)"
   ]
  },
  {
   "cell_type": "code",
   "execution_count": null,
   "metadata": {},
   "outputs": [
    {
     "data": {
      "text/plain": [
       "Text(0.5, 1.0, 'Percentage of missing values in each column')"
      ]
     },
     "execution_count": 104,
     "metadata": {},
     "output_type": "execute_result"
    },
    {
     "data": {
      "image/png": "[encoded data removed]",
      "text/plain": [
       "<Figure size 1400x600 with 1 Axes>"
      ]
     },
     "metadata": {},
     "output_type": "display_data"
    }
   ],
   "source": [
    "plt.figure(figsize=(14,6))\n",
    "missing_values = df.isnull().sum()/ len(df) *100\n",
    "missing_values.plot(kind=\"bar\")\n",
    "plt.ylabel(\"Percentage\")\n",
    "plt.xlabel(\"Columns\")\n",
    "plt.title(\"Percentage of missing values in each column\")"
   ]
  },
  {
   "cell_type": "code",
   "execution_count": null,
   "metadata": {},
   "outputs": [
    {
     "data": {
      "text/plain": [
       "<Axes: >"
      ]
     },
     "execution_count": 105,
     "metadata": {},
     "output_type": "execute_result"
    },
    {
     "data": {
      "image/png": "[encoded data removed]",
      "text/plain": [
       "<Figure size 1400x600 with 1 Axes>"
      ]
     },
     "metadata": {},
     "output_type": "display_data"
    }
   ],
   "source": [
    "plt.figure(figsize=(14,6))\n",
    "missing_values[missing_values < 1].plot(kind=\"bar\")"
   ]
  },
  {
   "cell_type": "markdown",
   "metadata": {},
   "source": [
    "# **Working on anomalies in dataset**"
   ]
  },
  {
   "cell_type": "markdown",
   "metadata": {},
   "source": [
    "# Drop the `Unnamed: 13` column from the dataset"
   ]
  },
  {
   "cell_type": "code",
   "execution_count": null,
   "metadata": {},
   "outputs": [
    {
     "data": {
      "text/plain": [
       "Index(['App', 'Category', 'Rating', 'Reviews', 'Size', 'Installs', 'Type',\n",
       "       'Price', 'Content Rating', 'Genres', 'Last Updated', 'Current Ver',\n",
       "       'Android Ver'],\n",
       "      dtype='object')"
      ]
     },
     "execution_count": 106,
     "metadata": {},
     "output_type": "execute_result"
    }
   ],
   "source": [
    "df.drop(\"Unnamed: 13\", axis=1, inplace=True)\n",
    "df.columns"
   ]
  },
  {
   "cell_type": "markdown",
   "metadata": {},
   "source": [
    "# Feature Engineering the `Size`  column"
   ]
  },
  {
   "cell_type": "code",
   "execution_count": null,
   "metadata": {},
   "outputs": [
    {
     "data": {
      "text/plain": [
       "array(['19M', '14M', '8.7M', '25M', '2.8M', '5.6M', '29M', '33M', '3.1M',\n",
       "       '28M', '12M', '20M', '21M', '37M', '2.7M', '5.5M', '17M', '39M',\n",
       "       '31M', '4.2M', '7.0M', '23M', '6.0M', '6.1M', '4.6M', '9.2M',\n",
       "       '5.2M', '11M', '24M', 'Varies with device', '9.4M', '15M', '10M',\n",
       "       '1.2M', '26M', '8.0M', '7.9M', '56M', '57M', '35M', '54M', '201k',\n",
       "       '3.6M', '5.7M', '8.6M', '2.4M', '27M', '2.5M', '16M', '3.4M',\n",
       "       '8.9M', '3.9M', '2.9M', '38M', '32M', '5.4M', '18M', '1.1M',\n",
       "       '2.2M', '4.5M', '9.8M', '52M', '9.0M', '6.7M', '30M', '2.6M',\n",
       "       '7.1M', '3.7M', '22M', '7.4M', '6.4M', '3.2M', '8.2M', '9.9M',\n",
       "       '4.9M', '9.5M', '5.0M', '5.9M', '13M', '73M', '6.8M', '3.5M',\n",
       "       '4.0M', '2.3M', '7.2M', '2.1M', '42M', '7.3M', '9.1M', '55M',\n",
       "       '23k', '6.5M', '1.5M', '7.5M', '51M', '41M', '48M', '8.5M', '46M',\n",
       "       '8.3M', '4.3M', '4.7M', '3.3M', '40M', '7.8M', '8.8M', '6.6M',\n",
       "       '5.1M', '61M', '66M', '79k', '8.4M', '118k', '44M', '695k', '1.6M',\n",
       "       '6.2M', '18k', '53M', '1.4M', '3.0M', '5.8M', '3.8M', '9.6M',\n",
       "       '45M', '63M', '49M', '77M', '4.4M', '4.8M', '70M', '6.9M', '9.3M',\n",
       "       '10.0M', '8.1M', '36M', '84M', '97M', '2.0M', '1.9M', '1.8M',\n",
       "       '5.3M', '47M', '556k', '526k', '76M', '7.6M', '59M', '9.7M', '78M',\n",
       "       '72M', '43M', '7.7M', '6.3M', '334k', '34M', '93M', '65M', '79M',\n",
       "       '100M', '58M', '50M', '68M', '64M', '67M', '60M', '94M', '232k',\n",
       "       '99M', '624k', '95M', '8.5k', '41k', '292k', '11k', '80M', '1.7M',\n",
       "       '74M', '62M', '69M', '75M', '98M', '85M', '82M', '96M', '87M',\n",
       "       '71M', '86M', '91M', '81M', '92M', '83M', '88M', '704k', '862k',\n",
       "       '899k', '378k', '266k', '375k', '1.3M', '975k', '980k', '4.1M',\n",
       "       '89M', '696k', '544k', '525k', '920k', '779k', '853k', '720k',\n",
       "       '713k', '772k', '318k', '58k', '241k', '196k', '857k', '51k',\n",
       "       '953k', '865k', '251k', '930k', '540k', '313k', '746k', '203k',\n",
       "       '26k', '314k', '239k', '371k', '220k', '730k', '756k', '91k',\n",
       "       '293k', '17k', '74k', '14k', '317k', '78k', '924k', '902k', '818k',\n",
       "       '81k', '939k', '169k', '45k', '475k', '965k', '90M', '545k', '61k',\n",
       "       '283k', '655k', '714k', '93k', '872k', '121k', '322k', '1.0M',\n",
       "       '976k', '172k', '238k', '549k', '206k', '954k', '444k', '717k',\n",
       "       '210k', '609k', '308k', '705k', '306k', '904k', '473k', '175k',\n",
       "       '350k', '383k', '454k', '421k', '70k', '812k', '442k', '842k',\n",
       "       '417k', '412k', '459k', '478k', '335k', '782k', '721k', '430k',\n",
       "       '429k', '192k', '200k', '460k', '728k', '496k', '816k', '414k',\n",
       "       '506k', '887k', '613k', '243k', '569k', '778k', '683k', '592k',\n",
       "       '319k', '186k', '840k', '647k', '191k', '373k', '437k', '598k',\n",
       "       '716k', '585k', '982k', '222k', '219k', '55k', '948k', '323k',\n",
       "       '691k', '511k', '951k', '963k', '25k', '554k', '351k', '27k',\n",
       "       '82k', '208k', '913k', '514k', '551k', '29k', '103k', '898k',\n",
       "       '743k', '116k', '153k', '209k', '353k', '499k', '173k', '597k',\n",
       "       '809k', '122k', '411k', '400k', '801k', '787k', '237k', '50k',\n",
       "       '643k', '986k', '97k', '516k', '837k', '780k', '961k', '269k',\n",
       "       '20k', '498k', '600k', '749k', '642k', '881k', '72k', '656k',\n",
       "       '601k', '221k', '228k', '108k', '940k', '176k', '33k', '663k',\n",
       "       '34k', '942k', '259k', '164k', '458k', '245k', '629k', '28k',\n",
       "       '288k', '775k', '785k', '636k', '916k', '994k', '309k', '485k',\n",
       "       '914k', '903k', '608k', '500k', '54k', '562k', '847k', '957k',\n",
       "       '688k', '811k', '270k', '48k', '329k', '523k', '921k', '874k',\n",
       "       '981k', '784k', '280k', '24k', '518k', '754k', '892k', '154k',\n",
       "       '860k', '364k', '387k', '626k', '161k', '879k', '39k', '970k',\n",
       "       '170k', '141k', '160k', '144k', '143k', '190k', '376k', '193k',\n",
       "       '246k', '73k', '658k', '992k', '253k', '420k', '404k', '470k',\n",
       "       '226k', '240k', '89k', '234k', '257k', '861k', '467k', '157k',\n",
       "       '44k', '676k', '67k', '552k', '885k', '1020k', '582k', '619k'],\n",
       "      dtype=object)"
      ]
     },
     "execution_count": 107,
     "metadata": {},
     "output_type": "execute_result"
    }
   ],
   "source": [
    "df[\"Size\"].unique()"
   ]
  },
  {
   "cell_type": "code",
   "execution_count": null,
   "metadata": {},
   "outputs": [
    {
     "data": {
      "text/plain": [
       "Size\n",
       "Varies with device    1695\n",
       "11M                    198\n",
       "12M                    196\n",
       "14M                    194\n",
       "13M                    191\n",
       "                      ... \n",
       "430k                     1\n",
       "429k                     1\n",
       "200k                     1\n",
       "460k                     1\n",
       "619k                     1\n",
       "Name: count, Length: 461, dtype: int64"
      ]
     },
     "execution_count": 108,
     "metadata": {},
     "output_type": "execute_result"
    }
   ],
   "source": [
    "df[\"Size\"].value_counts()"
   ]
  },
  {
   "cell_type": "code",
   "execution_count": null,
   "metadata": {},
   "outputs": [
    {
     "data": {
      "text/plain": [
       "0"
      ]
     },
     "execution_count": 109,
     "metadata": {},
     "output_type": "execute_result"
    }
   ],
   "source": [
    "df[\"Size\"].isnull().sum()"
   ]
  },
  {
   "cell_type": "markdown",
   "metadata": {},
   "source": [
    "There is no `NaN` value in the `Size` column\n",
    "*  Now, convert kbs and Mbs into bytes"
   ]
  },
  {
   "cell_type": "code",
   "execution_count": null,
   "metadata": {},
   "outputs": [
    {
     "data": {
      "text/plain": [
       "array(['19M', '14M', '8.7M', '25M', '2.8M', '5.6M', '29M', '33M', '3.1M',\n",
       "       '28M', '12M', '20M', '21M', '37M', '2.7M', '5.5M', '17M', '39M',\n",
       "       '31M', '4.2M', '7.0M', '23M', '6.0M', '6.1M', '4.6M', '9.2M',\n",
       "       '5.2M', '11M', '24M', 'Varies with device', '9.4M', '15M', '10M',\n",
       "       '1.2M', '26M', '8.0M', '7.9M', '56M', '57M', '35M', '54M', '201k',\n",
       "       '3.6M', '5.7M', '8.6M', '2.4M', '27M', '2.5M', '16M', '3.4M',\n",
       "       '8.9M', '3.9M', '2.9M', '38M', '32M', '5.4M', '18M', '1.1M',\n",
       "       '2.2M', '4.5M', '9.8M', '52M', '9.0M', '6.7M', '30M', '2.6M',\n",
       "       '7.1M', '3.7M', '22M', '7.4M', '6.4M', '3.2M', '8.2M', '9.9M',\n",
       "       '4.9M', '9.5M', '5.0M', '5.9M', '13M', '73M', '6.8M', '3.5M',\n",
       "       '4.0M', '2.3M', '7.2M', '2.1M', '42M', '7.3M', '9.1M', '55M',\n",
       "       '23k', '6.5M', '1.5M', '7.5M', '51M', '41M', '48M', '8.5M', '46M',\n",
       "       '8.3M', '4.3M', '4.7M', '3.3M', '40M', '7.8M', '8.8M', '6.6M',\n",
       "       '5.1M', '61M', '66M', '79k', '8.4M', '118k', '44M', '695k', '1.6M',\n",
       "       '6.2M', '18k', '53M', '1.4M', '3.0M', '5.8M', '3.8M', '9.6M',\n",
       "       '45M', '63M', '49M', '77M', '4.4M', '4.8M', '70M', '6.9M', '9.3M',\n",
       "       '10.0M', '8.1M', '36M', '84M', '97M', '2.0M', '1.9M', '1.8M',\n",
       "       '5.3M', '47M', '556k', '526k', '76M', '7.6M', '59M', '9.7M', '78M',\n",
       "       '72M', '43M', '7.7M', '6.3M', '334k', '34M', '93M', '65M', '79M',\n",
       "       '100M', '58M', '50M', '68M', '64M', '67M', '60M', '94M', '232k',\n",
       "       '99M', '624k', '95M', '8.5k', '41k', '292k', '11k', '80M', '1.7M',\n",
       "       '74M', '62M', '69M', '75M', '98M', '85M', '82M', '96M', '87M',\n",
       "       '71M', '86M', '91M', '81M', '92M', '83M', '88M', '704k', '862k',\n",
       "       '899k', '378k', '266k', '375k', '1.3M', '975k', '980k', '4.1M',\n",
       "       '89M', '696k', '544k', '525k', '920k', '779k', '853k', '720k',\n",
       "       '713k', '772k', '318k', '58k', '241k', '196k', '857k', '51k',\n",
       "       '953k', '865k', '251k', '930k', '540k', '313k', '746k', '203k',\n",
       "       '26k', '314k', '239k', '371k', '220k', '730k', '756k', '91k',\n",
       "       '293k', '17k', '74k', '14k', '317k', '78k', '924k', '902k', '818k',\n",
       "       '81k', '939k', '169k', '45k', '475k', '965k', '90M', '545k', '61k',\n",
       "       '283k', '655k', '714k', '93k', '872k', '121k', '322k', '1.0M',\n",
       "       '976k', '172k', '238k', '549k', '206k', '954k', '444k', '717k',\n",
       "       '210k', '609k', '308k', '705k', '306k', '904k', '473k', '175k',\n",
       "       '350k', '383k', '454k', '421k', '70k', '812k', '442k', '842k',\n",
       "       '417k', '412k', '459k', '478k', '335k', '782k', '721k', '430k',\n",
       "       '429k', '192k', '200k', '460k', '728k', '496k', '816k', '414k',\n",
       "       '506k', '887k', '613k', '243k', '569k', '778k', '683k', '592k',\n",
       "       '319k', '186k', '840k', '647k', '191k', '373k', '437k', '598k',\n",
       "       '716k', '585k', '982k', '222k', '219k', '55k', '948k', '323k',\n",
       "       '691k', '511k', '951k', '963k', '25k', '554k', '351k', '27k',\n",
       "       '82k', '208k', '913k', '514k', '551k', '29k', '103k', '898k',\n",
       "       '743k', '116k', '153k', '209k', '353k', '499k', '173k', '597k',\n",
       "       '809k', '122k', '411k', '400k', '801k', '787k', '237k', '50k',\n",
       "       '643k', '986k', '97k', '516k', '837k', '780k', '961k', '269k',\n",
       "       '20k', '498k', '600k', '749k', '642k', '881k', '72k', '656k',\n",
       "       '601k', '221k', '228k', '108k', '940k', '176k', '33k', '663k',\n",
       "       '34k', '942k', '259k', '164k', '458k', '245k', '629k', '28k',\n",
       "       '288k', '775k', '785k', '636k', '916k', '994k', '309k', '485k',\n",
       "       '914k', '903k', '608k', '500k', '54k', '562k', '847k', '957k',\n",
       "       '688k', '811k', '270k', '48k', '329k', '523k', '921k', '874k',\n",
       "       '981k', '784k', '280k', '24k', '518k', '754k', '892k', '154k',\n",
       "       '860k', '364k', '387k', '626k', '161k', '879k', '39k', '970k',\n",
       "       '170k', '141k', '160k', '144k', '143k', '190k', '376k', '193k',\n",
       "       '246k', '73k', '658k', '992k', '253k', '420k', '404k', '470k',\n",
       "       '226k', '240k', '89k', '234k', '257k', '861k', '467k', '157k',\n",
       "       '44k', '676k', '67k', '552k', '885k', '1020k', '582k', '619k'],\n",
       "      dtype=object)"
      ]
     },
     "execution_count": 110,
     "metadata": {},
     "output_type": "execute_result"
    }
   ],
   "source": [
    "df[\"Size\"].unique()"
   ]
  },
  {
   "cell_type": "code",
   "execution_count": null,
   "metadata": {},
   "outputs": [],
   "source": [
    "# Create a function for this purpose\n",
    "def convert_size(size):\n",
    "    if \"M\" in size:\n",
    "        return float(size.replace(\"M\", \"\")) * 1024 * 1024\n",
    "    elif \"k\" in size:\n",
    "        return float(size.replace(\"k\", \"\")) * 1024\n",
    "    elif \"Varies with device\" in size:\n",
    "        return np.nan"
   ]
  },
  {
   "cell_type": "code",
   "execution_count": null,
   "metadata": {},
   "outputs": [
    {
     "data": {
      "text/plain": [
       "Size\n",
       "11534336.0    198\n",
       "12582912.0    196\n",
       "14680064.0    194\n",
       "13631488.0    191\n",
       "15728640.0    184\n",
       "             ... \n",
       "440320.0        1\n",
       "439296.0        1\n",
       "204800.0        1\n",
       "471040.0        1\n",
       "633856.0        1\n",
       "Name: count, Length: 459, dtype: int64"
      ]
     },
     "execution_count": 112,
     "metadata": {},
     "output_type": "execute_result"
    }
   ],
   "source": [
    "# let, apply this function to the 'Size' columns\n",
    "df[\"Size\"] = df[\"Size\"].apply(convert_size)\n",
    "df[\"Size\"].value_counts()"
   ]
  },
  {
   "cell_type": "code",
   "execution_count": null,
   "metadata": {},
   "outputs": [
    {
     "data": {
      "text/html": [
       "<div>\n",
       "<style scoped>\n",
       "    .dataframe tbody tr th:only-of-type {\n",
       "        vertical-align: middle;\n",
       "    }\n",
       "\n",
       "    .dataframe tbody tr th {\n",
       "        vertical-align: top;\n",
       "    }\n",
       "\n",
       "    .dataframe thead th {\n",
       "        text-align: right;\n",
       "    }\n",
       "</style>\n",
       "<table border=\"1\" class=\"dataframe\">\n",
       "  <thead>\n",
       "    <tr style=\"text-align: right;\">\n",
       "      <th></th>\n",
       "      <th>App</th>\n",
       "      <th>Category</th>\n",
       "      <th>Rating</th>\n",
       "      <th>Reviews</th>\n",
       "      <th>Size</th>\n",
       "      <th>Installs</th>\n",
       "      <th>Type</th>\n",
       "      <th>Price</th>\n",
       "      <th>Content Rating</th>\n",
       "      <th>Genres</th>\n",
       "      <th>Last Updated</th>\n",
       "      <th>Current Ver</th>\n",
       "      <th>Android Ver</th>\n",
       "    </tr>\n",
       "  </thead>\n",
       "  <tbody>\n",
       "    <tr>\n",
       "      <th>0</th>\n",
       "      <td>Photo Editor &amp; Candy Camera &amp; Grid &amp; ScrapBook</td>\n",
       "      <td>ART_AND_DESIGN</td>\n",
       "      <td>4.1</td>\n",
       "      <td>159</td>\n",
       "      <td>19922944.0</td>\n",
       "      <td>10,000+</td>\n",
       "      <td>Free</td>\n",
       "      <td>0</td>\n",
       "      <td>Everyone</td>\n",
       "      <td>Art &amp; Design</td>\n",
       "      <td>January 7, 2018</td>\n",
       "      <td>1.0.0</td>\n",
       "      <td>4.0.3 and up</td>\n",
       "    </tr>\n",
       "    <tr>\n",
       "      <th>1</th>\n",
       "      <td>Coloring book moana</td>\n",
       "      <td>ART_AND_DESIGN</td>\n",
       "      <td>3.9</td>\n",
       "      <td>967</td>\n",
       "      <td>14680064.0</td>\n",
       "      <td>500,000+</td>\n",
       "      <td>Free</td>\n",
       "      <td>0</td>\n",
       "      <td>Everyone</td>\n",
       "      <td>Art &amp; Design;Pretend Play</td>\n",
       "      <td>January 15, 2018</td>\n",
       "      <td>2.0.0</td>\n",
       "      <td>4.0.3 and up</td>\n",
       "    </tr>\n",
       "    <tr>\n",
       "      <th>2</th>\n",
       "      <td>U Launcher Lite – FREE Live Cool Themes, Hide ...</td>\n",
       "      <td>ART_AND_DESIGN</td>\n",
       "      <td>4.7</td>\n",
       "      <td>87510</td>\n",
       "      <td>9122611.2</td>\n",
       "      <td>5,000,000+</td>\n",
       "      <td>Free</td>\n",
       "      <td>0</td>\n",
       "      <td>Everyone</td>\n",
       "      <td>Art &amp; Design</td>\n",
       "      <td>August 1, 2018</td>\n",
       "      <td>1.2.4</td>\n",
       "      <td>4.0.3 and up</td>\n",
       "    </tr>\n",
       "    <tr>\n",
       "      <th>3</th>\n",
       "      <td>Sketch - Draw &amp; Paint</td>\n",
       "      <td>ART_AND_DESIGN</td>\n",
       "      <td>4.5</td>\n",
       "      <td>215644</td>\n",
       "      <td>26214400.0</td>\n",
       "      <td>50,000,000+</td>\n",
       "      <td>Free</td>\n",
       "      <td>0</td>\n",
       "      <td>Teen</td>\n",
       "      <td>Art &amp; Design</td>\n",
       "      <td>June 8, 2018</td>\n",
       "      <td>Varies with device</td>\n",
       "      <td>4.2 and up</td>\n",
       "    </tr>\n",
       "    <tr>\n",
       "      <th>4</th>\n",
       "      <td>Pixel Draw - Number Art Coloring Book</td>\n",
       "      <td>ART_AND_DESIGN</td>\n",
       "      <td>4.3</td>\n",
       "      <td>967</td>\n",
       "      <td>2936012.8</td>\n",
       "      <td>100,000+</td>\n",
       "      <td>Free</td>\n",
       "      <td>0</td>\n",
       "      <td>Everyone</td>\n",
       "      <td>Art &amp; Design;Creativity</td>\n",
       "      <td>June 20, 2018</td>\n",
       "      <td>1.1</td>\n",
       "      <td>4.4 and up</td>\n",
       "    </tr>\n",
       "  </tbody>\n",
       "</table>\n",
       "</div>"
      ],
      "text/plain": [
       "                                                 App        Category  Rating  \\\n",
       "0     Photo Editor & Candy Camera & Grid & ScrapBook  ART_AND_DESIGN     4.1   \n",
       "1                                Coloring book moana  ART_AND_DESIGN     3.9   \n",
       "2  U Launcher Lite – FREE Live Cool Themes, Hide ...  ART_AND_DESIGN     4.7   \n",
       "3                              Sketch - Draw & Paint  ART_AND_DESIGN     4.5   \n",
       "4              Pixel Draw - Number Art Coloring Book  ART_AND_DESIGN     4.3   \n",
       "\n",
       "   Reviews        Size     Installs  Type Price Content Rating  \\\n",
       "0      159  19922944.0      10,000+  Free     0       Everyone   \n",
       "1      967  14680064.0     500,000+  Free     0       Everyone   \n",
       "2    87510   9122611.2   5,000,000+  Free     0       Everyone   \n",
       "3   215644  26214400.0  50,000,000+  Free     0           Teen   \n",
       "4      967   2936012.8     100,000+  Free     0       Everyone   \n",
       "\n",
       "                      Genres      Last Updated         Current Ver  \\\n",
       "0               Art & Design   January 7, 2018               1.0.0   \n",
       "1  Art & Design;Pretend Play  January 15, 2018               2.0.0   \n",
       "2               Art & Design    August 1, 2018               1.2.4   \n",
       "3               Art & Design      June 8, 2018  Varies with device   \n",
       "4    Art & Design;Creativity     June 20, 2018                 1.1   \n",
       "\n",
       "    Android Ver  \n",
       "0  4.0.3 and up  \n",
       "1  4.0.3 and up  \n",
       "2  4.0.3 and up  \n",
       "3    4.2 and up  \n",
       "4    4.4 and up  "
      ]
     },
     "execution_count": 113,
     "metadata": {},
     "output_type": "execute_result"
    }
   ],
   "source": [
    "df.head()"
   ]
  },
  {
   "cell_type": "code",
   "execution_count": null,
   "metadata": {},
   "outputs": [],
   "source": [
    "df.rename(columns= {\"Size\": \"Size_in_bytes\"}, inplace =True)"
   ]
  },
  {
   "cell_type": "code",
   "execution_count": null,
   "metadata": {},
   "outputs": [
    {
     "data": {
      "text/html": [
       "<div>\n",
       "<style scoped>\n",
       "    .dataframe tbody tr th:only-of-type {\n",
       "        vertical-align: middle;\n",
       "    }\n",
       "\n",
       "    .dataframe tbody tr th {\n",
       "        vertical-align: top;\n",
       "    }\n",
       "\n",
       "    .dataframe thead th {\n",
       "        text-align: right;\n",
       "    }\n",
       "</style>\n",
       "<table border=\"1\" class=\"dataframe\">\n",
       "  <thead>\n",
       "    <tr style=\"text-align: right;\">\n",
       "      <th></th>\n",
       "      <th>App</th>\n",
       "      <th>Category</th>\n",
       "      <th>Rating</th>\n",
       "      <th>Reviews</th>\n",
       "      <th>Size_in_bytes</th>\n",
       "      <th>Installs</th>\n",
       "      <th>Type</th>\n",
       "      <th>Price</th>\n",
       "      <th>Content Rating</th>\n",
       "      <th>Genres</th>\n",
       "      <th>Last Updated</th>\n",
       "      <th>Current Ver</th>\n",
       "      <th>Android Ver</th>\n",
       "    </tr>\n",
       "  </thead>\n",
       "  <tbody>\n",
       "    <tr>\n",
       "      <th>0</th>\n",
       "      <td>Photo Editor &amp; Candy Camera &amp; Grid &amp; ScrapBook</td>\n",
       "      <td>ART_AND_DESIGN</td>\n",
       "      <td>4.1</td>\n",
       "      <td>159</td>\n",
       "      <td>19922944.0</td>\n",
       "      <td>10,000+</td>\n",
       "      <td>Free</td>\n",
       "      <td>0</td>\n",
       "      <td>Everyone</td>\n",
       "      <td>Art &amp; Design</td>\n",
       "      <td>January 7, 2018</td>\n",
       "      <td>1.0.0</td>\n",
       "      <td>4.0.3 and up</td>\n",
       "    </tr>\n",
       "    <tr>\n",
       "      <th>1</th>\n",
       "      <td>Coloring book moana</td>\n",
       "      <td>ART_AND_DESIGN</td>\n",
       "      <td>3.9</td>\n",
       "      <td>967</td>\n",
       "      <td>14680064.0</td>\n",
       "      <td>500,000+</td>\n",
       "      <td>Free</td>\n",
       "      <td>0</td>\n",
       "      <td>Everyone</td>\n",
       "      <td>Art &amp; Design;Pretend Play</td>\n",
       "      <td>January 15, 2018</td>\n",
       "      <td>2.0.0</td>\n",
       "      <td>4.0.3 and up</td>\n",
       "    </tr>\n",
       "    <tr>\n",
       "      <th>2</th>\n",
       "      <td>U Launcher Lite – FREE Live Cool Themes, Hide ...</td>\n",
       "      <td>ART_AND_DESIGN</td>\n",
       "      <td>4.7</td>\n",
       "      <td>87510</td>\n",
       "      <td>9122611.2</td>\n",
       "      <td>5,000,000+</td>\n",
       "      <td>Free</td>\n",
       "      <td>0</td>\n",
       "      <td>Everyone</td>\n",
       "      <td>Art &amp; Design</td>\n",
       "      <td>August 1, 2018</td>\n",
       "      <td>1.2.4</td>\n",
       "      <td>4.0.3 and up</td>\n",
       "    </tr>\n",
       "    <tr>\n",
       "      <th>3</th>\n",
       "      <td>Sketch - Draw &amp; Paint</td>\n",
       "      <td>ART_AND_DESIGN</td>\n",
       "      <td>4.5</td>\n",
       "      <td>215644</td>\n",
       "      <td>26214400.0</td>\n",
       "      <td>50,000,000+</td>\n",
       "      <td>Free</td>\n",
       "      <td>0</td>\n",
       "      <td>Teen</td>\n",
       "      <td>Art &amp; Design</td>\n",
       "      <td>June 8, 2018</td>\n",
       "      <td>Varies with device</td>\n",
       "      <td>4.2 and up</td>\n",
       "    </tr>\n",
       "    <tr>\n",
       "      <th>4</th>\n",
       "      <td>Pixel Draw - Number Art Coloring Book</td>\n",
       "      <td>ART_AND_DESIGN</td>\n",
       "      <td>4.3</td>\n",
       "      <td>967</td>\n",
       "      <td>2936012.8</td>\n",
       "      <td>100,000+</td>\n",
       "      <td>Free</td>\n",
       "      <td>0</td>\n",
       "      <td>Everyone</td>\n",
       "      <td>Art &amp; Design;Creativity</td>\n",
       "      <td>June 20, 2018</td>\n",
       "      <td>1.1</td>\n",
       "      <td>4.4 and up</td>\n",
       "    </tr>\n",
       "  </tbody>\n",
       "</table>\n",
       "</div>"
      ],
      "text/plain": [
       "                                                 App        Category  Rating  \\\n",
       "0     Photo Editor & Candy Camera & Grid & ScrapBook  ART_AND_DESIGN     4.1   \n",
       "1                                Coloring book moana  ART_AND_DESIGN     3.9   \n",
       "2  U Launcher Lite – FREE Live Cool Themes, Hide ...  ART_AND_DESIGN     4.7   \n",
       "3                              Sketch - Draw & Paint  ART_AND_DESIGN     4.5   \n",
       "4              Pixel Draw - Number Art Coloring Book  ART_AND_DESIGN     4.3   \n",
       "\n",
       "   Reviews  Size_in_bytes     Installs  Type Price Content Rating  \\\n",
       "0      159     19922944.0      10,000+  Free     0       Everyone   \n",
       "1      967     14680064.0     500,000+  Free     0       Everyone   \n",
       "2    87510      9122611.2   5,000,000+  Free     0       Everyone   \n",
       "3   215644     26214400.0  50,000,000+  Free     0           Teen   \n",
       "4      967      2936012.8     100,000+  Free     0       Everyone   \n",
       "\n",
       "                      Genres      Last Updated         Current Ver  \\\n",
       "0               Art & Design   January 7, 2018               1.0.0   \n",
       "1  Art & Design;Pretend Play  January 15, 2018               2.0.0   \n",
       "2               Art & Design    August 1, 2018               1.2.4   \n",
       "3               Art & Design      June 8, 2018  Varies with device   \n",
       "4    Art & Design;Creativity     June 20, 2018                 1.1   \n",
       "\n",
       "    Android Ver  \n",
       "0  4.0.3 and up  \n",
       "1  4.0.3 and up  \n",
       "2  4.0.3 and up  \n",
       "3    4.2 and up  \n",
       "4    4.4 and up  "
      ]
     },
     "execution_count": 115,
     "metadata": {},
     "output_type": "execute_result"
    }
   ],
   "source": [
    "df.head()"
   ]
  },
  {
   "cell_type": "markdown",
   "metadata": {},
   "source": [
    "### Now, add an other column as the name of `Size_in_Mbs` by using lambda function"
   ]
  },
  {
   "cell_type": "code",
   "execution_count": null,
   "metadata": {},
   "outputs": [
    {
     "data": {
      "text/html": [
       "<div>\n",
       "<style scoped>\n",
       "    .dataframe tbody tr th:only-of-type {\n",
       "        vertical-align: middle;\n",
       "    }\n",
       "\n",
       "    .dataframe tbody tr th {\n",
       "        vertical-align: top;\n",
       "    }\n",
       "\n",
       "    .dataframe thead th {\n",
       "        text-align: right;\n",
       "    }\n",
       "</style>\n",
       "<table border=\"1\" class=\"dataframe\">\n",
       "  <thead>\n",
       "    <tr style=\"text-align: right;\">\n",
       "      <th></th>\n",
       "      <th>App</th>\n",
       "      <th>Category</th>\n",
       "      <th>Rating</th>\n",
       "      <th>Reviews</th>\n",
       "      <th>Size_in_bytes</th>\n",
       "      <th>Installs</th>\n",
       "      <th>Type</th>\n",
       "      <th>Price</th>\n",
       "      <th>Content Rating</th>\n",
       "      <th>Genres</th>\n",
       "      <th>Last Updated</th>\n",
       "      <th>Current Ver</th>\n",
       "      <th>Android Ver</th>\n",
       "      <th>Size_in_Mbs</th>\n",
       "    </tr>\n",
       "  </thead>\n",
       "  <tbody>\n",
       "    <tr>\n",
       "      <th>0</th>\n",
       "      <td>Photo Editor &amp; Candy Camera &amp; Grid &amp; ScrapBook</td>\n",
       "      <td>ART_AND_DESIGN</td>\n",
       "      <td>4.1</td>\n",
       "      <td>159</td>\n",
       "      <td>19922944.0</td>\n",
       "      <td>10,000+</td>\n",
       "      <td>Free</td>\n",
       "      <td>0</td>\n",
       "      <td>Everyone</td>\n",
       "      <td>Art &amp; Design</td>\n",
       "      <td>January 7, 2018</td>\n",
       "      <td>1.0.0</td>\n",
       "      <td>4.0.3 and up</td>\n",
       "      <td>19.0</td>\n",
       "    </tr>\n",
       "    <tr>\n",
       "      <th>1</th>\n",
       "      <td>Coloring book moana</td>\n",
       "      <td>ART_AND_DESIGN</td>\n",
       "      <td>3.9</td>\n",
       "      <td>967</td>\n",
       "      <td>14680064.0</td>\n",
       "      <td>500,000+</td>\n",
       "      <td>Free</td>\n",
       "      <td>0</td>\n",
       "      <td>Everyone</td>\n",
       "      <td>Art &amp; Design;Pretend Play</td>\n",
       "      <td>January 15, 2018</td>\n",
       "      <td>2.0.0</td>\n",
       "      <td>4.0.3 and up</td>\n",
       "      <td>14.0</td>\n",
       "    </tr>\n",
       "    <tr>\n",
       "      <th>2</th>\n",
       "      <td>U Launcher Lite – FREE Live Cool Themes, Hide ...</td>\n",
       "      <td>ART_AND_DESIGN</td>\n",
       "      <td>4.7</td>\n",
       "      <td>87510</td>\n",
       "      <td>9122611.2</td>\n",
       "      <td>5,000,000+</td>\n",
       "      <td>Free</td>\n",
       "      <td>0</td>\n",
       "      <td>Everyone</td>\n",
       "      <td>Art &amp; Design</td>\n",
       "      <td>August 1, 2018</td>\n",
       "      <td>1.2.4</td>\n",
       "      <td>4.0.3 and up</td>\n",
       "      <td>8.7</td>\n",
       "    </tr>\n",
       "    <tr>\n",
       "      <th>3</th>\n",
       "      <td>Sketch - Draw &amp; Paint</td>\n",
       "      <td>ART_AND_DESIGN</td>\n",
       "      <td>4.5</td>\n",
       "      <td>215644</td>\n",
       "      <td>26214400.0</td>\n",
       "      <td>50,000,000+</td>\n",
       "      <td>Free</td>\n",
       "      <td>0</td>\n",
       "      <td>Teen</td>\n",
       "      <td>Art &amp; Design</td>\n",
       "      <td>June 8, 2018</td>\n",
       "      <td>Varies with device</td>\n",
       "      <td>4.2 and up</td>\n",
       "      <td>25.0</td>\n",
       "    </tr>\n",
       "    <tr>\n",
       "      <th>4</th>\n",
       "      <td>Pixel Draw - Number Art Coloring Book</td>\n",
       "      <td>ART_AND_DESIGN</td>\n",
       "      <td>4.3</td>\n",
       "      <td>967</td>\n",
       "      <td>2936012.8</td>\n",
       "      <td>100,000+</td>\n",
       "      <td>Free</td>\n",
       "      <td>0</td>\n",
       "      <td>Everyone</td>\n",
       "      <td>Art &amp; Design;Creativity</td>\n",
       "      <td>June 20, 2018</td>\n",
       "      <td>1.1</td>\n",
       "      <td>4.4 and up</td>\n",
       "      <td>2.8</td>\n",
       "    </tr>\n",
       "  </tbody>\n",
       "</table>\n",
       "</div>"
      ],
      "text/plain": [
       "                                                 App        Category  Rating  \\\n",
       "0     Photo Editor & Candy Camera & Grid & ScrapBook  ART_AND_DESIGN     4.1   \n",
       "1                                Coloring book moana  ART_AND_DESIGN     3.9   \n",
       "2  U Launcher Lite – FREE Live Cool Themes, Hide ...  ART_AND_DESIGN     4.7   \n",
       "3                              Sketch - Draw & Paint  ART_AND_DESIGN     4.5   \n",
       "4              Pixel Draw - Number Art Coloring Book  ART_AND_DESIGN     4.3   \n",
       "\n",
       "   Reviews  Size_in_bytes     Installs  Type Price Content Rating  \\\n",
       "0      159     19922944.0      10,000+  Free     0       Everyone   \n",
       "1      967     14680064.0     500,000+  Free     0       Everyone   \n",
       "2    87510      9122611.2   5,000,000+  Free     0       Everyone   \n",
       "3   215644     26214400.0  50,000,000+  Free     0           Teen   \n",
       "4      967      2936012.8     100,000+  Free     0       Everyone   \n",
       "\n",
       "                      Genres      Last Updated         Current Ver  \\\n",
       "0               Art & Design   January 7, 2018               1.0.0   \n",
       "1  Art & Design;Pretend Play  January 15, 2018               2.0.0   \n",
       "2               Art & Design    August 1, 2018               1.2.4   \n",
       "3               Art & Design      June 8, 2018  Varies with device   \n",
       "4    Art & Design;Creativity     June 20, 2018                 1.1   \n",
       "\n",
       "    Android Ver  Size_in_Mbs  \n",
       "0  4.0.3 and up         19.0  \n",
       "1  4.0.3 and up         14.0  \n",
       "2  4.0.3 and up          8.7  \n",
       "3    4.2 and up         25.0  \n",
       "4    4.4 and up          2.8  "
      ]
     },
     "execution_count": 116,
     "metadata": {},
     "output_type": "execute_result"
    }
   ],
   "source": [
    "df[\"Size_in_Mbs\"] = df[\"Size_in_bytes\"].apply(lambda x : x / (1024*1024))\n",
    "df.head()"
   ]
  },
  {
   "cell_type": "markdown",
   "metadata": {},
   "source": [
    "# Feature Engineering of `Installs` column \n",
    "* Remove `+` from the values \n",
    "* Rmove `,` from the values "
   ]
  },
  {
   "cell_type": "code",
   "execution_count": null,
   "metadata": {},
   "outputs": [
    {
     "data": {
      "text/plain": [
       "Installs\n",
       "1,000,000+        1579\n",
       "10,000,000+       1252\n",
       "100,000+          1169\n",
       "10,000+           1054\n",
       "1,000+             908\n",
       "5,000,000+         752\n",
       "100+               719\n",
       "500,000+           539\n",
       "50,000+            479\n",
       "5,000+             477\n",
       "100,000,000+       409\n",
       "10+                386\n",
       "500+               330\n",
       "50,000,000+        289\n",
       "50+                205\n",
       "5+                  82\n",
       "500,000,000+        72\n",
       "1+                  67\n",
       "1,000,000,000+      58\n",
       "0+                  14\n",
       "0                    1\n",
       "Name: count, dtype: int64"
      ]
     },
     "execution_count": 117,
     "metadata": {},
     "output_type": "execute_result"
    }
   ],
   "source": [
    "df[\"Installs\"].value_counts()"
   ]
  },
  {
   "cell_type": "code",
   "execution_count": null,
   "metadata": {},
   "outputs": [
    {
     "data": {
      "text/plain": [
       "Installs\n",
       "1000000       1579\n",
       "10000000      1252\n",
       "100000        1169\n",
       "10000         1054\n",
       "1000           908\n",
       "5000000        752\n",
       "100            719\n",
       "500000         539\n",
       "50000          479\n",
       "5000           477\n",
       "100000000      409\n",
       "10             386\n",
       "500            330\n",
       "50000000       289\n",
       "50             205\n",
       "5               82\n",
       "500000000       72\n",
       "1               67\n",
       "1000000000      58\n",
       "0               15\n",
       "Name: count, dtype: int64"
      ]
     },
     "execution_count": 118,
     "metadata": {},
     "output_type": "execute_result"
    }
   ],
   "source": [
    "df[\"Installs\"] = df[\"Installs\"].apply(lambda x : x.replace(\"+\", \"\") if \"+\" in str(x) else x)\n",
    "df[\"Installs\"] = df[\"Installs\"].apply(lambda x : x.replace(\",\", \"\") if \",\" in str(x) else x)\n",
    "df[\"Installs\"].value_counts()"
   ]
  },
  {
   "cell_type": "code",
   "execution_count": null,
   "metadata": {},
   "outputs": [
    {
     "data": {
      "text/html": [
       "<div>\n",
       "<style scoped>\n",
       "    .dataframe tbody tr th:only-of-type {\n",
       "        vertical-align: middle;\n",
       "    }\n",
       "\n",
       "    .dataframe tbody tr th {\n",
       "        vertical-align: top;\n",
       "    }\n",
       "\n",
       "    .dataframe thead th {\n",
       "        text-align: right;\n",
       "    }\n",
       "</style>\n",
       "<table border=\"1\" class=\"dataframe\">\n",
       "  <thead>\n",
       "    <tr style=\"text-align: right;\">\n",
       "      <th></th>\n",
       "      <th>App</th>\n",
       "      <th>Category</th>\n",
       "      <th>Rating</th>\n",
       "      <th>Reviews</th>\n",
       "      <th>Size_in_bytes</th>\n",
       "      <th>Installs</th>\n",
       "      <th>Type</th>\n",
       "      <th>Price</th>\n",
       "      <th>Content Rating</th>\n",
       "      <th>Genres</th>\n",
       "      <th>Last Updated</th>\n",
       "      <th>Current Ver</th>\n",
       "      <th>Android Ver</th>\n",
       "      <th>Size_in_Mbs</th>\n",
       "    </tr>\n",
       "  </thead>\n",
       "  <tbody>\n",
       "    <tr>\n",
       "      <th>0</th>\n",
       "      <td>Photo Editor &amp; Candy Camera &amp; Grid &amp; ScrapBook</td>\n",
       "      <td>ART_AND_DESIGN</td>\n",
       "      <td>4.1</td>\n",
       "      <td>159</td>\n",
       "      <td>19922944.0</td>\n",
       "      <td>10000</td>\n",
       "      <td>Free</td>\n",
       "      <td>0</td>\n",
       "      <td>Everyone</td>\n",
       "      <td>Art &amp; Design</td>\n",
       "      <td>January 7, 2018</td>\n",
       "      <td>1.0.0</td>\n",
       "      <td>4.0.3 and up</td>\n",
       "      <td>19.0</td>\n",
       "    </tr>\n",
       "    <tr>\n",
       "      <th>1</th>\n",
       "      <td>Coloring book moana</td>\n",
       "      <td>ART_AND_DESIGN</td>\n",
       "      <td>3.9</td>\n",
       "      <td>967</td>\n",
       "      <td>14680064.0</td>\n",
       "      <td>500000</td>\n",
       "      <td>Free</td>\n",
       "      <td>0</td>\n",
       "      <td>Everyone</td>\n",
       "      <td>Art &amp; Design;Pretend Play</td>\n",
       "      <td>January 15, 2018</td>\n",
       "      <td>2.0.0</td>\n",
       "      <td>4.0.3 and up</td>\n",
       "      <td>14.0</td>\n",
       "    </tr>\n",
       "    <tr>\n",
       "      <th>2</th>\n",
       "      <td>U Launcher Lite – FREE Live Cool Themes, Hide ...</td>\n",
       "      <td>ART_AND_DESIGN</td>\n",
       "      <td>4.7</td>\n",
       "      <td>87510</td>\n",
       "      <td>9122611.2</td>\n",
       "      <td>5000000</td>\n",
       "      <td>Free</td>\n",
       "      <td>0</td>\n",
       "      <td>Everyone</td>\n",
       "      <td>Art &amp; Design</td>\n",
       "      <td>August 1, 2018</td>\n",
       "      <td>1.2.4</td>\n",
       "      <td>4.0.3 and up</td>\n",
       "      <td>8.7</td>\n",
       "    </tr>\n",
       "    <tr>\n",
       "      <th>3</th>\n",
       "      <td>Sketch - Draw &amp; Paint</td>\n",
       "      <td>ART_AND_DESIGN</td>\n",
       "      <td>4.5</td>\n",
       "      <td>215644</td>\n",
       "      <td>26214400.0</td>\n",
       "      <td>50000000</td>\n",
       "      <td>Free</td>\n",
       "      <td>0</td>\n",
       "      <td>Teen</td>\n",
       "      <td>Art &amp; Design</td>\n",
       "      <td>June 8, 2018</td>\n",
       "      <td>Varies with device</td>\n",
       "      <td>4.2 and up</td>\n",
       "      <td>25.0</td>\n",
       "    </tr>\n",
       "    <tr>\n",
       "      <th>4</th>\n",
       "      <td>Pixel Draw - Number Art Coloring Book</td>\n",
       "      <td>ART_AND_DESIGN</td>\n",
       "      <td>4.3</td>\n",
       "      <td>967</td>\n",
       "      <td>2936012.8</td>\n",
       "      <td>100000</td>\n",
       "      <td>Free</td>\n",
       "      <td>0</td>\n",
       "      <td>Everyone</td>\n",
       "      <td>Art &amp; Design;Creativity</td>\n",
       "      <td>June 20, 2018</td>\n",
       "      <td>1.1</td>\n",
       "      <td>4.4 and up</td>\n",
       "      <td>2.8</td>\n",
       "    </tr>\n",
       "  </tbody>\n",
       "</table>\n",
       "</div>"
      ],
      "text/plain": [
       "                                                 App        Category  Rating  \\\n",
       "0     Photo Editor & Candy Camera & Grid & ScrapBook  ART_AND_DESIGN     4.1   \n",
       "1                                Coloring book moana  ART_AND_DESIGN     3.9   \n",
       "2  U Launcher Lite – FREE Live Cool Themes, Hide ...  ART_AND_DESIGN     4.7   \n",
       "3                              Sketch - Draw & Paint  ART_AND_DESIGN     4.5   \n",
       "4              Pixel Draw - Number Art Coloring Book  ART_AND_DESIGN     4.3   \n",
       "\n",
       "   Reviews  Size_in_bytes  Installs  Type Price Content Rating  \\\n",
       "0      159     19922944.0     10000  Free     0       Everyone   \n",
       "1      967     14680064.0    500000  Free     0       Everyone   \n",
       "2    87510      9122611.2   5000000  Free     0       Everyone   \n",
       "3   215644     26214400.0  50000000  Free     0           Teen   \n",
       "4      967      2936012.8    100000  Free     0       Everyone   \n",
       "\n",
       "                      Genres      Last Updated         Current Ver  \\\n",
       "0               Art & Design   January 7, 2018               1.0.0   \n",
       "1  Art & Design;Pretend Play  January 15, 2018               2.0.0   \n",
       "2               Art & Design    August 1, 2018               1.2.4   \n",
       "3               Art & Design      June 8, 2018  Varies with device   \n",
       "4    Art & Design;Creativity     June 20, 2018                 1.1   \n",
       "\n",
       "    Android Ver  Size_in_Mbs  \n",
       "0  4.0.3 and up         19.0  \n",
       "1  4.0.3 and up         14.0  \n",
       "2  4.0.3 and up          8.7  \n",
       "3    4.2 and up         25.0  \n",
       "4    4.4 and up          2.8  "
      ]
     },
     "execution_count": 119,
     "metadata": {},
     "output_type": "execute_result"
    }
   ],
   "source": [
    "df.head()"
   ]
  },
  {
   "cell_type": "code",
   "execution_count": null,
   "metadata": {},
   "outputs": [
    {
     "name": "stdout",
     "output_type": "stream",
     "text": [
      "<class 'pandas.core.frame.DataFrame'>\n",
      "RangeIndex: 10841 entries, 0 to 10840\n",
      "Data columns (total 14 columns):\n",
      " #   Column          Non-Null Count  Dtype  \n",
      "---  ------          --------------  -----  \n",
      " 0   App             10841 non-null  object \n",
      " 1   Category        10840 non-null  object \n",
      " 2   Rating          9367 non-null   float64\n",
      " 3   Reviews         10841 non-null  int64  \n",
      " 4   Size_in_bytes   9146 non-null   float64\n",
      " 5   Installs        10841 non-null  object \n",
      " 6   Type            10840 non-null  object \n",
      " 7   Price           10841 non-null  object \n",
      " 8   Content Rating  10841 non-null  object \n",
      " 9   Genres          10840 non-null  object \n",
      " 10  Last Updated    10841 non-null  object \n",
      " 11  Current Ver     10833 non-null  object \n",
      " 12  Android Ver     10839 non-null  object \n",
      " 13  Size_in_Mbs     9146 non-null   float64\n",
      "dtypes: float64(3), int64(1), object(10)\n",
      "memory usage: 1.2+ MB\n"
     ]
    }
   ],
   "source": [
    "df.info()"
   ]
  },
  {
   "cell_type": "code",
   "execution_count": null,
   "metadata": {},
   "outputs": [
    {
     "name": "stdout",
     "output_type": "stream",
     "text": [
      "<class 'pandas.core.frame.DataFrame'>\n",
      "RangeIndex: 10841 entries, 0 to 10840\n",
      "Data columns (total 14 columns):\n",
      " #   Column          Non-Null Count  Dtype  \n",
      "---  ------          --------------  -----  \n",
      " 0   App             10841 non-null  object \n",
      " 1   Category        10840 non-null  object \n",
      " 2   Rating          9367 non-null   float64\n",
      " 3   Reviews         10841 non-null  int64  \n",
      " 4   Size_in_bytes   9146 non-null   float64\n",
      " 5   Installs        10841 non-null  int64  \n",
      " 6   Type            10840 non-null  object \n",
      " 7   Price           10841 non-null  object \n",
      " 8   Content Rating  10841 non-null  object \n",
      " 9   Genres          10840 non-null  object \n",
      " 10  Last Updated    10841 non-null  object \n",
      " 11  Current Ver     10833 non-null  object \n",
      " 12  Android Ver     10839 non-null  object \n",
      " 13  Size_in_Mbs     9146 non-null   float64\n",
      "dtypes: float64(3), int64(2), object(9)\n",
      "memory usage: 1.2+ MB\n"
     ]
    }
   ],
   "source": [
    "df[\"Installs\"] = df[\"Installs\"].apply(lambda x : int(x))\n",
    "df.info()"
   ]
  },
  {
   "cell_type": "code",
   "execution_count": null,
   "metadata": {},
   "outputs": [
    {
     "name": "stdout",
     "output_type": "stream",
     "text": [
      "This is the minimum value in the Installs column 0\n",
      "This is the maximum value in the Installs column 1000000000\n",
      "This is the Average value in the Installs column 15462912.50687206\n"
     ]
    }
   ],
   "source": [
    "print(f\"This is the minimum value in the Installs column {df.Installs.min()}\")\n",
    "print(f\"This is the maximum value in the Installs column {df.Installs.max()}\")\n",
    "print(f\"This is the Average value in the Installs column {df.Installs.mean()}\")"
   ]
  },
  {
   "cell_type": "code",
   "execution_count": null,
   "metadata": {},
   "outputs": [
    {
     "data": {
      "text/plain": [
       "array([     10000,     500000,    5000000,   50000000,     100000,\n",
       "            50000,    1000000,   10000000,       5000,  100000000,\n",
       "       1000000000,       1000,  500000000,         50,        100,\n",
       "              500,         10,          1,          5,          0],\n",
       "      dtype=int64)"
      ]
     },
     "execution_count": 123,
     "metadata": {},
     "output_type": "execute_result"
    }
   ],
   "source": [
    "df[\"Installs\"].unique()"
   ]
  },
  {
   "cell_type": "code",
   "execution_count": null,
   "metadata": {},
   "outputs": [],
   "source": [
    "bins = [-1, 0, 10, 1000, 10000, 100000, 1000000, 10000000, 10000000000]\n",
    "labels = [\"no\", \"Very Low\", \"Low\", \"Moderate\", \"More than Moderate\", \"High\",\"Very High\", \"Top Notch\"]\n",
    "df[\"Installs_category\"] = pd.cut(df[\"Installs\"], bins=bins, labels= labels)"
   ]
  },
  {
   "cell_type": "code",
   "execution_count": null,
   "metadata": {},
   "outputs": [
    {
     "data": {
      "text/plain": [
       "Installs_category\n",
       "Low                   2162\n",
       "High                  2118\n",
       "Very High             2004\n",
       "More than Moderate    1648\n",
       "Moderate              1531\n",
       "Top Notch              828\n",
       "Very Low               535\n",
       "no                      15\n",
       "Name: count, dtype: int64"
      ]
     },
     "execution_count": 125,
     "metadata": {},
     "output_type": "execute_result"
    }
   ],
   "source": [
    "df[\"Installs_category\"].value_counts()"
   ]
  },
  {
   "cell_type": "markdown",
   "metadata": {},
   "source": [
    "# `Price` columns \n",
    "* Removing the `$` from the `Price` column   "
   ]
  },
  {
   "cell_type": "code",
   "execution_count": null,
   "metadata": {},
   "outputs": [
    {
     "data": {
      "text/plain": [
       "Price\n",
       "0         10041\n",
       "$0.99       148\n",
       "$2.99       129\n",
       "$1.99        73\n",
       "$4.99        72\n",
       "          ...  \n",
       "$19.90        1\n",
       "$1.75         1\n",
       "$14.00        1\n",
       "$4.85         1\n",
       "$1.04         1\n",
       "Name: count, Length: 92, dtype: int64"
      ]
     },
     "execution_count": 126,
     "metadata": {},
     "output_type": "execute_result"
    }
   ],
   "source": [
    "df['Price'].value_counts()"
   ]
  },
  {
   "cell_type": "code",
   "execution_count": null,
   "metadata": {},
   "outputs": [
    {
     "data": {
      "text/plain": [
       "800"
      ]
     },
     "execution_count": 127,
     "metadata": {},
     "output_type": "execute_result"
    }
   ],
   "source": [
    "df[\"Price\"].loc[df[\"Price\"].str.contains(\"\\$\")].count()"
   ]
  },
  {
   "cell_type": "code",
   "execution_count": null,
   "metadata": {},
   "outputs": [
    {
     "data": {
      "text/plain": [
       "10041"
      ]
     },
     "execution_count": 128,
     "metadata": {},
     "output_type": "execute_result"
    }
   ],
   "source": [
    "df['Price'].loc[(df[\"Price\"].str.contains(\"0\")) & (~df[\"Price\"].str.contains(\"\\$\"))].count()"
   ]
  },
  {
   "cell_type": "code",
   "execution_count": null,
   "metadata": {},
   "outputs": [
    {
     "data": {
      "text/plain": [
       "dtype('float64')"
      ]
     },
     "execution_count": 129,
     "metadata": {},
     "output_type": "execute_result"
    }
   ],
   "source": [
    "df[\"Price\"] = df[\"Price\"].apply(lambda x: x.replace(\"$\", \"\") if x in str(x) else x)\n",
    "df[\"Price\"] = df[\"Price\"].apply(lambda x: float(x))\n",
    "df[\"Price\"].dtype"
   ]
  },
  {
   "cell_type": "code",
   "execution_count": null,
   "metadata": {},
   "outputs": [
    {
     "data": {
      "text/plain": [
       "Price\n",
       "0.00     10041\n",
       "0.99       148\n",
       "2.99       129\n",
       "1.99        73\n",
       "4.99        72\n",
       "         ...  \n",
       "19.90        1\n",
       "1.75         1\n",
       "14.00        1\n",
       "4.85         1\n",
       "1.04         1\n",
       "Name: count, Length: 92, dtype: int64"
      ]
     },
     "execution_count": 130,
     "metadata": {},
     "output_type": "execute_result"
    }
   ],
   "source": [
    "df[\"Price\"].value_counts()"
   ]
  },
  {
   "cell_type": "code",
   "execution_count": null,
   "metadata": {},
   "outputs": [
    {
     "data": {
      "text/html": [
       "<div>\n",
       "<style scoped>\n",
       "    .dataframe tbody tr th:only-of-type {\n",
       "        vertical-align: middle;\n",
       "    }\n",
       "\n",
       "    .dataframe tbody tr th {\n",
       "        vertical-align: top;\n",
       "    }\n",
       "\n",
       "    .dataframe thead th {\n",
       "        text-align: right;\n",
       "    }\n",
       "</style>\n",
       "<table border=\"1\" class=\"dataframe\">\n",
       "  <thead>\n",
       "    <tr style=\"text-align: right;\">\n",
       "      <th></th>\n",
       "      <th>App</th>\n",
       "      <th>Category</th>\n",
       "      <th>Rating</th>\n",
       "      <th>Reviews</th>\n",
       "      <th>Size_in_bytes</th>\n",
       "      <th>Installs</th>\n",
       "      <th>Type</th>\n",
       "      <th>Price</th>\n",
       "      <th>Content Rating</th>\n",
       "      <th>Genres</th>\n",
       "      <th>Last Updated</th>\n",
       "      <th>Current Ver</th>\n",
       "      <th>Android Ver</th>\n",
       "      <th>Size_in_Mbs</th>\n",
       "      <th>Installs_category</th>\n",
       "    </tr>\n",
       "  </thead>\n",
       "  <tbody>\n",
       "    <tr>\n",
       "      <th>0</th>\n",
       "      <td>Photo Editor &amp; Candy Camera &amp; Grid &amp; ScrapBook</td>\n",
       "      <td>ART_AND_DESIGN</td>\n",
       "      <td>4.1</td>\n",
       "      <td>159</td>\n",
       "      <td>19922944.0</td>\n",
       "      <td>10000</td>\n",
       "      <td>Free</td>\n",
       "      <td>0.0</td>\n",
       "      <td>Everyone</td>\n",
       "      <td>Art &amp; Design</td>\n",
       "      <td>January 7, 2018</td>\n",
       "      <td>1.0.0</td>\n",
       "      <td>4.0.3 and up</td>\n",
       "      <td>19.0</td>\n",
       "      <td>Moderate</td>\n",
       "    </tr>\n",
       "    <tr>\n",
       "      <th>1</th>\n",
       "      <td>Coloring book moana</td>\n",
       "      <td>ART_AND_DESIGN</td>\n",
       "      <td>3.9</td>\n",
       "      <td>967</td>\n",
       "      <td>14680064.0</td>\n",
       "      <td>500000</td>\n",
       "      <td>Free</td>\n",
       "      <td>0.0</td>\n",
       "      <td>Everyone</td>\n",
       "      <td>Art &amp; Design;Pretend Play</td>\n",
       "      <td>January 15, 2018</td>\n",
       "      <td>2.0.0</td>\n",
       "      <td>4.0.3 and up</td>\n",
       "      <td>14.0</td>\n",
       "      <td>High</td>\n",
       "    </tr>\n",
       "    <tr>\n",
       "      <th>2</th>\n",
       "      <td>U Launcher Lite – FREE Live Cool Themes, Hide ...</td>\n",
       "      <td>ART_AND_DESIGN</td>\n",
       "      <td>4.7</td>\n",
       "      <td>87510</td>\n",
       "      <td>9122611.2</td>\n",
       "      <td>5000000</td>\n",
       "      <td>Free</td>\n",
       "      <td>0.0</td>\n",
       "      <td>Everyone</td>\n",
       "      <td>Art &amp; Design</td>\n",
       "      <td>August 1, 2018</td>\n",
       "      <td>1.2.4</td>\n",
       "      <td>4.0.3 and up</td>\n",
       "      <td>8.7</td>\n",
       "      <td>Very High</td>\n",
       "    </tr>\n",
       "    <tr>\n",
       "      <th>3</th>\n",
       "      <td>Sketch - Draw &amp; Paint</td>\n",
       "      <td>ART_AND_DESIGN</td>\n",
       "      <td>4.5</td>\n",
       "      <td>215644</td>\n",
       "      <td>26214400.0</td>\n",
       "      <td>50000000</td>\n",
       "      <td>Free</td>\n",
       "      <td>0.0</td>\n",
       "      <td>Teen</td>\n",
       "      <td>Art &amp; Design</td>\n",
       "      <td>June 8, 2018</td>\n",
       "      <td>Varies with device</td>\n",
       "      <td>4.2 and up</td>\n",
       "      <td>25.0</td>\n",
       "      <td>Top Notch</td>\n",
       "    </tr>\n",
       "    <tr>\n",
       "      <th>4</th>\n",
       "      <td>Pixel Draw - Number Art Coloring Book</td>\n",
       "      <td>ART_AND_DESIGN</td>\n",
       "      <td>4.3</td>\n",
       "      <td>967</td>\n",
       "      <td>2936012.8</td>\n",
       "      <td>100000</td>\n",
       "      <td>Free</td>\n",
       "      <td>0.0</td>\n",
       "      <td>Everyone</td>\n",
       "      <td>Art &amp; Design;Creativity</td>\n",
       "      <td>June 20, 2018</td>\n",
       "      <td>1.1</td>\n",
       "      <td>4.4 and up</td>\n",
       "      <td>2.8</td>\n",
       "      <td>More than Moderate</td>\n",
       "    </tr>\n",
       "  </tbody>\n",
       "</table>\n",
       "</div>"
      ],
      "text/plain": [
       "                                                 App        Category  Rating  \\\n",
       "0     Photo Editor & Candy Camera & Grid & ScrapBook  ART_AND_DESIGN     4.1   \n",
       "1                                Coloring book moana  ART_AND_DESIGN     3.9   \n",
       "2  U Launcher Lite – FREE Live Cool Themes, Hide ...  ART_AND_DESIGN     4.7   \n",
       "3                              Sketch - Draw & Paint  ART_AND_DESIGN     4.5   \n",
       "4              Pixel Draw - Number Art Coloring Book  ART_AND_DESIGN     4.3   \n",
       "\n",
       "   Reviews  Size_in_bytes  Installs  Type  Price Content Rating  \\\n",
       "0      159     19922944.0     10000  Free    0.0       Everyone   \n",
       "1      967     14680064.0    500000  Free    0.0       Everyone   \n",
       "2    87510      9122611.2   5000000  Free    0.0       Everyone   \n",
       "3   215644     26214400.0  50000000  Free    0.0           Teen   \n",
       "4      967      2936012.8    100000  Free    0.0       Everyone   \n",
       "\n",
       "                      Genres      Last Updated         Current Ver  \\\n",
       "0               Art & Design   January 7, 2018               1.0.0   \n",
       "1  Art & Design;Pretend Play  January 15, 2018               2.0.0   \n",
       "2               Art & Design    August 1, 2018               1.2.4   \n",
       "3               Art & Design      June 8, 2018  Varies with device   \n",
       "4    Art & Design;Creativity     June 20, 2018                 1.1   \n",
       "\n",
       "    Android Ver  Size_in_Mbs   Installs_category  \n",
       "0  4.0.3 and up         19.0            Moderate  \n",
       "1  4.0.3 and up         14.0                High  \n",
       "2  4.0.3 and up          8.7           Very High  \n",
       "3    4.2 and up         25.0           Top Notch  \n",
       "4    4.4 and up          2.8  More than Moderate  "
      ]
     },
     "execution_count": 131,
     "metadata": {},
     "output_type": "execute_result"
    }
   ],
   "source": [
    "df.head()"
   ]
  },
  {
   "cell_type": "code",
   "execution_count": null,
   "metadata": {},
   "outputs": [
    {
     "name": "stdout",
     "output_type": "stream",
     "text": [
      "<class 'pandas.core.frame.DataFrame'>\n",
      "RangeIndex: 10841 entries, 0 to 10840\n",
      "Data columns (total 15 columns):\n",
      " #   Column             Non-Null Count  Dtype   \n",
      "---  ------             --------------  -----   \n",
      " 0   App                10841 non-null  object  \n",
      " 1   Category           10840 non-null  object  \n",
      " 2   Rating             9367 non-null   float64 \n",
      " 3   Reviews            10841 non-null  int64   \n",
      " 4   Size_in_bytes      9146 non-null   float64 \n",
      " 5   Installs           10841 non-null  int64   \n",
      " 6   Type               10840 non-null  object  \n",
      " 7   Price              10841 non-null  float64 \n",
      " 8   Content Rating     10841 non-null  object  \n",
      " 9   Genres             10840 non-null  object  \n",
      " 10  Last Updated       10841 non-null  object  \n",
      " 11  Current Ver        10833 non-null  object  \n",
      " 12  Android Ver        10839 non-null  object  \n",
      " 13  Size_in_Mbs        9146 non-null   float64 \n",
      " 14  Installs_category  10841 non-null  category\n",
      "dtypes: category(1), float64(4), int64(2), object(8)\n",
      "memory usage: 1.2+ MB\n"
     ]
    }
   ],
   "source": [
    "df.info()"
   ]
  },
  {
   "cell_type": "code",
   "execution_count": null,
   "metadata": {},
   "outputs": [
    {
     "data": {
      "text/html": [
       "<div>\n",
       "<style scoped>\n",
       "    .dataframe tbody tr th:only-of-type {\n",
       "        vertical-align: middle;\n",
       "    }\n",
       "\n",
       "    .dataframe tbody tr th {\n",
       "        vertical-align: top;\n",
       "    }\n",
       "\n",
       "    .dataframe thead th {\n",
       "        text-align: right;\n",
       "    }\n",
       "</style>\n",
       "<table border=\"1\" class=\"dataframe\">\n",
       "  <thead>\n",
       "    <tr style=\"text-align: right;\">\n",
       "      <th></th>\n",
       "      <th>Rating</th>\n",
       "      <th>Reviews</th>\n",
       "      <th>Size_in_bytes</th>\n",
       "      <th>Installs</th>\n",
       "      <th>Price</th>\n",
       "      <th>Size_in_Mbs</th>\n",
       "    </tr>\n",
       "  </thead>\n",
       "  <tbody>\n",
       "    <tr>\n",
       "      <th>count</th>\n",
       "      <td>9367.000000</td>\n",
       "      <td>1.084100e+04</td>\n",
       "      <td>9.146000e+03</td>\n",
       "      <td>1.084100e+04</td>\n",
       "      <td>10841.000000</td>\n",
       "      <td>9146.000000</td>\n",
       "    </tr>\n",
       "    <tr>\n",
       "      <th>mean</th>\n",
       "      <td>4.191513</td>\n",
       "      <td>4.441119e+05</td>\n",
       "      <td>2.255921e+07</td>\n",
       "      <td>1.546291e+07</td>\n",
       "      <td>1.027273</td>\n",
       "      <td>21.514141</td>\n",
       "    </tr>\n",
       "    <tr>\n",
       "      <th>std</th>\n",
       "      <td>0.515735</td>\n",
       "      <td>2.927629e+06</td>\n",
       "      <td>2.368595e+07</td>\n",
       "      <td>8.502557e+07</td>\n",
       "      <td>15.948971</td>\n",
       "      <td>22.588679</td>\n",
       "    </tr>\n",
       "    <tr>\n",
       "      <th>min</th>\n",
       "      <td>1.000000</td>\n",
       "      <td>0.000000e+00</td>\n",
       "      <td>8.704000e+03</td>\n",
       "      <td>0.000000e+00</td>\n",
       "      <td>0.000000</td>\n",
       "      <td>0.008301</td>\n",
       "    </tr>\n",
       "    <tr>\n",
       "      <th>25%</th>\n",
       "      <td>4.000000</td>\n",
       "      <td>3.800000e+01</td>\n",
       "      <td>5.138022e+06</td>\n",
       "      <td>1.000000e+03</td>\n",
       "      <td>0.000000</td>\n",
       "      <td>4.900000</td>\n",
       "    </tr>\n",
       "    <tr>\n",
       "      <th>50%</th>\n",
       "      <td>4.300000</td>\n",
       "      <td>2.094000e+03</td>\n",
       "      <td>1.363149e+07</td>\n",
       "      <td>1.000000e+05</td>\n",
       "      <td>0.000000</td>\n",
       "      <td>13.000000</td>\n",
       "    </tr>\n",
       "    <tr>\n",
       "      <th>75%</th>\n",
       "      <td>4.500000</td>\n",
       "      <td>5.476800e+04</td>\n",
       "      <td>3.145728e+07</td>\n",
       "      <td>5.000000e+06</td>\n",
       "      <td>0.000000</td>\n",
       "      <td>30.000000</td>\n",
       "    </tr>\n",
       "    <tr>\n",
       "      <th>max</th>\n",
       "      <td>5.000000</td>\n",
       "      <td>7.815831e+07</td>\n",
       "      <td>1.048576e+08</td>\n",
       "      <td>1.000000e+09</td>\n",
       "      <td>400.000000</td>\n",
       "      <td>100.000000</td>\n",
       "    </tr>\n",
       "  </tbody>\n",
       "</table>\n",
       "</div>"
      ],
      "text/plain": [
       "            Rating       Reviews  Size_in_bytes      Installs         Price  \\\n",
       "count  9367.000000  1.084100e+04   9.146000e+03  1.084100e+04  10841.000000   \n",
       "mean      4.191513  4.441119e+05   2.255921e+07  1.546291e+07      1.027273   \n",
       "std       0.515735  2.927629e+06   2.368595e+07  8.502557e+07     15.948971   \n",
       "min       1.000000  0.000000e+00   8.704000e+03  0.000000e+00      0.000000   \n",
       "25%       4.000000  3.800000e+01   5.138022e+06  1.000000e+03      0.000000   \n",
       "50%       4.300000  2.094000e+03   1.363149e+07  1.000000e+05      0.000000   \n",
       "75%       4.500000  5.476800e+04   3.145728e+07  5.000000e+06      0.000000   \n",
       "max       5.000000  7.815831e+07   1.048576e+08  1.000000e+09    400.000000   \n",
       "\n",
       "       Size_in_Mbs  \n",
       "count  9146.000000  \n",
       "mean     21.514141  \n",
       "std      22.588679  \n",
       "min       0.008301  \n",
       "25%       4.900000  \n",
       "50%      13.000000  \n",
       "75%      30.000000  \n",
       "max     100.000000  "
      ]
     },
     "execution_count": 133,
     "metadata": {},
     "output_type": "execute_result"
    }
   ],
   "source": [
    "df.describe()"
   ]
  },
  {
   "cell_type": "markdown",
   "metadata": {},
   "source": [
    "Now, We have Convert all the numeric values into numeric datatype "
   ]
  },
  {
   "cell_type": "markdown",
   "metadata": {},
   "source": [
    "# Working on `Missing values`"
   ]
  },
  {
   "cell_type": "code",
   "execution_count": null,
   "metadata": {},
   "outputs": [
    {
     "data": {
      "text/plain": [
       "App                     0\n",
       "Category                1\n",
       "Rating               1474\n",
       "Reviews                 0\n",
       "Size_in_bytes        1695\n",
       "Installs                0\n",
       "Type                    1\n",
       "Price                   0\n",
       "Content Rating          0\n",
       "Genres                  1\n",
       "Last Updated            0\n",
       "Current Ver             8\n",
       "Android Ver             2\n",
       "Size_in_Mbs          1695\n",
       "Installs_category       0\n",
       "dtype: int64"
      ]
     },
     "execution_count": 134,
     "metadata": {},
     "output_type": "execute_result"
    }
   ],
   "source": [
    "df.isnull().sum()"
   ]
  },
  {
   "cell_type": "code",
   "execution_count": null,
   "metadata": {},
   "outputs": [
    {
     "name": "stdout",
     "output_type": "stream",
     "text": [
      "<class 'pandas.core.frame.DataFrame'>\n",
      "RangeIndex: 10841 entries, 0 to 10840\n",
      "Data columns (total 15 columns):\n",
      " #   Column             Non-Null Count  Dtype   \n",
      "---  ------             --------------  -----   \n",
      " 0   App                10841 non-null  object  \n",
      " 1   Category           10840 non-null  object  \n",
      " 2   Rating             9367 non-null   float64 \n",
      " 3   Reviews            10841 non-null  int64   \n",
      " 4   Size_in_bytes      9146 non-null   float64 \n",
      " 5   Installs           10841 non-null  int64   \n",
      " 6   Type               10840 non-null  object  \n",
      " 7   Price              10841 non-null  float64 \n",
      " 8   Content Rating     10841 non-null  object  \n",
      " 9   Genres             10840 non-null  object  \n",
      " 10  Last Updated       10841 non-null  object  \n",
      " 11  Current Ver        10833 non-null  object  \n",
      " 12  Android Ver        10839 non-null  object  \n",
      " 13  Size_in_Mbs        9146 non-null   float64 \n",
      " 14  Installs_category  10841 non-null  category\n",
      "dtypes: category(1), float64(4), int64(2), object(8)\n",
      "memory usage: 1.2+ MB\n"
     ]
    }
   ],
   "source": [
    "df.info()"
   ]
  },
  {
   "cell_type": "code",
   "execution_count": null,
   "metadata": {},
   "outputs": [
    {
     "data": {
      "text/plain": [
       "<Axes: >"
      ]
     },
     "execution_count": 136,
     "metadata": {},
     "output_type": "execute_result"
    },
    {
     "data": {
      "image/png": "[encoded data removed]",
      "text/plain": [
       "<Figure size 1400x1000 with 2 Axes>"
      ]
     },
     "metadata": {},
     "output_type": "display_data"
    }
   ],
   "source": [
    "plt.figure(figsize=(14,10))\n",
    "numeric_cols = [\"Rating\", \"Reviews\",\"Size_in_bytes\", \"Installs\", \"Price\", \"Size_in_Mbs\"]\n",
    "sns.heatmap(df[numeric_cols].corr() , annot=True)"
   ]
  },
  {
   "cell_type": "code",
   "execution_count": null,
   "metadata": {},
   "outputs": [
    {
     "data": {
      "text/html": [
       "<div>\n",
       "<style scoped>\n",
       "    .dataframe tbody tr th:only-of-type {\n",
       "        vertical-align: middle;\n",
       "    }\n",
       "\n",
       "    .dataframe tbody tr th {\n",
       "        vertical-align: top;\n",
       "    }\n",
       "\n",
       "    .dataframe thead th {\n",
       "        text-align: right;\n",
       "    }\n",
       "</style>\n",
       "<table border=\"1\" class=\"dataframe\">\n",
       "  <thead>\n",
       "    <tr style=\"text-align: right;\">\n",
       "      <th></th>\n",
       "      <th>Rating</th>\n",
       "      <th>Reviews</th>\n",
       "      <th>Size_in_bytes</th>\n",
       "      <th>Installs</th>\n",
       "      <th>Price</th>\n",
       "      <th>Size_in_Mbs</th>\n",
       "    </tr>\n",
       "  </thead>\n",
       "  <tbody>\n",
       "    <tr>\n",
       "      <th>Rating</th>\n",
       "      <td>1.000000</td>\n",
       "      <td>0.068147</td>\n",
       "      <td>0.084098</td>\n",
       "      <td>0.051393</td>\n",
       "      <td>-0.021851</td>\n",
       "      <td>0.084098</td>\n",
       "    </tr>\n",
       "    <tr>\n",
       "      <th>Reviews</th>\n",
       "      <td>0.068147</td>\n",
       "      <td>1.000000</td>\n",
       "      <td>0.238218</td>\n",
       "      <td>0.643123</td>\n",
       "      <td>-0.009666</td>\n",
       "      <td>0.238218</td>\n",
       "    </tr>\n",
       "    <tr>\n",
       "      <th>Size_in_bytes</th>\n",
       "      <td>0.084098</td>\n",
       "      <td>0.238218</td>\n",
       "      <td>1.000000</td>\n",
       "      <td>0.164794</td>\n",
       "      <td>-0.023000</td>\n",
       "      <td>1.000000</td>\n",
       "    </tr>\n",
       "    <tr>\n",
       "      <th>Installs</th>\n",
       "      <td>0.051393</td>\n",
       "      <td>0.643123</td>\n",
       "      <td>0.164794</td>\n",
       "      <td>1.000000</td>\n",
       "      <td>-0.011688</td>\n",
       "      <td>0.164794</td>\n",
       "    </tr>\n",
       "    <tr>\n",
       "      <th>Price</th>\n",
       "      <td>-0.021851</td>\n",
       "      <td>-0.009666</td>\n",
       "      <td>-0.023000</td>\n",
       "      <td>-0.011688</td>\n",
       "      <td>1.000000</td>\n",
       "      <td>-0.023000</td>\n",
       "    </tr>\n",
       "    <tr>\n",
       "      <th>Size_in_Mbs</th>\n",
       "      <td>0.084098</td>\n",
       "      <td>0.238218</td>\n",
       "      <td>1.000000</td>\n",
       "      <td>0.164794</td>\n",
       "      <td>-0.023000</td>\n",
       "      <td>1.000000</td>\n",
       "    </tr>\n",
       "  </tbody>\n",
       "</table>\n",
       "</div>"
      ],
      "text/plain": [
       "                 Rating   Reviews  Size_in_bytes  Installs     Price  \\\n",
       "Rating         1.000000  0.068147       0.084098  0.051393 -0.021851   \n",
       "Reviews        0.068147  1.000000       0.238218  0.643123 -0.009666   \n",
       "Size_in_bytes  0.084098  0.238218       1.000000  0.164794 -0.023000   \n",
       "Installs       0.051393  0.643123       0.164794  1.000000 -0.011688   \n",
       "Price         -0.021851 -0.009666      -0.023000 -0.011688  1.000000   \n",
       "Size_in_Mbs    0.084098  0.238218       1.000000  0.164794 -0.023000   \n",
       "\n",
       "               Size_in_Mbs  \n",
       "Rating            0.084098  \n",
       "Reviews           0.238218  \n",
       "Size_in_bytes     1.000000  \n",
       "Installs          0.164794  \n",
       "Price            -0.023000  \n",
       "Size_in_Mbs       1.000000  "
      ]
     },
     "execution_count": 137,
     "metadata": {},
     "output_type": "execute_result"
    }
   ],
   "source": [
    "df[numeric_cols].corr()"
   ]
  },
  {
   "cell_type": "markdown",
   "metadata": {},
   "source": [
    "# Correlation by using `Pearson's R` method"
   ]
  },
  {
   "cell_type": "code",
   "execution_count": null,
   "metadata": {},
   "outputs": [
    {
     "name": "stdout",
     "output_type": "stream",
     "text": [
      "This is the Pearson's_R correlation between Reviews and Installs: 0.6262\n"
     ]
    }
   ],
   "source": [
    "from scipy import stats\n",
    "\n",
    "df_clean = df.dropna()\n",
    "\n",
    "pearson_r, p_value = stats.pearsonr(df_clean[\"Reviews\"], df_clean[\"Installs\"])\n",
    "print(f\"This is the Pearson's_R correlation between Reviews and Installs: {pearson_r:.4f}\")"
   ]
  },
  {
   "cell_type": "code",
   "execution_count": null,
   "metadata": {},
   "outputs": [
    {
     "data": {
      "text/plain": [
       "Index(['App', 'Category', 'Rating', 'Reviews', 'Size_in_bytes', 'Installs',\n",
       "       'Type', 'Price', 'Content Rating', 'Genres', 'Last Updated',\n",
       "       'Current Ver', 'Android Ver', 'Size_in_Mbs', 'Installs_category'],\n",
       "      dtype='object')"
      ]
     },
     "execution_count": 139,
     "metadata": {},
     "output_type": "execute_result"
    }
   ],
   "source": [
    "df.columns"
   ]
  },
  {
   "cell_type": "code",
   "execution_count": null,
   "metadata": {},
   "outputs": [
    {
     "data": {
      "text/plain": [
       "App                     0\n",
       "Category                1\n",
       "Rating               1474\n",
       "Reviews                 0\n",
       "Size_in_bytes        1695\n",
       "Installs                0\n",
       "Type                    1\n",
       "Price                   0\n",
       "Content Rating          0\n",
       "Genres                  1\n",
       "Last Updated            0\n",
       "Current Ver             8\n",
       "Android Ver             2\n",
       "Size_in_Mbs          1695\n",
       "Installs_category       0\n",
       "dtype: int64"
      ]
     },
     "execution_count": 140,
     "metadata": {},
     "output_type": "execute_result"
    }
   ],
   "source": [
    "df.isnull().sum()"
   ]
  },
  {
   "cell_type": "code",
   "execution_count": null,
   "metadata": {},
   "outputs": [
    {
     "name": "stdout",
     "output_type": "stream",
     "text": [
      "The is the length of dataset before dropping null values: 10841\n"
     ]
    }
   ],
   "source": [
    "print(f\"The is the length of dataset before dropping null values: {len(df)}\")"
   ]
  },
  {
   "cell_type": "code",
   "execution_count": null,
   "metadata": {},
   "outputs": [],
   "source": [
    "df.dropna(subset =[\"Category\", \"Type\", \"Genres\", \"Current Ver\", \"Android Ver\"], inplace=True)"
   ]
  },
  {
   "cell_type": "code",
   "execution_count": null,
   "metadata": {},
   "outputs": [
    {
     "name": "stdout",
     "output_type": "stream",
     "text": [
      "This is the lenght of dataset after dropping null values: 10829\n"
     ]
    }
   ],
   "source": [
    "print(f\"This is the lenght of dataset after dropping null values: {len(df)}\")"
   ]
  },
  {
   "cell_type": "markdown",
   "metadata": {},
   "source": [
    "*  We are remove `12` rows from the dataset which have NaN values in the columns of `Category`, `Type`, `Genres`, `Current Ver` and `Android Ver`"
   ]
  },
  {
   "cell_type": "code",
   "execution_count": null,
   "metadata": {},
   "outputs": [
    {
     "data": {
      "text/plain": [
       "Size_in_bytes        1694\n",
       "Size_in_Mbs          1694\n",
       "Rating               1469\n",
       "App                     0\n",
       "Category                0\n",
       "Reviews                 0\n",
       "Installs                0\n",
       "Type                    0\n",
       "Price                   0\n",
       "Content Rating          0\n",
       "Genres                  0\n",
       "Last Updated            0\n",
       "Current Ver             0\n",
       "Android Ver             0\n",
       "Installs_category       0\n",
       "dtype: int64"
      ]
     },
     "execution_count": 144,
     "metadata": {},
     "output_type": "execute_result"
    }
   ],
   "source": [
    "df.isnull().sum().sort_values(ascending=False)"
   ]
  },
  {
   "cell_type": "markdown",
   "metadata": {},
   "source": [
    "# **Observation**\n",
    "* There are three columns now which have missing or null values `Size_in_bytes = 1694`, `Size_in_Mbs = 1694` and `Rating = 1469`\n",
    "    * we also know that we can't replace the `Rating` column null values with any other because `Rating` have correlation with `Installs`.\n",
    "    * we also replace the \"Varies with  device\" with null values and no one predict this value also in both  `Size_in_bytes` and `Size_in_Mbs` columns null values are those \"Varies with device\" "
   ]
  },
  {
   "cell_type": "code",
   "execution_count": null,
   "metadata": {},
   "outputs": [
    {
     "data": {
      "text/plain": [
       "Installs_category\n",
       "Low                   2158\n",
       "High                  2116\n",
       "Very High             2004\n",
       "More than Moderate    1647\n",
       "Moderate              1528\n",
       "Top Notch              828\n",
       "Very Low               534\n",
       "no                      14\n",
       "Name: count, dtype: int64"
      ]
     },
     "execution_count": 145,
     "metadata": {},
     "output_type": "execute_result"
    }
   ],
   "source": [
    "df[\"Installs_category\"].value_counts()"
   ]
  },
  {
   "cell_type": "code",
   "execution_count": null,
   "metadata": {},
   "outputs": [
    {
     "data": {
      "text/plain": [
       "Index(['App', 'Category', 'Rating', 'Reviews', 'Size_in_bytes', 'Installs',\n",
       "       'Type', 'Price', 'Content Rating', 'Genres', 'Last Updated',\n",
       "       'Current Ver', 'Android Ver', 'Size_in_Mbs', 'Installs_category'],\n",
       "      dtype='object')"
      ]
     },
     "execution_count": 146,
     "metadata": {},
     "output_type": "execute_result"
    }
   ],
   "source": [
    "df.columns"
   ]
  },
  {
   "cell_type": "code",
   "execution_count": null,
   "metadata": {},
   "outputs": [
    {
     "name": "stderr",
     "output_type": "stream",
     "text": [
      "C:\\Users\\dv04i\\AppData\\Local\\Temp\\ipykernel_6220\\316663705.py:1: FutureWarning: The default of observed=False is deprecated and will be changed to True in a future version of pandas. Pass observed=False to retain current behavior or observed=True to adopt the future default and silence this warning.\n",
      "  df.groupby(\"Installs_category\")[\"Rating\"].describe()\n"
     ]
    },
    {
     "data": {
      "text/html": [
       "<div>\n",
       "<style scoped>\n",
       "    .dataframe tbody tr th:only-of-type {\n",
       "        vertical-align: middle;\n",
       "    }\n",
       "\n",
       "    .dataframe tbody tr th {\n",
       "        vertical-align: top;\n",
       "    }\n",
       "\n",
       "    .dataframe thead th {\n",
       "        text-align: right;\n",
       "    }\n",
       "</style>\n",
       "<table border=\"1\" class=\"dataframe\">\n",
       "  <thead>\n",
       "    <tr style=\"text-align: right;\">\n",
       "      <th></th>\n",
       "      <th>count</th>\n",
       "      <th>mean</th>\n",
       "      <th>std</th>\n",
       "      <th>min</th>\n",
       "      <th>25%</th>\n",
       "      <th>50%</th>\n",
       "      <th>75%</th>\n",
       "      <th>max</th>\n",
       "    </tr>\n",
       "    <tr>\n",
       "      <th>Installs_category</th>\n",
       "      <th></th>\n",
       "      <th></th>\n",
       "      <th></th>\n",
       "      <th></th>\n",
       "      <th></th>\n",
       "      <th></th>\n",
       "      <th></th>\n",
       "      <th></th>\n",
       "    </tr>\n",
       "  </thead>\n",
       "  <tbody>\n",
       "    <tr>\n",
       "      <th>no</th>\n",
       "      <td>0.0</td>\n",
       "      <td>NaN</td>\n",
       "      <td>NaN</td>\n",
       "      <td>NaN</td>\n",
       "      <td>NaN</td>\n",
       "      <td>NaN</td>\n",
       "      <td>NaN</td>\n",
       "      <td>NaN</td>\n",
       "    </tr>\n",
       "    <tr>\n",
       "      <th>Very Low</th>\n",
       "      <td>81.0</td>\n",
       "      <td>4.637037</td>\n",
       "      <td>0.845199</td>\n",
       "      <td>1.0</td>\n",
       "      <td>4.8</td>\n",
       "      <td>5.0</td>\n",
       "      <td>5.0</td>\n",
       "      <td>5.0</td>\n",
       "    </tr>\n",
       "    <tr>\n",
       "      <th>Low</th>\n",
       "      <td>1278.0</td>\n",
       "      <td>4.170970</td>\n",
       "      <td>0.825605</td>\n",
       "      <td>1.0</td>\n",
       "      <td>3.8</td>\n",
       "      <td>4.4</td>\n",
       "      <td>4.8</td>\n",
       "      <td>5.0</td>\n",
       "    </tr>\n",
       "    <tr>\n",
       "      <th>Moderate</th>\n",
       "      <td>1440.0</td>\n",
       "      <td>4.035417</td>\n",
       "      <td>0.604428</td>\n",
       "      <td>1.4</td>\n",
       "      <td>3.8</td>\n",
       "      <td>4.2</td>\n",
       "      <td>4.5</td>\n",
       "      <td>5.0</td>\n",
       "    </tr>\n",
       "    <tr>\n",
       "      <th>More than Moderate</th>\n",
       "      <td>1616.0</td>\n",
       "      <td>4.093255</td>\n",
       "      <td>0.505619</td>\n",
       "      <td>1.6</td>\n",
       "      <td>3.9</td>\n",
       "      <td>4.2</td>\n",
       "      <td>4.5</td>\n",
       "      <td>4.9</td>\n",
       "    </tr>\n",
       "    <tr>\n",
       "      <th>High</th>\n",
       "      <td>2113.0</td>\n",
       "      <td>4.207525</td>\n",
       "      <td>0.376594</td>\n",
       "      <td>1.8</td>\n",
       "      <td>4.0</td>\n",
       "      <td>4.3</td>\n",
       "      <td>4.5</td>\n",
       "      <td>4.9</td>\n",
       "    </tr>\n",
       "    <tr>\n",
       "      <th>Very High</th>\n",
       "      <td>2004.0</td>\n",
       "      <td>4.287076</td>\n",
       "      <td>0.294902</td>\n",
       "      <td>2.0</td>\n",
       "      <td>4.1</td>\n",
       "      <td>4.3</td>\n",
       "      <td>4.5</td>\n",
       "      <td>4.9</td>\n",
       "    </tr>\n",
       "    <tr>\n",
       "      <th>Top Notch</th>\n",
       "      <td>828.0</td>\n",
       "      <td>4.374396</td>\n",
       "      <td>0.193726</td>\n",
       "      <td>3.1</td>\n",
       "      <td>4.3</td>\n",
       "      <td>4.4</td>\n",
       "      <td>4.5</td>\n",
       "      <td>4.8</td>\n",
       "    </tr>\n",
       "  </tbody>\n",
       "</table>\n",
       "</div>"
      ],
      "text/plain": [
       "                     count      mean       std  min  25%  50%  75%  max\n",
       "Installs_category                                                      \n",
       "no                     0.0       NaN       NaN  NaN  NaN  NaN  NaN  NaN\n",
       "Very Low              81.0  4.637037  0.845199  1.0  4.8  5.0  5.0  5.0\n",
       "Low                 1278.0  4.170970  0.825605  1.0  3.8  4.4  4.8  5.0\n",
       "Moderate            1440.0  4.035417  0.604428  1.4  3.8  4.2  4.5  5.0\n",
       "More than Moderate  1616.0  4.093255  0.505619  1.6  3.9  4.2  4.5  4.9\n",
       "High                2113.0  4.207525  0.376594  1.8  4.0  4.3  4.5  4.9\n",
       "Very High           2004.0  4.287076  0.294902  2.0  4.1  4.3  4.5  4.9\n",
       "Top Notch            828.0  4.374396  0.193726  3.1  4.3  4.4  4.5  4.8"
      ]
     },
     "execution_count": 147,
     "metadata": {},
     "output_type": "execute_result"
    }
   ],
   "source": [
    "df.groupby(\"Installs_category\")[\"Rating\"].describe()"
   ]
  },
  {
   "cell_type": "markdown",
   "metadata": {},
   "source": [
    "# We use the `pearson's_R` correlation for getting the correlation between `Rating` and `Installes`"
   ]
  },
  {
   "cell_type": "code",
   "execution_count": null,
   "metadata": {},
   "outputs": [
    {
     "data": {
      "text/plain": [
       "PearsonRResult(statistic=0.05269312825073974, pvalue=3.6010347974401046e-06)"
      ]
     },
     "execution_count": 148,
     "metadata": {},
     "output_type": "execute_result"
    }
   ],
   "source": [
    "# with null values you can't calculate the pearson's_R correlation \n",
    "df_clear = df.dropna()\n",
    "stats.pearsonr(df_clean[\"Rating\"], df_clean[\"Installs\"])"
   ]
  },
  {
   "cell_type": "code",
   "execution_count": null,
   "metadata": {},
   "outputs": [
    {
     "data": {
      "text/plain": [
       "Installs_category\n",
       "Low                   880\n",
       "Very Low              453\n",
       "Moderate               88\n",
       "More than Moderate     31\n",
       "no                     14\n",
       "High                    3\n",
       "Very High               0\n",
       "Top Notch               0\n",
       "Name: count, dtype: int64"
      ]
     },
     "execution_count": 149,
     "metadata": {},
     "output_type": "execute_result"
    }
   ],
   "source": [
    "df[\"Installs_category\"].loc[df[\"Rating\"].isnull()].value_counts()"
   ]
  },
  {
   "cell_type": "code",
   "execution_count": null,
   "metadata": {},
   "outputs": [
    {
     "data": {
      "text/plain": [
       "Text(6, 3.5, 'Null values are 0')"
      ]
     },
     "execution_count": 150,
     "metadata": {},
     "output_type": "execute_result"
    },
    {
     "data": {
      "image/png": "[encoded data removed]",
      "text/plain": [
       "<Figure size 2000x1000 with 1 Axes>"
      ]
     },
     "metadata": {},
     "output_type": "display_data"
    }
   ],
   "source": [
    "plt.figure(figsize=(20,10))\n",
    "sns.boxplot(x=\"Installs_category\", y=\"Rating\", data=df, hue=\"Installs_category\")\n",
    "plt.text(0,3.5,\"Null values are 14\")\n",
    "plt.text(1,3.5,\"Null values are 453\")\n",
    "plt.text(2,3.5,\"Null values are 880\")\n",
    "plt.text(3,3.5,\"Null values are 88\")\n",
    "plt.text(4,3.5,\"Null values are 0\")\n",
    "plt.text(5,3.5,\"Null values are 0\")\n",
    "plt.text(6,3.5,\"Null values are 0\")"
   ]
  },
  {
   "cell_type": "code",
   "execution_count": null,
   "metadata": {},
   "outputs": [
    {
     "data": {
      "text/plain": [
       "Installs_category\n",
       "no                    0\n",
       "Very Low              0\n",
       "Low                   0\n",
       "Moderate              0\n",
       "More than Moderate    0\n",
       "High                  0\n",
       "Very High             0\n",
       "Top Notch             0\n",
       "Name: count, dtype: int64"
      ]
     },
     "execution_count": 151,
     "metadata": {},
     "output_type": "execute_result"
    }
   ],
   "source": [
    "df[\"Installs_category\"].loc[df[\"Reviews\"].isnull()].value_counts()"
   ]
  },
  {
   "cell_type": "code",
   "execution_count": null,
   "metadata": {},
   "outputs": [
    {
     "name": "stderr",
     "output_type": "stream",
     "text": [
      "c:\\Users\\dv04i\\miniconda3\\envs\\ydata_profiling\\lib\\site-packages\\pandas\\core\\arraylike.py:399: RuntimeWarning: divide by zero encountered in log10\n",
      "  result = getattr(ufunc, method)(*inputs, **kwargs)\n"
     ]
    },
    {
     "data": {
      "text/plain": [
       "<Axes: xlabel='Installs_category', ylabel='Reviews'>"
      ]
     },
     "execution_count": 152,
     "metadata": {},
     "output_type": "execute_result"
    },
    {
     "data": {
      "image/png": "[encoded data removed]",
      "text/plain": [
       "<Figure size 2000x1000 with 1 Axes>"
      ]
     },
     "metadata": {},
     "output_type": "display_data"
    }
   ],
   "source": [
    "plt.figure(figsize=(20,10))\n",
    "sns.boxplot(x=\"Installs_category\", y=np.log10(df[\"Reviews\"]), data=df, hue=\"Installs_category\")"
   ]
  },
  {
   "cell_type": "code",
   "execution_count": null,
   "metadata": {},
   "outputs": [
    {
     "data": {
      "text/plain": [
       "<Axes: xlabel='Rating', ylabel='Reviews'>"
      ]
     },
     "execution_count": 153,
     "metadata": {},
     "output_type": "execute_result"
    },
    {
     "data": {
      "image/png": "[encoded data removed]",
      "text/plain": [
       "<Figure size 2000x1000 with 1 Axes>"
      ]
     },
     "metadata": {},
     "output_type": "display_data"
    }
   ],
   "source": [
    "plt.figure(figsize=(20, 10))\n",
    "sns.scatterplot(x=\"Rating\", y=\"Reviews\", data=df, hue=\"Installs_category\")"
   ]
  },
  {
   "cell_type": "code",
   "execution_count": null,
   "metadata": {},
   "outputs": [
    {
     "data": {
      "text/plain": [
       "<Axes: xlabel='Reviews', ylabel='Installs'>"
      ]
     },
     "execution_count": 154,
     "metadata": {},
     "output_type": "execute_result"
    },
    {
     "data": {
      "image/png": "[encoded data removed]",
      "text/plain": [
       "<Figure size 2000x1000 with 1 Axes>"
      ]
     },
     "metadata": {},
     "output_type": "display_data"
    }
   ],
   "source": [
    "plt.figure(figsize=(20, 10))\n",
    "sns.scatterplot(x =\"Reviews\", y=\"Installs\", data=df, hue=\"Installs_category\")"
   ]
  },
  {
   "cell_type": "code",
   "execution_count": null,
   "metadata": {},
   "outputs": [
    {
     "name": "stderr",
     "output_type": "stream",
     "text": [
      "c:\\Users\\dv04i\\miniconda3\\envs\\ydata_profiling\\lib\\site-packages\\pandas\\core\\arraylike.py:399: RuntimeWarning: divide by zero encountered in log10\n",
      "  result = getattr(ufunc, method)(*inputs, **kwargs)\n"
     ]
    },
    {
     "data": {
      "text/plain": [
       "<Axes: xlabel='Reviews', ylabel='Installs'>"
      ]
     },
     "execution_count": 155,
     "metadata": {},
     "output_type": "execute_result"
    },
    {
     "data": {
      "image/png": "[encoded data removed]",
      "text/plain": [
       "<Figure size 2000x1000 with 1 Axes>"
      ]
     },
     "metadata": {},
     "output_type": "display_data"
    }
   ],
   "source": [
    "plt.figure(figsize=(20, 10))\n",
    "sns.scatterplot(x = np.log10(df[\"Reviews\"]), y= np.log10(df[\"Installs\"]), data=df, hue=\"Installs_category\")"
   ]
  },
  {
   "cell_type": "code",
   "execution_count": null,
   "metadata": {},
   "outputs": [
    {
     "data": {
      "text/plain": [
       "<seaborn.axisgrid.FacetGrid at 0x2864f017c40>"
      ]
     },
     "execution_count": 156,
     "metadata": {},
     "output_type": "execute_result"
    },
    {
     "data": {
      "text/plain": [
       "<Figure size 2000x1000 with 0 Axes>"
      ]
     },
     "metadata": {},
     "output_type": "display_data"
    },
    {
     "data": {
      "image/png": "[encoded data removed]",
      "text/plain": [
       "<Figure size 500x500 with 1 Axes>"
      ]
     },
     "metadata": {},
     "output_type": "display_data"
    }
   ],
   "source": [
    "plt.figure(figsize=(20, 10))\n",
    "sns.lmplot(x=\"Reviews\", y=\"Installs\", data=df) "
   ]
  },
  {
   "cell_type": "markdown",
   "metadata": {},
   "source": [
    "----\n",
    "# Observation:\n",
    "* The values of Installs are depends on the `Rating` and `Reviews`, if the `Rating` and `Reviews` increace the  `Installs` will also increase.\n",
    "* But, an other problem is that `App` column has duplicate values \n"
   ]
  },
  {
   "cell_type": "code",
   "execution_count": null,
   "metadata": {},
   "outputs": [
    {
     "data": {
      "text/plain": [
       "483"
      ]
     },
     "execution_count": 157,
     "metadata": {},
     "output_type": "execute_result"
    }
   ],
   "source": [
    "df.duplicated().sum()"
   ]
  },
  {
   "cell_type": "code",
   "execution_count": null,
   "metadata": {},
   "outputs": [
    {
     "data": {
      "text/plain": [
       "1181"
      ]
     },
     "execution_count": 158,
     "metadata": {},
     "output_type": "execute_result"
    }
   ],
   "source": [
    "df[\"App\"].duplicated().sum()"
   ]
  },
  {
   "cell_type": "markdown",
   "metadata": {},
   "source": [
    "**Now, we check the number of duplicates in all the columns of the dataset**"
   ]
  },
  {
   "cell_type": "code",
   "execution_count": null,
   "metadata": {},
   "outputs": [
    {
     "name": "stdout",
     "output_type": "stream",
     "text": [
      "Numbers of duplicates in App column is 1181\n",
      "Numbers of duplicates in Category column is 10796\n",
      "Numbers of duplicates in Rating column is 10789\n",
      "Numbers of duplicates in Reviews column is 4830\n",
      "Numbers of duplicates in Size_in_bytes column is 10373\n",
      "Numbers of duplicates in Installs column is 10809\n",
      "Numbers of duplicates in Type column is 10827\n",
      "Numbers of duplicates in Price column is 10737\n",
      "Numbers of duplicates in Content Rating column is 10823\n",
      "Numbers of duplicates in Genres column is 10710\n",
      "Numbers of duplicates in Last Updated column is 9453\n",
      "Numbers of duplicates in Current Ver column is 7998\n",
      "Numbers of duplicates in Android Ver column is 10796\n",
      "Numbers of duplicates in Size_in_Mbs column is 10373\n",
      "Numbers of duplicates in Installs_category column is 10821\n"
     ]
    }
   ],
   "source": [
    "for col in df.columns:\n",
    "    print(f\"Numbers of duplicates in {col} column is {df[col].duplicated().sum()}\")"
   ]
  },
  {
   "cell_type": "markdown",
   "metadata": {},
   "source": [
    "Every column has duplicate values and it's not a small amount , So the best way to remove the duplicates is to use the duplicated values of the `whole dataset`."
   ]
  },
  {
   "cell_type": "code",
   "execution_count": null,
   "metadata": {},
   "outputs": [
    {
     "name": "stdout",
     "output_type": "stream",
     "text": [
      "This is the Total Numbers of duplicates in the whole dataset:483\n"
     ]
    }
   ],
   "source": [
    "print(f\"This is the Total Numbers of duplicates in the whole dataset:{df.duplicated().sum()}\")"
   ]
  },
  {
   "cell_type": "code",
   "execution_count": null,
   "metadata": {},
   "outputs": [
    {
     "data": {
      "text/plain": [
       "483"
      ]
     },
     "execution_count": 161,
     "metadata": {},
     "output_type": "execute_result"
    }
   ],
   "source": [
    "df.duplicated().sum()"
   ]
  },
  {
   "cell_type": "code",
   "execution_count": null,
   "metadata": {},
   "outputs": [
    {
     "data": {
      "text/html": [
       "<div>\n",
       "<style scoped>\n",
       "    .dataframe tbody tr th:only-of-type {\n",
       "        vertical-align: middle;\n",
       "    }\n",
       "\n",
       "    .dataframe tbody tr th {\n",
       "        vertical-align: top;\n",
       "    }\n",
       "\n",
       "    .dataframe thead th {\n",
       "        text-align: right;\n",
       "    }\n",
       "</style>\n",
       "<table border=\"1\" class=\"dataframe\">\n",
       "  <thead>\n",
       "    <tr style=\"text-align: right;\">\n",
       "      <th></th>\n",
       "      <th>App</th>\n",
       "      <th>Category</th>\n",
       "      <th>Rating</th>\n",
       "      <th>Reviews</th>\n",
       "      <th>Size_in_bytes</th>\n",
       "      <th>Installs</th>\n",
       "      <th>Type</th>\n",
       "      <th>Price</th>\n",
       "      <th>Content Rating</th>\n",
       "      <th>Genres</th>\n",
       "      <th>Last Updated</th>\n",
       "      <th>Current Ver</th>\n",
       "      <th>Android Ver</th>\n",
       "      <th>Size_in_Mbs</th>\n",
       "      <th>Installs_category</th>\n",
       "    </tr>\n",
       "  </thead>\n",
       "  <tbody>\n",
       "    <tr>\n",
       "      <th>229</th>\n",
       "      <td>Quick PDF Scanner + OCR FREE</td>\n",
       "      <td>BUSINESS</td>\n",
       "      <td>4.2</td>\n",
       "      <td>80805</td>\n",
       "      <td>NaN</td>\n",
       "      <td>5000000</td>\n",
       "      <td>Free</td>\n",
       "      <td>0.0</td>\n",
       "      <td>Everyone</td>\n",
       "      <td>Business</td>\n",
       "      <td>February 26, 2018</td>\n",
       "      <td>Varies with device</td>\n",
       "      <td>4.0.3 and up</td>\n",
       "      <td>NaN</td>\n",
       "      <td>Very High</td>\n",
       "    </tr>\n",
       "    <tr>\n",
       "      <th>236</th>\n",
       "      <td>Box</td>\n",
       "      <td>BUSINESS</td>\n",
       "      <td>4.2</td>\n",
       "      <td>159872</td>\n",
       "      <td>NaN</td>\n",
       "      <td>10000000</td>\n",
       "      <td>Free</td>\n",
       "      <td>0.0</td>\n",
       "      <td>Everyone</td>\n",
       "      <td>Business</td>\n",
       "      <td>July 31, 2018</td>\n",
       "      <td>Varies with device</td>\n",
       "      <td>Varies with device</td>\n",
       "      <td>NaN</td>\n",
       "      <td>Very High</td>\n",
       "    </tr>\n",
       "    <tr>\n",
       "      <th>239</th>\n",
       "      <td>Google My Business</td>\n",
       "      <td>BUSINESS</td>\n",
       "      <td>4.4</td>\n",
       "      <td>70991</td>\n",
       "      <td>NaN</td>\n",
       "      <td>5000000</td>\n",
       "      <td>Free</td>\n",
       "      <td>0.0</td>\n",
       "      <td>Everyone</td>\n",
       "      <td>Business</td>\n",
       "      <td>July 24, 2018</td>\n",
       "      <td>2.19.0.204537701</td>\n",
       "      <td>4.4 and up</td>\n",
       "      <td>NaN</td>\n",
       "      <td>Very High</td>\n",
       "    </tr>\n",
       "    <tr>\n",
       "      <th>256</th>\n",
       "      <td>ZOOM Cloud Meetings</td>\n",
       "      <td>BUSINESS</td>\n",
       "      <td>4.4</td>\n",
       "      <td>31614</td>\n",
       "      <td>38797312.0</td>\n",
       "      <td>10000000</td>\n",
       "      <td>Free</td>\n",
       "      <td>0.0</td>\n",
       "      <td>Everyone</td>\n",
       "      <td>Business</td>\n",
       "      <td>July 20, 2018</td>\n",
       "      <td>4.1.28165.0716</td>\n",
       "      <td>4.0 and up</td>\n",
       "      <td>37.0</td>\n",
       "      <td>Very High</td>\n",
       "    </tr>\n",
       "    <tr>\n",
       "      <th>261</th>\n",
       "      <td>join.me - Simple Meetings</td>\n",
       "      <td>BUSINESS</td>\n",
       "      <td>4.0</td>\n",
       "      <td>6989</td>\n",
       "      <td>NaN</td>\n",
       "      <td>1000000</td>\n",
       "      <td>Free</td>\n",
       "      <td>0.0</td>\n",
       "      <td>Everyone</td>\n",
       "      <td>Business</td>\n",
       "      <td>July 16, 2018</td>\n",
       "      <td>4.3.0.508</td>\n",
       "      <td>4.4 and up</td>\n",
       "      <td>NaN</td>\n",
       "      <td>High</td>\n",
       "    </tr>\n",
       "    <tr>\n",
       "      <th>...</th>\n",
       "      <td>...</td>\n",
       "      <td>...</td>\n",
       "      <td>...</td>\n",
       "      <td>...</td>\n",
       "      <td>...</td>\n",
       "      <td>...</td>\n",
       "      <td>...</td>\n",
       "      <td>...</td>\n",
       "      <td>...</td>\n",
       "      <td>...</td>\n",
       "      <td>...</td>\n",
       "      <td>...</td>\n",
       "      <td>...</td>\n",
       "      <td>...</td>\n",
       "      <td>...</td>\n",
       "    </tr>\n",
       "    <tr>\n",
       "      <th>8643</th>\n",
       "      <td>Wunderlist: To-Do List &amp; Tasks</td>\n",
       "      <td>PRODUCTIVITY</td>\n",
       "      <td>4.6</td>\n",
       "      <td>404610</td>\n",
       "      <td>NaN</td>\n",
       "      <td>10000000</td>\n",
       "      <td>Free</td>\n",
       "      <td>0.0</td>\n",
       "      <td>Everyone</td>\n",
       "      <td>Productivity</td>\n",
       "      <td>April 6, 2018</td>\n",
       "      <td>Varies with device</td>\n",
       "      <td>Varies with device</td>\n",
       "      <td>NaN</td>\n",
       "      <td>Very High</td>\n",
       "    </tr>\n",
       "    <tr>\n",
       "      <th>8654</th>\n",
       "      <td>TickTick: To Do List with Reminder, Day Planner</td>\n",
       "      <td>PRODUCTIVITY</td>\n",
       "      <td>4.6</td>\n",
       "      <td>25370</td>\n",
       "      <td>NaN</td>\n",
       "      <td>1000000</td>\n",
       "      <td>Free</td>\n",
       "      <td>0.0</td>\n",
       "      <td>Everyone</td>\n",
       "      <td>Productivity</td>\n",
       "      <td>August 6, 2018</td>\n",
       "      <td>Varies with device</td>\n",
       "      <td>Varies with device</td>\n",
       "      <td>NaN</td>\n",
       "      <td>High</td>\n",
       "    </tr>\n",
       "    <tr>\n",
       "      <th>8658</th>\n",
       "      <td>ColorNote Notepad Notes</td>\n",
       "      <td>PRODUCTIVITY</td>\n",
       "      <td>4.6</td>\n",
       "      <td>2401017</td>\n",
       "      <td>NaN</td>\n",
       "      <td>100000000</td>\n",
       "      <td>Free</td>\n",
       "      <td>0.0</td>\n",
       "      <td>Everyone</td>\n",
       "      <td>Productivity</td>\n",
       "      <td>June 27, 2018</td>\n",
       "      <td>Varies with device</td>\n",
       "      <td>Varies with device</td>\n",
       "      <td>NaN</td>\n",
       "      <td>Top Notch</td>\n",
       "    </tr>\n",
       "    <tr>\n",
       "      <th>10049</th>\n",
       "      <td>Airway Ex - Intubate. Anesthetize. Train.</td>\n",
       "      <td>MEDICAL</td>\n",
       "      <td>4.3</td>\n",
       "      <td>123</td>\n",
       "      <td>90177536.0</td>\n",
       "      <td>10000</td>\n",
       "      <td>Free</td>\n",
       "      <td>0.0</td>\n",
       "      <td>Everyone</td>\n",
       "      <td>Medical</td>\n",
       "      <td>June 1, 2018</td>\n",
       "      <td>0.6.88</td>\n",
       "      <td>5.0 and up</td>\n",
       "      <td>86.0</td>\n",
       "      <td>Moderate</td>\n",
       "    </tr>\n",
       "    <tr>\n",
       "      <th>10768</th>\n",
       "      <td>AAFP</td>\n",
       "      <td>MEDICAL</td>\n",
       "      <td>3.8</td>\n",
       "      <td>63</td>\n",
       "      <td>25165824.0</td>\n",
       "      <td>10000</td>\n",
       "      <td>Free</td>\n",
       "      <td>0.0</td>\n",
       "      <td>Everyone</td>\n",
       "      <td>Medical</td>\n",
       "      <td>June 22, 2018</td>\n",
       "      <td>2.3.1</td>\n",
       "      <td>5.0 and up</td>\n",
       "      <td>24.0</td>\n",
       "      <td>Moderate</td>\n",
       "    </tr>\n",
       "  </tbody>\n",
       "</table>\n",
       "<p>483 rows × 15 columns</p>\n",
       "</div>"
      ],
      "text/plain": [
       "                                                   App      Category  Rating  \\\n",
       "229                       Quick PDF Scanner + OCR FREE      BUSINESS     4.2   \n",
       "236                                                Box      BUSINESS     4.2   \n",
       "239                                 Google My Business      BUSINESS     4.4   \n",
       "256                                ZOOM Cloud Meetings      BUSINESS     4.4   \n",
       "261                          join.me - Simple Meetings      BUSINESS     4.0   \n",
       "...                                                ...           ...     ...   \n",
       "8643                    Wunderlist: To-Do List & Tasks  PRODUCTIVITY     4.6   \n",
       "8654   TickTick: To Do List with Reminder, Day Planner  PRODUCTIVITY     4.6   \n",
       "8658                           ColorNote Notepad Notes  PRODUCTIVITY     4.6   \n",
       "10049        Airway Ex - Intubate. Anesthetize. Train.       MEDICAL     4.3   \n",
       "10768                                             AAFP       MEDICAL     3.8   \n",
       "\n",
       "       Reviews  Size_in_bytes   Installs  Type  Price Content Rating  \\\n",
       "229      80805            NaN    5000000  Free    0.0       Everyone   \n",
       "236     159872            NaN   10000000  Free    0.0       Everyone   \n",
       "239      70991            NaN    5000000  Free    0.0       Everyone   \n",
       "256      31614     38797312.0   10000000  Free    0.0       Everyone   \n",
       "261       6989            NaN    1000000  Free    0.0       Everyone   \n",
       "...        ...            ...        ...   ...    ...            ...   \n",
       "8643    404610            NaN   10000000  Free    0.0       Everyone   \n",
       "8654     25370            NaN    1000000  Free    0.0       Everyone   \n",
       "8658   2401017            NaN  100000000  Free    0.0       Everyone   \n",
       "10049      123     90177536.0      10000  Free    0.0       Everyone   \n",
       "10768       63     25165824.0      10000  Free    0.0       Everyone   \n",
       "\n",
       "             Genres       Last Updated         Current Ver  \\\n",
       "229        Business  February 26, 2018  Varies with device   \n",
       "236        Business      July 31, 2018  Varies with device   \n",
       "239        Business      July 24, 2018    2.19.0.204537701   \n",
       "256        Business      July 20, 2018      4.1.28165.0716   \n",
       "261        Business      July 16, 2018           4.3.0.508   \n",
       "...             ...                ...                 ...   \n",
       "8643   Productivity      April 6, 2018  Varies with device   \n",
       "8654   Productivity     August 6, 2018  Varies with device   \n",
       "8658   Productivity      June 27, 2018  Varies with device   \n",
       "10049       Medical       June 1, 2018              0.6.88   \n",
       "10768       Medical      June 22, 2018               2.3.1   \n",
       "\n",
       "              Android Ver  Size_in_Mbs Installs_category  \n",
       "229          4.0.3 and up          NaN         Very High  \n",
       "236    Varies with device          NaN         Very High  \n",
       "239            4.4 and up          NaN         Very High  \n",
       "256            4.0 and up         37.0         Very High  \n",
       "261            4.4 and up          NaN              High  \n",
       "...                   ...          ...               ...  \n",
       "8643   Varies with device          NaN         Very High  \n",
       "8654   Varies with device          NaN              High  \n",
       "8658   Varies with device          NaN         Top Notch  \n",
       "10049          5.0 and up         86.0          Moderate  \n",
       "10768          5.0 and up         24.0          Moderate  \n",
       "\n",
       "[483 rows x 15 columns]"
      ]
     },
     "execution_count": 162,
     "metadata": {},
     "output_type": "execute_result"
    }
   ],
   "source": [
    "df[df.duplicated()]"
   ]
  },
  {
   "cell_type": "code",
   "execution_count": null,
   "metadata": {},
   "outputs": [
    {
     "data": {
      "text/html": [
       "<div>\n",
       "<style scoped>\n",
       "    .dataframe tbody tr th:only-of-type {\n",
       "        vertical-align: middle;\n",
       "    }\n",
       "\n",
       "    .dataframe tbody tr th {\n",
       "        vertical-align: top;\n",
       "    }\n",
       "\n",
       "    .dataframe thead th {\n",
       "        text-align: right;\n",
       "    }\n",
       "</style>\n",
       "<table border=\"1\" class=\"dataframe\">\n",
       "  <thead>\n",
       "    <tr style=\"text-align: right;\">\n",
       "      <th></th>\n",
       "      <th>App</th>\n",
       "      <th>Category</th>\n",
       "      <th>Rating</th>\n",
       "      <th>Reviews</th>\n",
       "      <th>Size_in_bytes</th>\n",
       "      <th>Installs</th>\n",
       "      <th>Type</th>\n",
       "      <th>Price</th>\n",
       "      <th>Content Rating</th>\n",
       "      <th>Genres</th>\n",
       "      <th>Last Updated</th>\n",
       "      <th>Current Ver</th>\n",
       "      <th>Android Ver</th>\n",
       "      <th>Size_in_Mbs</th>\n",
       "      <th>Installs_category</th>\n",
       "    </tr>\n",
       "  </thead>\n",
       "  <tbody>\n",
       "    <tr>\n",
       "      <th>1393</th>\n",
       "      <td>10 Best Foods for You</td>\n",
       "      <td>HEALTH_AND_FITNESS</td>\n",
       "      <td>4.0</td>\n",
       "      <td>2490</td>\n",
       "      <td>3984588.8</td>\n",
       "      <td>500000</td>\n",
       "      <td>Free</td>\n",
       "      <td>0.00</td>\n",
       "      <td>Everyone 10+</td>\n",
       "      <td>Health &amp; Fitness</td>\n",
       "      <td>February 17, 2017</td>\n",
       "      <td>1.9</td>\n",
       "      <td>2.3.3 and up</td>\n",
       "      <td>3.8</td>\n",
       "      <td>High</td>\n",
       "    </tr>\n",
       "    <tr>\n",
       "      <th>1407</th>\n",
       "      <td>10 Best Foods for You</td>\n",
       "      <td>HEALTH_AND_FITNESS</td>\n",
       "      <td>4.0</td>\n",
       "      <td>2490</td>\n",
       "      <td>3984588.8</td>\n",
       "      <td>500000</td>\n",
       "      <td>Free</td>\n",
       "      <td>0.00</td>\n",
       "      <td>Everyone 10+</td>\n",
       "      <td>Health &amp; Fitness</td>\n",
       "      <td>February 17, 2017</td>\n",
       "      <td>1.9</td>\n",
       "      <td>2.3.3 and up</td>\n",
       "      <td>3.8</td>\n",
       "      <td>High</td>\n",
       "    </tr>\n",
       "    <tr>\n",
       "      <th>2543</th>\n",
       "      <td>1800 Contacts - Lens Store</td>\n",
       "      <td>MEDICAL</td>\n",
       "      <td>4.7</td>\n",
       "      <td>23160</td>\n",
       "      <td>27262976.0</td>\n",
       "      <td>1000000</td>\n",
       "      <td>Free</td>\n",
       "      <td>0.00</td>\n",
       "      <td>Everyone</td>\n",
       "      <td>Medical</td>\n",
       "      <td>July 27, 2018</td>\n",
       "      <td>7.4.1</td>\n",
       "      <td>5.0 and up</td>\n",
       "      <td>26.0</td>\n",
       "      <td>High</td>\n",
       "    </tr>\n",
       "    <tr>\n",
       "      <th>2322</th>\n",
       "      <td>1800 Contacts - Lens Store</td>\n",
       "      <td>MEDICAL</td>\n",
       "      <td>4.7</td>\n",
       "      <td>23160</td>\n",
       "      <td>27262976.0</td>\n",
       "      <td>1000000</td>\n",
       "      <td>Free</td>\n",
       "      <td>0.00</td>\n",
       "      <td>Everyone</td>\n",
       "      <td>Medical</td>\n",
       "      <td>July 27, 2018</td>\n",
       "      <td>7.4.1</td>\n",
       "      <td>5.0 and up</td>\n",
       "      <td>26.0</td>\n",
       "      <td>High</td>\n",
       "    </tr>\n",
       "    <tr>\n",
       "      <th>2385</th>\n",
       "      <td>2017 EMRA Antibiotic Guide</td>\n",
       "      <td>MEDICAL</td>\n",
       "      <td>4.4</td>\n",
       "      <td>12</td>\n",
       "      <td>3984588.8</td>\n",
       "      <td>1000</td>\n",
       "      <td>Paid</td>\n",
       "      <td>16.99</td>\n",
       "      <td>Everyone</td>\n",
       "      <td>Medical</td>\n",
       "      <td>January 27, 2017</td>\n",
       "      <td>1.0.5</td>\n",
       "      <td>4.0.3 and up</td>\n",
       "      <td>3.8</td>\n",
       "      <td>Low</td>\n",
       "    </tr>\n",
       "    <tr>\n",
       "      <th>...</th>\n",
       "      <td>...</td>\n",
       "      <td>...</td>\n",
       "      <td>...</td>\n",
       "      <td>...</td>\n",
       "      <td>...</td>\n",
       "      <td>...</td>\n",
       "      <td>...</td>\n",
       "      <td>...</td>\n",
       "      <td>...</td>\n",
       "      <td>...</td>\n",
       "      <td>...</td>\n",
       "      <td>...</td>\n",
       "      <td>...</td>\n",
       "      <td>...</td>\n",
       "      <td>...</td>\n",
       "    </tr>\n",
       "    <tr>\n",
       "      <th>3202</th>\n",
       "      <td>trivago: Hotels &amp; Travel</td>\n",
       "      <td>TRAVEL_AND_LOCAL</td>\n",
       "      <td>4.2</td>\n",
       "      <td>219848</td>\n",
       "      <td>NaN</td>\n",
       "      <td>50000000</td>\n",
       "      <td>Free</td>\n",
       "      <td>0.00</td>\n",
       "      <td>Everyone</td>\n",
       "      <td>Travel &amp; Local</td>\n",
       "      <td>August 2, 2018</td>\n",
       "      <td>Varies with device</td>\n",
       "      <td>Varies with device</td>\n",
       "      <td>NaN</td>\n",
       "      <td>Top Notch</td>\n",
       "    </tr>\n",
       "    <tr>\n",
       "      <th>3118</th>\n",
       "      <td>trivago: Hotels &amp; Travel</td>\n",
       "      <td>TRAVEL_AND_LOCAL</td>\n",
       "      <td>4.2</td>\n",
       "      <td>219848</td>\n",
       "      <td>NaN</td>\n",
       "      <td>50000000</td>\n",
       "      <td>Free</td>\n",
       "      <td>0.00</td>\n",
       "      <td>Everyone</td>\n",
       "      <td>Travel &amp; Local</td>\n",
       "      <td>August 2, 2018</td>\n",
       "      <td>Varies with device</td>\n",
       "      <td>Varies with device</td>\n",
       "      <td>NaN</td>\n",
       "      <td>Top Notch</td>\n",
       "    </tr>\n",
       "    <tr>\n",
       "      <th>3103</th>\n",
       "      <td>trivago: Hotels &amp; Travel</td>\n",
       "      <td>TRAVEL_AND_LOCAL</td>\n",
       "      <td>4.2</td>\n",
       "      <td>219848</td>\n",
       "      <td>NaN</td>\n",
       "      <td>50000000</td>\n",
       "      <td>Free</td>\n",
       "      <td>0.00</td>\n",
       "      <td>Everyone</td>\n",
       "      <td>Travel &amp; Local</td>\n",
       "      <td>August 2, 2018</td>\n",
       "      <td>Varies with device</td>\n",
       "      <td>Varies with device</td>\n",
       "      <td>NaN</td>\n",
       "      <td>Top Notch</td>\n",
       "    </tr>\n",
       "    <tr>\n",
       "      <th>8291</th>\n",
       "      <td>wetter.com - Weather and Radar</td>\n",
       "      <td>WEATHER</td>\n",
       "      <td>4.2</td>\n",
       "      <td>189310</td>\n",
       "      <td>39845888.0</td>\n",
       "      <td>10000000</td>\n",
       "      <td>Free</td>\n",
       "      <td>0.00</td>\n",
       "      <td>Everyone</td>\n",
       "      <td>Weather</td>\n",
       "      <td>August 6, 2018</td>\n",
       "      <td>Varies with device</td>\n",
       "      <td>Varies with device</td>\n",
       "      <td>38.0</td>\n",
       "      <td>Very High</td>\n",
       "    </tr>\n",
       "    <tr>\n",
       "      <th>3652</th>\n",
       "      <td>wetter.com - Weather and Radar</td>\n",
       "      <td>WEATHER</td>\n",
       "      <td>4.2</td>\n",
       "      <td>189313</td>\n",
       "      <td>39845888.0</td>\n",
       "      <td>10000000</td>\n",
       "      <td>Free</td>\n",
       "      <td>0.00</td>\n",
       "      <td>Everyone</td>\n",
       "      <td>Weather</td>\n",
       "      <td>August 6, 2018</td>\n",
       "      <td>Varies with device</td>\n",
       "      <td>Varies with device</td>\n",
       "      <td>38.0</td>\n",
       "      <td>Very High</td>\n",
       "    </tr>\n",
       "  </tbody>\n",
       "</table>\n",
       "<p>1979 rows × 15 columns</p>\n",
       "</div>"
      ],
      "text/plain": [
       "                                 App            Category  Rating  Reviews  \\\n",
       "1393           10 Best Foods for You  HEALTH_AND_FITNESS     4.0     2490   \n",
       "1407           10 Best Foods for You  HEALTH_AND_FITNESS     4.0     2490   \n",
       "2543      1800 Contacts - Lens Store             MEDICAL     4.7    23160   \n",
       "2322      1800 Contacts - Lens Store             MEDICAL     4.7    23160   \n",
       "2385      2017 EMRA Antibiotic Guide             MEDICAL     4.4       12   \n",
       "...                              ...                 ...     ...      ...   \n",
       "3202        trivago: Hotels & Travel    TRAVEL_AND_LOCAL     4.2   219848   \n",
       "3118        trivago: Hotels & Travel    TRAVEL_AND_LOCAL     4.2   219848   \n",
       "3103        trivago: Hotels & Travel    TRAVEL_AND_LOCAL     4.2   219848   \n",
       "8291  wetter.com - Weather and Radar             WEATHER     4.2   189310   \n",
       "3652  wetter.com - Weather and Radar             WEATHER     4.2   189313   \n",
       "\n",
       "      Size_in_bytes  Installs  Type  Price Content Rating            Genres  \\\n",
       "1393      3984588.8    500000  Free   0.00   Everyone 10+  Health & Fitness   \n",
       "1407      3984588.8    500000  Free   0.00   Everyone 10+  Health & Fitness   \n",
       "2543     27262976.0   1000000  Free   0.00       Everyone           Medical   \n",
       "2322     27262976.0   1000000  Free   0.00       Everyone           Medical   \n",
       "2385      3984588.8      1000  Paid  16.99       Everyone           Medical   \n",
       "...             ...       ...   ...    ...            ...               ...   \n",
       "3202            NaN  50000000  Free   0.00       Everyone    Travel & Local   \n",
       "3118            NaN  50000000  Free   0.00       Everyone    Travel & Local   \n",
       "3103            NaN  50000000  Free   0.00       Everyone    Travel & Local   \n",
       "8291     39845888.0  10000000  Free   0.00       Everyone           Weather   \n",
       "3652     39845888.0  10000000  Free   0.00       Everyone           Weather   \n",
       "\n",
       "           Last Updated         Current Ver         Android Ver  Size_in_Mbs  \\\n",
       "1393  February 17, 2017                 1.9        2.3.3 and up          3.8   \n",
       "1407  February 17, 2017                 1.9        2.3.3 and up          3.8   \n",
       "2543      July 27, 2018               7.4.1          5.0 and up         26.0   \n",
       "2322      July 27, 2018               7.4.1          5.0 and up         26.0   \n",
       "2385   January 27, 2017               1.0.5        4.0.3 and up          3.8   \n",
       "...                 ...                 ...                 ...          ...   \n",
       "3202     August 2, 2018  Varies with device  Varies with device          NaN   \n",
       "3118     August 2, 2018  Varies with device  Varies with device          NaN   \n",
       "3103     August 2, 2018  Varies with device  Varies with device          NaN   \n",
       "8291     August 6, 2018  Varies with device  Varies with device         38.0   \n",
       "3652     August 6, 2018  Varies with device  Varies with device         38.0   \n",
       "\n",
       "     Installs_category  \n",
       "1393              High  \n",
       "1407              High  \n",
       "2543              High  \n",
       "2322              High  \n",
       "2385               Low  \n",
       "...                ...  \n",
       "3202         Top Notch  \n",
       "3118         Top Notch  \n",
       "3103         Top Notch  \n",
       "8291         Very High  \n",
       "3652         Very High  \n",
       "\n",
       "[1979 rows x 15 columns]"
      ]
     },
     "execution_count": 163,
     "metadata": {},
     "output_type": "execute_result"
    }
   ],
   "source": [
    "df[df[\"App\"].duplicated(keep=False)].sort_values(\"App\")"
   ]
  },
  {
   "cell_type": "markdown",
   "metadata": {},
   "source": [
    "Now, we know that these all are real duplicated values\n",
    "### So, we remove the duplicate values"
   ]
  },
  {
   "cell_type": "code",
   "execution_count": null,
   "metadata": {},
   "outputs": [],
   "source": [
    "df.drop_duplicates(inplace=True)"
   ]
  },
  {
   "cell_type": "code",
   "execution_count": null,
   "metadata": {},
   "outputs": [
    {
     "name": "stdout",
     "output_type": "stream",
     "text": [
      "Now the total number of row after removing the duplicate values is: 10346\n"
     ]
    }
   ],
   "source": [
    "print(f\"Now the total number of row after removing the duplicate values is: {df.shape[0]}\")"
   ]
  },
  {
   "cell_type": "markdown",
   "metadata": {},
   "source": [
    "We remove the 483 duplicate rows from the dataset. "
   ]
  },
  {
   "cell_type": "markdown",
   "metadata": {},
   "source": [
    "----\n",
    "# **Important Questions about the dataset**"
   ]
  },
  {
   "cell_type": "markdown",
   "metadata": {},
   "source": [
    "### 1. What are the total number of apps according to the Top 10 `categories`?"
   ]
  },
  {
   "cell_type": "code",
   "execution_count": null,
   "metadata": {},
   "outputs": [
    {
     "data": {
      "text/plain": [
       "Category\n",
       "FAMILY             1939\n",
       "GAME               1121\n",
       "TOOLS               841\n",
       "BUSINESS            427\n",
       "MEDICAL             408\n",
       "PRODUCTIVITY        407\n",
       "PERSONALIZATION     386\n",
       "LIFESTYLE           373\n",
       "COMMUNICATION       366\n",
       "FINANCE             360\n",
       "Name: count, dtype: int64"
      ]
     },
     "execution_count": 166,
     "metadata": {},
     "output_type": "execute_result"
    }
   ],
   "source": [
    "df[\"Category\"].value_counts().head(10)"
   ]
  },
  {
   "cell_type": "markdown",
   "metadata": {},
   "source": [
    "### 2. What are the total numbers of categories in our dataset?"
   ]
  },
  {
   "cell_type": "code",
   "execution_count": null,
   "metadata": {},
   "outputs": [
    {
     "data": {
      "text/plain": [
       "33"
      ]
     },
     "execution_count": 167,
     "metadata": {},
     "output_type": "execute_result"
    }
   ],
   "source": [
    "df[\"Category\"].nunique()\n",
    "df[\"Category\"].value_counts().count() # This is another way to get the total count of unique values"
   ]
  },
  {
   "cell_type": "markdown",
   "metadata": {},
   "source": [
    "### 3. Which category has the highest number of installs?"
   ]
  },
  {
   "cell_type": "code",
   "execution_count": null,
   "metadata": {},
   "outputs": [
    {
     "data": {
      "text/plain": [
       "Category\n",
       "GAME             31544024415\n",
       "COMMUNICATION    24152276251\n",
       "SOCIAL           12513867902\n",
       "PRODUCTIVITY     12463091369\n",
       "TOOLS            11452271905\n",
       "Name: Installs, dtype: int64"
      ]
     },
     "execution_count": 168,
     "metadata": {},
     "output_type": "execute_result"
    }
   ],
   "source": [
    "df.groupby(\"Category\")[\"Installs\"].sum().sort_values(ascending=False).head(5)"
   ]
  },
  {
   "cell_type": "markdown",
   "metadata": {},
   "source": [
    "### 4. Which category has the highest number of reviews?"
   ]
  },
  {
   "cell_type": "code",
   "execution_count": null,
   "metadata": {},
   "outputs": [
    {
     "data": {
      "text/plain": [
       "Category\n",
       "EVENTS                 161018\n",
       "BEAUTY                 396240\n",
       "PARENTING              958331\n",
       "LIBRARIES_AND_DEMO    1016973\n",
       "AUTO_AND_VEHICLES     1163666\n",
       "Name: Reviews, dtype: int64"
      ]
     },
     "execution_count": 169,
     "metadata": {},
     "output_type": "execute_result"
    }
   ],
   "source": [
    "df.groupby(\"Category\")[\"Reviews\"].sum().sort_values(ascending =True).head(5)"
   ]
  },
  {
   "cell_type": "markdown",
   "metadata": {},
   "source": [
    "### 5. Which category has the highest rating?"
   ]
  },
  {
   "cell_type": "code",
   "execution_count": null,
   "metadata": {},
   "outputs": [
    {
     "data": {
      "text/plain": [
       "Category\n",
       "FAMILY             7196.4\n",
       "GAME               4598.1\n",
       "TOOLS              2966.6\n",
       "PRODUCTIVITY       1403.4\n",
       "PERSONALIZATION    1334.6\n",
       "Name: Rating, dtype: float64"
      ]
     },
     "execution_count": 170,
     "metadata": {},
     "output_type": "execute_result"
    }
   ],
   "source": [
    "df.groupby(\"Category\")[\"Rating\"].sum().sort_values(ascending=False).head(5)     "
   ]
  },
  {
   "cell_type": "code",
   "execution_count": null,
   "metadata": {},
   "outputs": [
    {
     "data": {
      "text/plain": [
       "Index(['App', 'Category', 'Rating', 'Reviews', 'Size_in_bytes', 'Installs',\n",
       "       'Type', 'Price', 'Content Rating', 'Genres', 'Last Updated',\n",
       "       'Current Ver', 'Android Ver', 'Size_in_Mbs', 'Installs_category'],\n",
       "      dtype='object')"
      ]
     },
     "execution_count": 171,
     "metadata": {},
     "output_type": "execute_result"
    }
   ],
   "source": [
    "df.columns"
   ]
  },
  {
   "cell_type": "markdown",
   "metadata": {},
   "source": [
    "-----\n",
    "# **Creating Questions about our dataset**"
   ]
  },
  {
   "cell_type": "markdown",
   "metadata": {},
   "source": [
    "### 1. Which category has more number of apps?"
   ]
  },
  {
   "cell_type": "code",
   "execution_count": null,
   "metadata": {},
   "outputs": [
    {
     "data": {
      "text/plain": [
       "array(['ART_AND_DESIGN', 'AUTO_AND_VEHICLES', 'BEAUTY',\n",
       "       'BOOKS_AND_REFERENCE', 'BUSINESS', 'COMICS', 'COMMUNICATION',\n",
       "       'DATING', 'EDUCATION', 'ENTERTAINMENT', 'EVENTS', 'FINANCE',\n",
       "       'FOOD_AND_DRINK', 'HEALTH_AND_FITNESS', 'HOUSE_AND_HOME',\n",
       "       'LIBRARIES_AND_DEMO', 'LIFESTYLE', 'GAME', 'FAMILY', 'MEDICAL',\n",
       "       'SOCIAL', 'SHOPPING', 'PHOTOGRAPHY', 'SPORTS', 'TRAVEL_AND_LOCAL',\n",
       "       'TOOLS', 'PERSONALIZATION', 'PRODUCTIVITY', 'PARENTING', 'WEATHER',\n",
       "       'VIDEO_PLAYERS', 'NEWS_AND_MAGAZINES', 'MAPS_AND_NAVIGATION'],\n",
       "      dtype=object)"
      ]
     },
     "execution_count": 172,
     "metadata": {},
     "output_type": "execute_result"
    }
   ],
   "source": [
    "df[\"Category\"].unique()"
   ]
  },
  {
   "cell_type": "markdown",
   "metadata": {},
   "source": [
    "these are the number of apps with their category"
   ]
  },
  {
   "cell_type": "code",
   "execution_count": null,
   "metadata": {},
   "outputs": [
    {
     "data": {
      "text/plain": [
       "Category\n",
       "FAMILY             1939\n",
       "GAME               1121\n",
       "TOOLS               841\n",
       "BUSINESS            427\n",
       "MEDICAL             408\n",
       "PRODUCTIVITY        407\n",
       "PERSONALIZATION     386\n",
       "LIFESTYLE           373\n",
       "COMMUNICATION       366\n",
       "FINANCE             360\n",
       "Name: count, dtype: int64"
      ]
     },
     "execution_count": 173,
     "metadata": {},
     "output_type": "execute_result"
    }
   ],
   "source": [
    "df[\"Category\"].value_counts().head(10)"
   ]
  },
  {
   "cell_type": "markdown",
   "metadata": {},
   "source": [
    "### 2. Which app has more `Rating`?"
   ]
  },
  {
   "cell_type": "code",
   "execution_count": null,
   "metadata": {},
   "outputs": [
    {
     "data": {
      "text/plain": [
       "Category\n",
       "ART_AND_DESIGN         5.0\n",
       "GAME                   5.0\n",
       "SPORTS                 5.0\n",
       "SOCIAL                 5.0\n",
       "SHOPPING               5.0\n",
       "PRODUCTIVITY           5.0\n",
       "PHOTOGRAPHY            5.0\n",
       "PERSONALIZATION        5.0\n",
       "PARENTING              5.0\n",
       "NEWS_AND_MAGAZINES     5.0\n",
       "MEDICAL                5.0\n",
       "LIFESTYLE              5.0\n",
       "LIBRARIES_AND_DEMO     5.0\n",
       "TRAVEL_AND_LOCAL       5.0\n",
       "HEALTH_AND_FITNESS     5.0\n",
       "FOOD_AND_DRINK         5.0\n",
       "FINANCE                5.0\n",
       "FAMILY                 5.0\n",
       "EVENTS                 5.0\n",
       "DATING                 5.0\n",
       "COMMUNICATION          5.0\n",
       "COMICS                 5.0\n",
       "BUSINESS               5.0\n",
       "BOOKS_AND_REFERENCE    5.0\n",
       "TOOLS                  5.0\n",
       "AUTO_AND_VEHICLES      4.9\n",
       "MAPS_AND_NAVIGATION    4.9\n",
       "VIDEO_PLAYERS          4.9\n",
       "EDUCATION              4.9\n",
       "BEAUTY                 4.9\n",
       "HOUSE_AND_HOME         4.8\n",
       "WEATHER                4.8\n",
       "ENTERTAINMENT          4.7\n",
       "Name: Rating, dtype: float64"
      ]
     },
     "execution_count": 174,
     "metadata": {},
     "output_type": "execute_result"
    }
   ],
   "source": [
    "df.groupby(\"Category\")[\"Rating\"].max().sort_values(ascending=False)\n"
   ]
  },
  {
   "cell_type": "markdown",
   "metadata": {},
   "source": [
    "### 3. Which apps having 5 out of 5 rating on the playstore?"
   ]
  },
  {
   "cell_type": "code",
   "execution_count": null,
   "metadata": {},
   "outputs": [
    {
     "data": {
      "text/html": [
       "<div>\n",
       "<style scoped>\n",
       "    .dataframe tbody tr th:only-of-type {\n",
       "        vertical-align: middle;\n",
       "    }\n",
       "\n",
       "    .dataframe tbody tr th {\n",
       "        vertical-align: top;\n",
       "    }\n",
       "\n",
       "    .dataframe thead th {\n",
       "        text-align: right;\n",
       "    }\n",
       "</style>\n",
       "<table border=\"1\" class=\"dataframe\">\n",
       "  <thead>\n",
       "    <tr style=\"text-align: right;\">\n",
       "      <th></th>\n",
       "      <th>App</th>\n",
       "      <th>Category</th>\n",
       "      <th>Rating</th>\n",
       "      <th>Reviews</th>\n",
       "      <th>Size_in_bytes</th>\n",
       "      <th>Installs</th>\n",
       "      <th>Type</th>\n",
       "      <th>Price</th>\n",
       "      <th>Content Rating</th>\n",
       "      <th>Genres</th>\n",
       "      <th>Last Updated</th>\n",
       "      <th>Current Ver</th>\n",
       "      <th>Android Ver</th>\n",
       "      <th>Size_in_Mbs</th>\n",
       "      <th>Installs_category</th>\n",
       "    </tr>\n",
       "  </thead>\n",
       "  <tbody>\n",
       "    <tr>\n",
       "      <th>329</th>\n",
       "      <td>Hojiboy Tojiboyev Life Hacks</td>\n",
       "      <td>COMICS</td>\n",
       "      <td>5.0</td>\n",
       "      <td>15</td>\n",
       "      <td>38797312.0</td>\n",
       "      <td>1000</td>\n",
       "      <td>Free</td>\n",
       "      <td>0.0</td>\n",
       "      <td>Everyone</td>\n",
       "      <td>Comics</td>\n",
       "      <td>June 26, 2018</td>\n",
       "      <td>2.0</td>\n",
       "      <td>4.0.3 and up</td>\n",
       "      <td>37.0</td>\n",
       "      <td>Low</td>\n",
       "    </tr>\n",
       "    <tr>\n",
       "      <th>612</th>\n",
       "      <td>American Girls Mobile Numbers</td>\n",
       "      <td>DATING</td>\n",
       "      <td>5.0</td>\n",
       "      <td>5</td>\n",
       "      <td>4613734.4</td>\n",
       "      <td>1000</td>\n",
       "      <td>Free</td>\n",
       "      <td>0.0</td>\n",
       "      <td>Mature 17+</td>\n",
       "      <td>Dating</td>\n",
       "      <td>July 17, 2018</td>\n",
       "      <td>3.0</td>\n",
       "      <td>4.0.3 and up</td>\n",
       "      <td>4.4</td>\n",
       "      <td>Low</td>\n",
       "    </tr>\n",
       "    <tr>\n",
       "      <th>615</th>\n",
       "      <td>Awake Dating</td>\n",
       "      <td>DATING</td>\n",
       "      <td>5.0</td>\n",
       "      <td>2</td>\n",
       "      <td>73400320.0</td>\n",
       "      <td>100</td>\n",
       "      <td>Free</td>\n",
       "      <td>0.0</td>\n",
       "      <td>Mature 17+</td>\n",
       "      <td>Dating</td>\n",
       "      <td>July 24, 2018</td>\n",
       "      <td>2.2.9</td>\n",
       "      <td>4.4 and up</td>\n",
       "      <td>70.0</td>\n",
       "      <td>Low</td>\n",
       "    </tr>\n",
       "    <tr>\n",
       "      <th>633</th>\n",
       "      <td>Spine- The dating app</td>\n",
       "      <td>DATING</td>\n",
       "      <td>5.0</td>\n",
       "      <td>5</td>\n",
       "      <td>9751756.8</td>\n",
       "      <td>500</td>\n",
       "      <td>Free</td>\n",
       "      <td>0.0</td>\n",
       "      <td>Teen</td>\n",
       "      <td>Dating</td>\n",
       "      <td>July 14, 2018</td>\n",
       "      <td>4.0</td>\n",
       "      <td>4.0.3 and up</td>\n",
       "      <td>9.3</td>\n",
       "      <td>Low</td>\n",
       "    </tr>\n",
       "    <tr>\n",
       "      <th>636</th>\n",
       "      <td>Girls Live Talk - Free Text and Video Chat</td>\n",
       "      <td>DATING</td>\n",
       "      <td>5.0</td>\n",
       "      <td>6</td>\n",
       "      <td>5242880.0</td>\n",
       "      <td>100</td>\n",
       "      <td>Free</td>\n",
       "      <td>0.0</td>\n",
       "      <td>Mature 17+</td>\n",
       "      <td>Dating</td>\n",
       "      <td>August 1, 2018</td>\n",
       "      <td>8.2</td>\n",
       "      <td>4.0.3 and up</td>\n",
       "      <td>5.0</td>\n",
       "      <td>Low</td>\n",
       "    </tr>\n",
       "    <tr>\n",
       "      <th>...</th>\n",
       "      <td>...</td>\n",
       "      <td>...</td>\n",
       "      <td>...</td>\n",
       "      <td>...</td>\n",
       "      <td>...</td>\n",
       "      <td>...</td>\n",
       "      <td>...</td>\n",
       "      <td>...</td>\n",
       "      <td>...</td>\n",
       "      <td>...</td>\n",
       "      <td>...</td>\n",
       "      <td>...</td>\n",
       "      <td>...</td>\n",
       "      <td>...</td>\n",
       "      <td>...</td>\n",
       "    </tr>\n",
       "    <tr>\n",
       "      <th>10721</th>\n",
       "      <td>Mad Dash Fo' Cash</td>\n",
       "      <td>GAME</td>\n",
       "      <td>5.0</td>\n",
       "      <td>14</td>\n",
       "      <td>16777216.0</td>\n",
       "      <td>100</td>\n",
       "      <td>Free</td>\n",
       "      <td>0.0</td>\n",
       "      <td>Everyone</td>\n",
       "      <td>Arcade</td>\n",
       "      <td>June 19, 2017</td>\n",
       "      <td>2.5a</td>\n",
       "      <td>4.1 and up</td>\n",
       "      <td>16.0</td>\n",
       "      <td>Low</td>\n",
       "    </tr>\n",
       "    <tr>\n",
       "      <th>10742</th>\n",
       "      <td>GKPB FP Online Church</td>\n",
       "      <td>LIFESTYLE</td>\n",
       "      <td>5.0</td>\n",
       "      <td>32</td>\n",
       "      <td>8283750.4</td>\n",
       "      <td>1000</td>\n",
       "      <td>Free</td>\n",
       "      <td>0.0</td>\n",
       "      <td>Everyone</td>\n",
       "      <td>Lifestyle</td>\n",
       "      <td>December 31, 2017</td>\n",
       "      <td>0.7.1</td>\n",
       "      <td>4.4 and up</td>\n",
       "      <td>7.9</td>\n",
       "      <td>Low</td>\n",
       "    </tr>\n",
       "    <tr>\n",
       "      <th>10776</th>\n",
       "      <td>Monster Ride Pro</td>\n",
       "      <td>GAME</td>\n",
       "      <td>5.0</td>\n",
       "      <td>1</td>\n",
       "      <td>25165824.0</td>\n",
       "      <td>10</td>\n",
       "      <td>Free</td>\n",
       "      <td>0.0</td>\n",
       "      <td>Everyone</td>\n",
       "      <td>Racing</td>\n",
       "      <td>March 5, 2018</td>\n",
       "      <td>2.0</td>\n",
       "      <td>2.3 and up</td>\n",
       "      <td>24.0</td>\n",
       "      <td>Very Low</td>\n",
       "    </tr>\n",
       "    <tr>\n",
       "      <th>10820</th>\n",
       "      <td>Fr. Daoud Lamei</td>\n",
       "      <td>FAMILY</td>\n",
       "      <td>5.0</td>\n",
       "      <td>22</td>\n",
       "      <td>9017753.6</td>\n",
       "      <td>1000</td>\n",
       "      <td>Free</td>\n",
       "      <td>0.0</td>\n",
       "      <td>Teen</td>\n",
       "      <td>Education</td>\n",
       "      <td>June 27, 2018</td>\n",
       "      <td>3.8.0</td>\n",
       "      <td>4.1 and up</td>\n",
       "      <td>8.6</td>\n",
       "      <td>Low</td>\n",
       "    </tr>\n",
       "    <tr>\n",
       "      <th>10837</th>\n",
       "      <td>Fr. Mike Schmitz Audio Teachings</td>\n",
       "      <td>FAMILY</td>\n",
       "      <td>5.0</td>\n",
       "      <td>4</td>\n",
       "      <td>3774873.6</td>\n",
       "      <td>100</td>\n",
       "      <td>Free</td>\n",
       "      <td>0.0</td>\n",
       "      <td>Everyone</td>\n",
       "      <td>Education</td>\n",
       "      <td>July 6, 2018</td>\n",
       "      <td>1.0</td>\n",
       "      <td>4.1 and up</td>\n",
       "      <td>3.6</td>\n",
       "      <td>Low</td>\n",
       "    </tr>\n",
       "  </tbody>\n",
       "</table>\n",
       "<p>271 rows × 15 columns</p>\n",
       "</div>"
      ],
      "text/plain": [
       "                                              App   Category  Rating  Reviews  \\\n",
       "329                  Hojiboy Tojiboyev Life Hacks     COMICS     5.0       15   \n",
       "612                 American Girls Mobile Numbers     DATING     5.0        5   \n",
       "615                                  Awake Dating     DATING     5.0        2   \n",
       "633                         Spine- The dating app     DATING     5.0        5   \n",
       "636    Girls Live Talk - Free Text and Video Chat     DATING     5.0        6   \n",
       "...                                           ...        ...     ...      ...   \n",
       "10721                           Mad Dash Fo' Cash       GAME     5.0       14   \n",
       "10742                       GKPB FP Online Church  LIFESTYLE     5.0       32   \n",
       "10776                            Monster Ride Pro       GAME     5.0        1   \n",
       "10820                             Fr. Daoud Lamei     FAMILY     5.0       22   \n",
       "10837            Fr. Mike Schmitz Audio Teachings     FAMILY     5.0        4   \n",
       "\n",
       "       Size_in_bytes  Installs  Type  Price Content Rating     Genres  \\\n",
       "329       38797312.0      1000  Free    0.0       Everyone     Comics   \n",
       "612        4613734.4      1000  Free    0.0     Mature 17+     Dating   \n",
       "615       73400320.0       100  Free    0.0     Mature 17+     Dating   \n",
       "633        9751756.8       500  Free    0.0           Teen     Dating   \n",
       "636        5242880.0       100  Free    0.0     Mature 17+     Dating   \n",
       "...              ...       ...   ...    ...            ...        ...   \n",
       "10721     16777216.0       100  Free    0.0       Everyone     Arcade   \n",
       "10742      8283750.4      1000  Free    0.0       Everyone  Lifestyle   \n",
       "10776     25165824.0        10  Free    0.0       Everyone     Racing   \n",
       "10820      9017753.6      1000  Free    0.0           Teen  Education   \n",
       "10837      3774873.6       100  Free    0.0       Everyone  Education   \n",
       "\n",
       "            Last Updated Current Ver   Android Ver  Size_in_Mbs  \\\n",
       "329        June 26, 2018         2.0  4.0.3 and up         37.0   \n",
       "612        July 17, 2018         3.0  4.0.3 and up          4.4   \n",
       "615        July 24, 2018       2.2.9    4.4 and up         70.0   \n",
       "633        July 14, 2018         4.0  4.0.3 and up          9.3   \n",
       "636       August 1, 2018         8.2  4.0.3 and up          5.0   \n",
       "...                  ...         ...           ...          ...   \n",
       "10721      June 19, 2017        2.5a    4.1 and up         16.0   \n",
       "10742  December 31, 2017       0.7.1    4.4 and up          7.9   \n",
       "10776      March 5, 2018         2.0    2.3 and up         24.0   \n",
       "10820      June 27, 2018       3.8.0    4.1 and up          8.6   \n",
       "10837       July 6, 2018         1.0    4.1 and up          3.6   \n",
       "\n",
       "      Installs_category  \n",
       "329                 Low  \n",
       "612                 Low  \n",
       "615                 Low  \n",
       "633                 Low  \n",
       "636                 Low  \n",
       "...                 ...  \n",
       "10721               Low  \n",
       "10742               Low  \n",
       "10776          Very Low  \n",
       "10820               Low  \n",
       "10837               Low  \n",
       "\n",
       "[271 rows x 15 columns]"
      ]
     },
     "execution_count": 175,
     "metadata": {},
     "output_type": "execute_result"
    }
   ],
   "source": [
    "df[df[\"Rating\"]== 5.0]"
   ]
  },
  {
   "cell_type": "markdown",
   "metadata": {},
   "source": [
    "`271` apps having `Rating` on 5 out of 5"
   ]
  },
  {
   "cell_type": "markdown",
   "metadata": {},
   "source": [
    "### 4. Which `Category` have more app `Size_in_Mbs`"
   ]
  },
  {
   "cell_type": "code",
   "execution_count": null,
   "metadata": {},
   "outputs": [
    {
     "data": {
      "text/plain": [
       "100.0"
      ]
     },
     "execution_count": 176,
     "metadata": {},
     "output_type": "execute_result"
    }
   ],
   "source": [
    "df[\"Size_in_Mbs\"].max()"
   ]
  },
  {
   "cell_type": "code",
   "execution_count": null,
   "metadata": {},
   "outputs": [
    {
     "data": {
      "text/plain": [
       "Category\n",
       "HEALTH_AND_FITNESS     100.0\n",
       "FAMILY                 100.0\n",
       "SPORTS                 100.0\n",
       "MEDICAL                100.0\n",
       "LIFESTYLE              100.0\n",
       "GAME                   100.0\n",
       "FINANCE                100.0\n",
       "LIBRARIES_AND_DEMO      99.0\n",
       "TOOLS                   99.0\n",
       "PARENTING               98.0\n",
       "SHOPPING                98.0\n",
       "BUSINESS                98.0\n",
       "EDUCATION               97.0\n",
       "AUTO_AND_VEHICLES       97.0\n",
       "SOCIAL                  96.0\n",
       "PHOTOGRAPHY             96.0\n",
       "VIDEO_PLAYERS           91.0\n",
       "PERSONALIZATION         91.0\n",
       "TRAVEL_AND_LOCAL        90.0\n",
       "BOOKS_AND_REFERENCE     87.0\n",
       "ENTERTAINMENT           78.0\n",
       "MAPS_AND_NAVIGATION     78.0\n",
       "DATING                  77.0\n",
       "HOUSE_AND_HOME          77.0\n",
       "PRODUCTIVITY            76.0\n",
       "FOOD_AND_DRINK          76.0\n",
       "COMMUNICATION           66.0\n",
       "NEWS_AND_MAGAZINES      62.0\n",
       "EVENTS                  61.0\n",
       "BEAUTY                  57.0\n",
       "WEATHER                 54.0\n",
       "COMICS                  40.0\n",
       "ART_AND_DESIGN          39.0\n",
       "Name: Size_in_Mbs, dtype: float64"
      ]
     },
     "execution_count": 177,
     "metadata": {},
     "output_type": "execute_result"
    }
   ],
   "source": [
    "df.groupby(\"Category\")[\"Size_in_Mbs\"].max().sort_values(ascending=False)"
   ]
  },
  {
   "cell_type": "markdown",
   "metadata": {},
   "source": [
    "### 5. Which app `Size` has more download or `Installs`?"
   ]
  },
  {
   "cell_type": "code",
   "execution_count": null,
   "metadata": {},
   "outputs": [
    {
     "data": {
      "text/plain": [
       "array([1.90000000e+01, 1.40000000e+01, 8.70000000e+00, 2.50000000e+01,\n",
       "       2.80000000e+00, 5.60000000e+00, 2.90000000e+01, 3.30000000e+01,\n",
       "       3.10000000e+00, 2.80000000e+01, 1.20000000e+01, 2.00000000e+01,\n",
       "       2.10000000e+01, 3.70000000e+01, 5.50000000e+00, 1.70000000e+01,\n",
       "       3.90000000e+01, 3.10000000e+01, 4.20000000e+00, 7.00000000e+00,\n",
       "       2.30000000e+01, 6.00000000e+00, 6.10000000e+00, 4.60000000e+00,\n",
       "       9.20000000e+00, 5.20000000e+00, 1.10000000e+01, 2.40000000e+01,\n",
       "                  nan, 9.40000000e+00, 1.50000000e+01, 1.00000000e+01,\n",
       "       1.20000000e+00, 2.60000000e+01, 8.00000000e+00, 7.90000000e+00,\n",
       "       5.60000000e+01, 5.70000000e+01, 3.50000000e+01, 5.40000000e+01,\n",
       "       1.96289062e-01, 3.60000000e+00, 5.70000000e+00, 8.60000000e+00,\n",
       "       2.40000000e+00, 2.70000000e+01, 2.70000000e+00, 2.50000000e+00,\n",
       "       1.60000000e+01, 3.40000000e+00, 8.90000000e+00, 3.90000000e+00,\n",
       "       2.90000000e+00, 3.80000000e+01, 3.20000000e+01, 5.40000000e+00,\n",
       "       1.80000000e+01, 1.10000000e+00, 2.20000000e+00, 4.50000000e+00,\n",
       "       9.80000000e+00, 5.20000000e+01, 9.00000000e+00, 6.70000000e+00,\n",
       "       3.00000000e+01, 2.60000000e+00, 7.10000000e+00, 3.70000000e+00,\n",
       "       2.20000000e+01, 7.40000000e+00, 6.40000000e+00, 3.20000000e+00,\n",
       "       8.20000000e+00, 9.90000000e+00, 4.90000000e+00, 9.50000000e+00,\n",
       "       5.00000000e+00, 5.90000000e+00, 1.30000000e+01, 7.30000000e+01,\n",
       "       6.80000000e+00, 3.50000000e+00, 4.00000000e+00, 2.30000000e+00,\n",
       "       7.20000000e+00, 2.10000000e+00, 4.20000000e+01, 7.30000000e+00,\n",
       "       9.10000000e+00, 5.50000000e+01, 2.24609375e-02, 6.50000000e+00,\n",
       "       1.50000000e+00, 7.50000000e+00, 5.10000000e+01, 4.10000000e+01,\n",
       "       4.80000000e+01, 8.50000000e+00, 4.60000000e+01, 8.30000000e+00,\n",
       "       4.30000000e+00, 4.70000000e+00, 3.30000000e+00, 4.00000000e+01,\n",
       "       7.80000000e+00, 8.80000000e+00, 6.60000000e+00, 5.10000000e+00,\n",
       "       6.10000000e+01, 6.60000000e+01, 7.71484375e-02, 8.40000000e+00,\n",
       "       1.15234375e-01, 4.40000000e+01, 6.78710938e-01, 1.60000000e+00,\n",
       "       6.20000000e+00, 1.75781250e-02, 5.30000000e+01, 1.40000000e+00,\n",
       "       3.00000000e+00, 5.80000000e+00, 3.80000000e+00, 9.60000000e+00,\n",
       "       4.50000000e+01, 6.30000000e+01, 4.90000000e+01, 7.70000000e+01,\n",
       "       4.40000000e+00, 4.80000000e+00, 7.00000000e+01, 6.90000000e+00,\n",
       "       9.30000000e+00, 8.10000000e+00, 3.60000000e+01, 8.40000000e+01,\n",
       "       9.70000000e+01, 2.00000000e+00, 1.90000000e+00, 1.80000000e+00,\n",
       "       5.30000000e+00, 4.70000000e+01, 5.42968750e-01, 5.13671875e-01,\n",
       "       7.60000000e+01, 7.60000000e+00, 5.90000000e+01, 9.70000000e+00,\n",
       "       7.80000000e+01, 7.20000000e+01, 4.30000000e+01, 7.70000000e+00,\n",
       "       6.30000000e+00, 3.26171875e-01, 3.40000000e+01, 9.30000000e+01,\n",
       "       6.50000000e+01, 7.90000000e+01, 1.00000000e+02, 5.80000000e+01,\n",
       "       5.00000000e+01, 6.80000000e+01, 6.40000000e+01, 6.70000000e+01,\n",
       "       6.00000000e+01, 9.40000000e+01, 2.26562500e-01, 9.90000000e+01,\n",
       "       6.09375000e-01, 9.50000000e+01, 8.30078125e-03, 4.00390625e-02,\n",
       "       2.85156250e-01, 8.00000000e+01, 1.70000000e+00, 7.40000000e+01,\n",
       "       6.20000000e+01, 6.90000000e+01, 7.50000000e+01, 9.80000000e+01,\n",
       "       8.50000000e+01, 8.20000000e+01, 9.60000000e+01, 8.70000000e+01,\n",
       "       7.10000000e+01, 8.60000000e+01, 9.10000000e+01, 8.10000000e+01,\n",
       "       9.20000000e+01, 8.30000000e+01, 8.80000000e+01, 6.87500000e-01,\n",
       "       8.41796875e-01, 8.77929688e-01, 3.69140625e-01, 2.59765625e-01,\n",
       "       3.66210938e-01, 1.30000000e+00, 9.52148438e-01, 9.57031250e-01,\n",
       "       4.10000000e+00, 8.90000000e+01, 6.79687500e-01, 5.31250000e-01,\n",
       "       5.12695312e-01, 8.98437500e-01, 7.60742188e-01, 8.33007812e-01,\n",
       "       7.03125000e-01, 6.96289062e-01, 7.53906250e-01, 3.10546875e-01,\n",
       "       5.66406250e-02, 2.35351562e-01, 1.91406250e-01, 8.36914062e-01,\n",
       "       4.98046875e-02, 9.30664062e-01, 8.44726562e-01, 2.45117188e-01,\n",
       "       9.08203125e-01, 5.27343750e-01, 3.05664062e-01, 7.28515625e-01,\n",
       "       1.98242188e-01, 2.53906250e-02, 3.06640625e-01, 2.33398438e-01,\n",
       "       3.62304688e-01, 2.14843750e-01, 7.12890625e-01, 7.38281250e-01,\n",
       "       8.88671875e-02, 2.86132812e-01, 1.66015625e-02, 7.22656250e-02,\n",
       "       1.36718750e-02, 3.09570312e-01, 7.61718750e-02, 9.02343750e-01,\n",
       "       8.80859375e-01, 7.98828125e-01, 7.91015625e-02, 9.16992188e-01,\n",
       "       1.65039062e-01, 4.39453125e-02, 4.63867188e-01, 9.42382812e-01,\n",
       "       9.00000000e+01, 5.32226562e-01, 5.95703125e-02, 2.76367188e-01,\n",
       "       6.39648438e-01, 6.97265625e-01, 9.08203125e-02, 8.51562500e-01,\n",
       "       1.18164062e-01, 3.14453125e-01, 1.00000000e+00, 9.53125000e-01,\n",
       "       1.67968750e-01, 2.32421875e-01, 5.36132812e-01, 2.01171875e-01,\n",
       "       9.31640625e-01, 4.33593750e-01, 7.00195312e-01, 2.05078125e-01,\n",
       "       5.94726562e-01, 3.00781250e-01, 6.88476562e-01, 2.98828125e-01,\n",
       "       8.82812500e-01, 4.61914062e-01, 1.70898438e-01, 3.41796875e-01,\n",
       "       3.74023438e-01, 4.43359375e-01, 4.11132812e-01, 6.83593750e-02,\n",
       "       7.92968750e-01, 4.31640625e-01, 8.22265625e-01, 4.07226562e-01,\n",
       "       4.02343750e-01, 4.48242188e-01, 4.66796875e-01, 3.27148438e-01,\n",
       "       7.63671875e-01, 7.04101562e-01, 4.19921875e-01, 4.18945312e-01,\n",
       "       1.87500000e-01, 1.95312500e-01, 4.49218750e-01, 7.10937500e-01,\n",
       "       4.84375000e-01, 7.96875000e-01, 4.04296875e-01, 4.94140625e-01,\n",
       "       8.66210938e-01, 5.98632812e-01, 2.37304688e-01, 5.55664062e-01,\n",
       "       7.59765625e-01, 6.66992188e-01, 5.78125000e-01, 3.11523438e-01,\n",
       "       1.81640625e-01, 8.20312500e-01, 6.31835938e-01, 1.86523438e-01,\n",
       "       3.64257812e-01, 4.26757812e-01, 5.83984375e-01, 6.99218750e-01,\n",
       "       5.71289062e-01, 9.58984375e-01, 2.13867188e-01, 5.37109375e-02,\n",
       "       9.25781250e-01, 3.15429688e-01, 6.74804688e-01, 4.99023438e-01,\n",
       "       9.28710938e-01, 9.40429688e-01, 2.44140625e-02, 5.41015625e-01,\n",
       "       3.42773438e-01, 2.63671875e-02, 8.00781250e-02, 2.03125000e-01,\n",
       "       8.91601562e-01, 5.01953125e-01, 5.38085938e-01, 2.83203125e-02,\n",
       "       1.00585938e-01, 8.76953125e-01, 7.25585938e-01, 1.13281250e-01,\n",
       "       1.49414062e-01, 2.04101562e-01, 3.44726562e-01, 4.87304688e-01,\n",
       "       1.68945312e-01, 5.83007812e-01, 7.90039062e-01, 1.19140625e-01,\n",
       "       4.01367188e-01, 3.90625000e-01, 7.82226562e-01, 7.68554688e-01,\n",
       "       4.88281250e-02, 6.27929688e-01, 9.62890625e-01, 9.47265625e-02,\n",
       "       5.03906250e-01, 8.17382812e-01, 7.61718750e-01, 9.38476562e-01,\n",
       "       2.62695312e-01, 1.95312500e-02, 4.86328125e-01, 5.85937500e-01,\n",
       "       7.31445312e-01, 6.26953125e-01, 8.60351562e-01, 7.03125000e-02,\n",
       "       6.40625000e-01, 5.86914062e-01, 2.15820312e-01, 2.22656250e-01,\n",
       "       1.05468750e-01, 9.17968750e-01, 1.71875000e-01, 3.22265625e-02,\n",
       "       6.47460938e-01, 3.32031250e-02, 9.19921875e-01, 2.52929688e-01,\n",
       "       1.60156250e-01, 4.47265625e-01, 2.39257812e-01, 6.14257812e-01,\n",
       "       2.73437500e-02, 2.81250000e-01, 7.56835938e-01, 7.66601562e-01,\n",
       "       6.21093750e-01, 8.94531250e-01, 9.70703125e-01, 3.01757812e-01,\n",
       "       4.73632812e-01, 8.92578125e-01, 8.81835938e-01, 5.93750000e-01,\n",
       "       4.88281250e-01, 5.27343750e-02, 5.48828125e-01, 8.27148438e-01,\n",
       "       9.34570312e-01, 6.71875000e-01, 7.91992188e-01, 2.63671875e-01,\n",
       "       4.68750000e-02, 3.21289062e-01, 5.10742188e-01, 8.99414062e-01,\n",
       "       8.53515625e-01, 9.58007812e-01, 7.65625000e-01, 2.73437500e-01,\n",
       "       2.34375000e-02, 5.05859375e-01, 7.36328125e-01, 8.71093750e-01,\n",
       "       1.50390625e-01, 8.39843750e-01, 3.55468750e-01, 3.77929688e-01,\n",
       "       6.11328125e-01, 1.57226562e-01, 8.58398438e-01, 3.80859375e-02,\n",
       "       9.47265625e-01, 1.66015625e-01, 1.37695312e-01, 1.56250000e-01,\n",
       "       1.40625000e-01, 1.39648438e-01, 1.85546875e-01, 3.67187500e-01,\n",
       "       1.88476562e-01, 2.40234375e-01, 7.12890625e-02, 9.68750000e-01,\n",
       "       2.47070312e-01, 4.10156250e-01, 3.94531250e-01, 4.58984375e-01,\n",
       "       2.20703125e-01, 2.34375000e-01, 8.69140625e-02, 2.28515625e-01,\n",
       "       2.50976562e-01, 8.40820312e-01, 4.56054688e-01, 1.53320312e-01,\n",
       "       4.29687500e-02, 6.60156250e-01, 6.54296875e-02, 5.39062500e-01,\n",
       "       8.64257812e-01, 9.96093750e-01, 5.68359375e-01, 6.04492188e-01])"
      ]
     },
     "execution_count": 178,
     "metadata": {},
     "output_type": "execute_result"
    }
   ],
   "source": [
    "df[\"Size_in_Mbs\"].unique()"
   ]
  },
  {
   "cell_type": "markdown",
   "metadata": {},
   "source": [
    "### 6. Which `Category` has more `Size_in_Mbs`?"
   ]
  },
  {
   "cell_type": "code",
   "execution_count": null,
   "metadata": {},
   "outputs": [
    {
     "name": "stderr",
     "output_type": "stream",
     "text": [
      "C:\\Users\\dv04i\\AppData\\Local\\Temp\\ipykernel_6220\\3586714295.py:1: FutureWarning: The default of observed=False is deprecated and will be changed to True in a future version of pandas. Pass observed=False to retain current behavior or observed=True to adopt the future default and silence this warning.\n",
      "  df.groupby(\"Installs_category\")[\"Size_in_Mbs\"].sum().sort_values(ascending=False)\n"
     ]
    },
    {
     "data": {
      "text/plain": [
       "Installs_category\n",
       "High                  43596.559180\n",
       "Very High             40380.632031\n",
       "Low                   28873.358203\n",
       "More than Moderate    28643.456543\n",
       "Moderate              21691.926563\n",
       "Top Notch             17379.200000\n",
       "Very Low               7194.811328\n",
       "no                      182.400000\n",
       "Name: Size_in_Mbs, dtype: float64"
      ]
     },
     "execution_count": 179,
     "metadata": {},
     "output_type": "execute_result"
    }
   ],
   "source": [
    "df.groupby(\"Installs_category\")[\"Size_in_Mbs\"].sum().sort_values(ascending=False)"
   ]
  },
  {
   "cell_type": "code",
   "execution_count": null,
   "metadata": {},
   "outputs": [
    {
     "data": {
      "text/plain": [
       "Index(['App', 'Category', 'Rating', 'Reviews', 'Size_in_bytes', 'Installs',\n",
       "       'Type', 'Price', 'Content Rating', 'Genres', 'Last Updated',\n",
       "       'Current Ver', 'Android Ver', 'Size_in_Mbs', 'Installs_category'],\n",
       "      dtype='object')"
      ]
     },
     "execution_count": 180,
     "metadata": {},
     "output_type": "execute_result"
    }
   ],
   "source": [
    "df.columns"
   ]
  },
  {
   "cell_type": "markdown",
   "metadata": {},
   "source": [
    "### 7. Which `Type` has more  number of installs?"
   ]
  },
  {
   "cell_type": "code",
   "execution_count": null,
   "metadata": {},
   "outputs": [
    {
     "data": {
      "text/plain": [
       "array(['Free', 'Paid'], dtype=object)"
      ]
     },
     "execution_count": 181,
     "metadata": {},
     "output_type": "execute_result"
    }
   ],
   "source": [
    "df[\"Type\"].unique()"
   ]
  },
  {
   "cell_type": "code",
   "execution_count": null,
   "metadata": {},
   "outputs": [
    {
     "data": {
      "text/plain": [
       "Type\n",
       "Free    146561162546\n",
       "Paid        69174871\n",
       "Name: Installs, dtype: int64"
      ]
     },
     "execution_count": 182,
     "metadata": {},
     "output_type": "execute_result"
    }
   ],
   "source": [
    "df.groupby(\"Type\")[\"Installs\"].sum()"
   ]
  },
  {
   "cell_type": "markdown",
   "metadata": {},
   "source": [
    "### 8. Which `Contant Rating` have more number of installs ?"
   ]
  },
  {
   "cell_type": "code",
   "execution_count": null,
   "metadata": {},
   "outputs": [
    {
     "data": {
      "text/plain": [
       "array(['Everyone', 'Teen', 'Everyone 10+', 'Mature 17+',\n",
       "       'Adults only 18+', 'Unrated'], dtype=object)"
      ]
     },
     "execution_count": 183,
     "metadata": {},
     "output_type": "execute_result"
    }
   ],
   "source": [
    "df[\"Content Rating\"].unique()"
   ]
  },
  {
   "cell_type": "code",
   "execution_count": null,
   "metadata": {},
   "outputs": [
    {
     "data": {
      "text/plain": [
       "Content Rating\n",
       "Everyone           100228037851\n",
       "Teen                30918280393\n",
       "Everyone 10+        11191271795\n",
       "Mature 17+           4290696878\n",
       "Adults only 18+         2000000\n",
       "Unrated                   50500\n",
       "Name: Installs, dtype: int64"
      ]
     },
     "execution_count": 184,
     "metadata": {},
     "output_type": "execute_result"
    }
   ],
   "source": [
    "df.groupby(\"Content Rating\")[\"Installs\"].sum().sort_values(ascending=False)"
   ]
  },
  {
   "cell_type": "markdown",
   "metadata": {},
   "source": [
    "### 9. What is Minimum `Current ver` of the `Top Notch` apps?"
   ]
  },
  {
   "cell_type": "code",
   "execution_count": null,
   "metadata": {},
   "outputs": [
    {
     "name": "stderr",
     "output_type": "stream",
     "text": [
      "C:\\Users\\dv04i\\AppData\\Local\\Temp\\ipykernel_6220\\903129919.py:1: FutureWarning: The default of observed=False is deprecated and will be changed to True in a future version of pandas. Pass observed=False to retain current behavior or observed=True to adopt the future default and silence this warning.\n",
      "  df.groupby(\"Installs_category\")[\"Current Ver\"].min().sort_values(ascending=False)\n"
     ]
    },
    {
     "data": {
      "text/plain": [
       "Installs_category\n",
       "Top Notch                   0.111.3\n",
       "Very High             0.1.100944346\n",
       "High                         0.0.73\n",
       "More than Moderate            0.0.2\n",
       "no                            0.0.1\n",
       "Very Low                      0.0.1\n",
       "Low                           0.0.1\n",
       "Moderate                    0.0.0.2\n",
       "Name: Current Ver, dtype: object"
      ]
     },
     "execution_count": 185,
     "metadata": {},
     "output_type": "execute_result"
    }
   ],
   "source": [
    "df.groupby(\"Installs_category\")[\"Current Ver\"].min().sort_values(ascending=False)"
   ]
  },
  {
   "cell_type": "markdown",
   "metadata": {},
   "source": [
    "### 10. What is Maximum `Current ver` of the `Top Notch` apps?"
   ]
  },
  {
   "cell_type": "code",
   "execution_count": null,
   "metadata": {},
   "outputs": [
    {
     "name": "stderr",
     "output_type": "stream",
     "text": [
      "C:\\Users\\dv04i\\AppData\\Local\\Temp\\ipykernel_6220\\2480274690.py:1: FutureWarning: The default of observed=False is deprecated and will be changed to True in a future version of pandas. Pass observed=False to retain current behavior or observed=True to adopt the future default and silence this warning.\n",
      "  df.groupby(\"Installs_category\")[\"Current Ver\"].max().sort_values(ascending=False)\n"
     ]
    },
    {
     "data": {
      "text/plain": [
       "Installs_category\n",
       "Low                            version 0.994\n",
       "Moderate                          v8[1.0.10]\n",
       "Very High                    v8.0.1.8.0629.1\n",
       "More than Moderate    v67_slk3.0_20180115_01\n",
       "High                                  v5.4.3\n",
       "Very Low                                  v3\n",
       "Top Notch                 Varies with device\n",
       "no                                     MONEY\n",
       "Name: Current Ver, dtype: object"
      ]
     },
     "execution_count": 186,
     "metadata": {},
     "output_type": "execute_result"
    }
   ],
   "source": [
    "df.groupby(\"Installs_category\")[\"Current Ver\"].max().sort_values(ascending=False)"
   ]
  },
  {
   "cell_type": "code",
   "execution_count": null,
   "metadata": {},
   "outputs": [
    {
     "name": "stdout",
     "output_type": "stream",
     "text": [
      "<class 'pandas.core.frame.DataFrame'>\n",
      "Index: 10346 entries, 0 to 10840\n",
      "Data columns (total 15 columns):\n",
      " #   Column             Non-Null Count  Dtype   \n",
      "---  ------             --------------  -----   \n",
      " 0   App                10346 non-null  object  \n",
      " 1   Category           10346 non-null  object  \n",
      " 2   Rating             8886 non-null   float64 \n",
      " 3   Reviews            10346 non-null  int64   \n",
      " 4   Size_in_bytes      8821 non-null   float64 \n",
      " 5   Installs           10346 non-null  int64   \n",
      " 6   Type               10346 non-null  object  \n",
      " 7   Price              10346 non-null  float64 \n",
      " 8   Content Rating     10346 non-null  object  \n",
      " 9   Genres             10346 non-null  object  \n",
      " 10  Last Updated       10346 non-null  object  \n",
      " 11  Current Ver        10346 non-null  object  \n",
      " 12  Android Ver        10346 non-null  object  \n",
      " 13  Size_in_Mbs        8821 non-null   float64 \n",
      " 14  Installs_category  10346 non-null  category\n",
      "dtypes: category(1), float64(4), int64(2), object(8)\n",
      "memory usage: 1.2+ MB\n"
     ]
    }
   ],
   "source": [
    "df.info()"
   ]
  },
  {
   "cell_type": "code",
   "execution_count": null,
   "metadata": {},
   "outputs": [
    {
     "data": {
      "text/plain": [
       "Size_in_bytes        1525\n",
       "Size_in_Mbs          1525\n",
       "Rating               1460\n",
       "App                     0\n",
       "Category                0\n",
       "Reviews                 0\n",
       "Installs                0\n",
       "Type                    0\n",
       "Price                   0\n",
       "Content Rating          0\n",
       "Genres                  0\n",
       "Last Updated            0\n",
       "Current Ver             0\n",
       "Android Ver             0\n",
       "Installs_category       0\n",
       "dtype: int64"
      ]
     },
     "execution_count": 188,
     "metadata": {},
     "output_type": "execute_result"
    }
   ],
   "source": [
    "df.isnull().sum().sort_values(ascending=False)"
   ]
  },
  {
   "cell_type": "code",
   "execution_count": null,
   "metadata": {},
   "outputs": [],
   "source": [
    "# save the cleaned dataset in local machine \n",
    "df.to_csv(\"Datasets/google_playstore_cleaned.csv\")"
   ]
  },
  {
   "cell_type": "code",
   "execution_count": 216,
   "metadata": {},
   "outputs": [
    {
     "name": "stderr",
     "output_type": "stream",
     "text": [
      "c:\\Users\\dv04i\\miniconda3\\envs\\ydata_profiling\\lib\\site-packages\\tqdm\\auto.py:21: TqdmWarning: IProgress not found. Please update jupyter and ipywidgets. See https://ipywidgets.readthedocs.io/en/stable/user_install.html\n",
      "  from .autonotebook import tqdm as notebook_tqdm\n",
      "C:\\Users\\dv04i\\AppData\\Local\\Temp\\ipykernel_6220\\2975633985.py:1: DeprecationWarning: `import pandas_profiling` is going to be deprecated by April 1st. Please use `import ydata_profiling` instead.\n",
      "  import pandas_profiling as ydata\n",
      "Summarize dataset: 100%|██████████| 28/28 [00:02<00:00,  9.91it/s, Completed]                      \n",
      "Generate report structure: 100%|██████████| 1/1 [00:08<00:00,  8.78s/it]\n",
      "Render HTML: 100%|██████████| 1/1 [00:01<00:00,  1.04s/it]\n",
      "Export report to file:   0%|          | 0/1 [00:00<?, ?it/s]\n"
     ]
    },
    {
     "ename": "FileNotFoundError",
     "evalue": "[Errno 2] No such file or directory: 'output\\\\google_playstore_cleaned.html'",
     "output_type": "error",
     "traceback": [
      "\u001b[1;31m---------------------------------------------------------------------------\u001b[0m",
      "\u001b[1;31mFileNotFoundError\u001b[0m                         Traceback (most recent call last)",
      "Cell \u001b[1;32mIn[216], line 3\u001b[0m\n\u001b[0;32m      1\u001b[0m \u001b[38;5;28;01mimport\u001b[39;00m \u001b[38;5;21;01mpandas_profiling\u001b[39;00m \u001b[38;5;28;01mas\u001b[39;00m \u001b[38;5;21;01mydata\u001b[39;00m\n\u001b[0;32m      2\u001b[0m profile \u001b[38;5;241m=\u001b[39m ydata\u001b[38;5;241m.\u001b[39mProfileReport(df)\n\u001b[1;32m----> 3\u001b[0m \u001b[43mprofile\u001b[49m\u001b[38;5;241;43m.\u001b[39;49m\u001b[43mto_file\u001b[49m\u001b[43m(\u001b[49m\u001b[38;5;124;43m\"\u001b[39;49m\u001b[38;5;124;43moutput/google_playstore_cleaned.html\u001b[39;49m\u001b[38;5;124;43m\"\u001b[39;49m\u001b[43m)\u001b[49m\n",
      "File \u001b[1;32mc:\\Users\\dv04i\\miniconda3\\envs\\ydata_profiling\\lib\\site-packages\\ydata_profiling\\profile_report.py:388\u001b[0m, in \u001b[0;36mProfileReport.to_file\u001b[1;34m(self, output_file, silent)\u001b[0m\n\u001b[0;32m    384\u001b[0m disable_progress_bar \u001b[38;5;241m=\u001b[39m \u001b[38;5;129;01mnot\u001b[39;00m \u001b[38;5;28mself\u001b[39m\u001b[38;5;241m.\u001b[39mconfig\u001b[38;5;241m.\u001b[39mprogress_bar\n\u001b[0;32m    385\u001b[0m \u001b[38;5;28;01mwith\u001b[39;00m tqdm(\n\u001b[0;32m    386\u001b[0m     total\u001b[38;5;241m=\u001b[39m\u001b[38;5;241m1\u001b[39m, desc\u001b[38;5;241m=\u001b[39m\u001b[38;5;124m\"\u001b[39m\u001b[38;5;124mExport report to file\u001b[39m\u001b[38;5;124m\"\u001b[39m, disable\u001b[38;5;241m=\u001b[39mdisable_progress_bar\n\u001b[0;32m    387\u001b[0m ) \u001b[38;5;28;01mas\u001b[39;00m pbar:\n\u001b[1;32m--> 388\u001b[0m     output_file\u001b[38;5;241m.\u001b[39mwrite_text(data, encoding\u001b[38;5;241m=\u001b[39m\u001b[38;5;124m\"\u001b[39m\u001b[38;5;124mutf-8\u001b[39m\u001b[38;5;124m\"\u001b[39m)\n\u001b[0;32m    389\u001b[0m     pbar\u001b[38;5;241m.\u001b[39mupdate()\n\u001b[0;32m    391\u001b[0m \u001b[38;5;28;01mif\u001b[39;00m \u001b[38;5;129;01mnot\u001b[39;00m silent:\n",
      "File \u001b[1;32mc:\\Users\\dv04i\\miniconda3\\envs\\ydata_profiling\\lib\\pathlib.py:1152\u001b[0m, in \u001b[0;36mPath.write_text\u001b[1;34m(self, data, encoding, errors, newline)\u001b[0m\n\u001b[0;32m   1149\u001b[0m     \u001b[38;5;28;01mraise\u001b[39;00m \u001b[38;5;167;01mTypeError\u001b[39;00m(\u001b[38;5;124m'\u001b[39m\u001b[38;5;124mdata must be str, not \u001b[39m\u001b[38;5;132;01m%s\u001b[39;00m\u001b[38;5;124m'\u001b[39m \u001b[38;5;241m%\u001b[39m\n\u001b[0;32m   1150\u001b[0m                     data\u001b[38;5;241m.\u001b[39m\u001b[38;5;18m__class__\u001b[39m\u001b[38;5;241m.\u001b[39m\u001b[38;5;18m__name__\u001b[39m)\n\u001b[0;32m   1151\u001b[0m encoding \u001b[38;5;241m=\u001b[39m io\u001b[38;5;241m.\u001b[39mtext_encoding(encoding)\n\u001b[1;32m-> 1152\u001b[0m \u001b[38;5;28;01mwith\u001b[39;00m \u001b[38;5;28;43mself\u001b[39;49m\u001b[38;5;241;43m.\u001b[39;49m\u001b[43mopen\u001b[49m\u001b[43m(\u001b[49m\u001b[43mmode\u001b[49m\u001b[38;5;241;43m=\u001b[39;49m\u001b[38;5;124;43m'\u001b[39;49m\u001b[38;5;124;43mw\u001b[39;49m\u001b[38;5;124;43m'\u001b[39;49m\u001b[43m,\u001b[49m\u001b[43m \u001b[49m\u001b[43mencoding\u001b[49m\u001b[38;5;241;43m=\u001b[39;49m\u001b[43mencoding\u001b[49m\u001b[43m,\u001b[49m\u001b[43m \u001b[49m\u001b[43merrors\u001b[49m\u001b[38;5;241;43m=\u001b[39;49m\u001b[43merrors\u001b[49m\u001b[43m,\u001b[49m\u001b[43m \u001b[49m\u001b[43mnewline\u001b[49m\u001b[38;5;241;43m=\u001b[39;49m\u001b[43mnewline\u001b[49m\u001b[43m)\u001b[49m \u001b[38;5;28;01mas\u001b[39;00m f:\n\u001b[0;32m   1153\u001b[0m     \u001b[38;5;28;01mreturn\u001b[39;00m f\u001b[38;5;241m.\u001b[39mwrite(data)\n",
      "File \u001b[1;32mc:\\Users\\dv04i\\miniconda3\\envs\\ydata_profiling\\lib\\pathlib.py:1117\u001b[0m, in \u001b[0;36mPath.open\u001b[1;34m(self, mode, buffering, encoding, errors, newline)\u001b[0m\n\u001b[0;32m   1115\u001b[0m \u001b[38;5;28;01mif\u001b[39;00m \u001b[38;5;124m\"\u001b[39m\u001b[38;5;124mb\u001b[39m\u001b[38;5;124m\"\u001b[39m \u001b[38;5;129;01mnot\u001b[39;00m \u001b[38;5;129;01min\u001b[39;00m mode:\n\u001b[0;32m   1116\u001b[0m     encoding \u001b[38;5;241m=\u001b[39m io\u001b[38;5;241m.\u001b[39mtext_encoding(encoding)\n\u001b[1;32m-> 1117\u001b[0m \u001b[38;5;28;01mreturn\u001b[39;00m \u001b[38;5;28;43mself\u001b[39;49m\u001b[38;5;241;43m.\u001b[39;49m\u001b[43m_accessor\u001b[49m\u001b[38;5;241;43m.\u001b[39;49m\u001b[43mopen\u001b[49m\u001b[43m(\u001b[49m\u001b[38;5;28;43mself\u001b[39;49m\u001b[43m,\u001b[49m\u001b[43m \u001b[49m\u001b[43mmode\u001b[49m\u001b[43m,\u001b[49m\u001b[43m \u001b[49m\u001b[43mbuffering\u001b[49m\u001b[43m,\u001b[49m\u001b[43m \u001b[49m\u001b[43mencoding\u001b[49m\u001b[43m,\u001b[49m\u001b[43m \u001b[49m\u001b[43merrors\u001b[49m\u001b[43m,\u001b[49m\n\u001b[0;32m   1118\u001b[0m \u001b[43m                           \u001b[49m\u001b[43mnewline\u001b[49m\u001b[43m)\u001b[49m\n",
      "\u001b[1;31mFileNotFoundError\u001b[0m: [Errno 2] No such file or directory: 'output\\\\google_playstore_cleaned.html'"
     ]
    }
   ],
   "source": [
    "import pandas_profiling as ydata\n",
    "profile = ydata.ProfileReport(df)\n",
    "profile.to_file(\"output/google_playstore_cleaned.html\")"
   ]
  }
 ],
 "metadata": {
  "kernelspec": {
   "display_name": "ydata_profiling",
   "language": "python",
   "name": "python3"
  },
  "language_info": {
   "codemirror_mode": {
    "name": "ipython",
    "version": 3
   },
   "file_extension": ".py",
   "mimetype": "text/x-python",
   "name": "python",
   "nbconvert_exporter": "python",
   "pygments_lexer": "ipython3",
   "version": "3.10.0"
  }
 },
 "nbformat": 4,
 "nbformat_minor": 2
}

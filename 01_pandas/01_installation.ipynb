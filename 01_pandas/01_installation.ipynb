{
 "cells": [
  {
   "cell_type": "markdown",
   "metadata": {},
   "source": [
    "# Step:\n",
    "1. Create a new conda environment \"python_ml\"\n",
    "2. install the following packages:\n",
    "   1. python conda install python\n",
    "     1. pandas\n",
    "     2. numpy   \n",
    "     3. matplotlib\n",
    "     4. seaborn\n",
    "     5. scipy \n",
    "     6. scikit-learn\n",
    "     7. jupyter\n",
    "     8. openpyxl\n",
    "     9. plotly\n",
    "\n",
    "\n",
    "\n",
    " pip install pandas numpy matplotlib seaborn scipy scikit-learn jupyter openpyxl plotly\n",
    "\n"
   ]
  },
  {
   "cell_type": "code",
   "execution_count": 1,
   "metadata": {},
   "outputs": [],
   "source": [
    "import pandas as pd\n",
    "import numpy as np \n",
    "import seaborn as sns\n",
    "import matplotlib.pyplot as plt\n",
    "from sklearn import linear_model"
   ]
  }
 ],
 "metadata": {
  "kernelspec": {
   "display_name": "python_ml",
   "language": "python",
   "name": "python3"
  },
  "language_info": {
   "codemirror_mode": {
    "name": "ipython",
    "version": 3
   },
   "file_extension": ".py",
   "mimetype": "text/x-python",
   "name": "python",
   "nbconvert_exporter": "python",
   "pygments_lexer": "ipython3",
   "version": "3.11.10"
  }
 },
 "nbformat": 4,
 "nbformat_minor": 2
}

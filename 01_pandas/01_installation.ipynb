{
 "cells": [
  {
   "cell_type": "markdown",
   "metadata": {},
   "source": [
    "# **Common Functions and parmeters in Pandas**"
   ]
  },
  {
   "cell_type": "markdown",
   "metadata": {},
   "source": [
    "# Extended Pandas Functions and Methods\n",
    "\n",
    "| Function/Method            | Description                                                                 |\n",
    "|----------------------------|-----------------------------------------------------------------------------|\n",
    "| `pd.DataFrame()`           | Creates a DataFrame from various data structures like dict, list, etc.      |\n",
    "| `pd.Series()`              | Creates a Series, which is a one-dimensional labeled array.                 |\n",
    "| `df.head(n)`               | Returns the first `n` rows of the DataFrame.                                |\n",
    "| `df.tail(n)`               | Returns the last `n` rows of the DataFrame.                                 |\n",
    "| `df.info()`                | Provides a concise summary of the DataFrame.                                |\n",
    "| `df.describe()`            | Generates descriptive statistics for numerical columns.                     |\n",
    "| `df.dtypes`                | Returns the data types of each column.                                      |\n",
    "| `df.columns`               | Returns the column labels of the DataFrame.                                 |\n",
    "| `df.index`                 | Returns the index (row labels) of the DataFrame.                            |\n",
    "| `df.shape`                 | Returns a tuple representing the dimensionality of the DataFrame.           |\n",
    "| `df.isnull()`              | Detects missing values, returning a DataFrame of the same shape with booleans.|\n",
    "| `df.notnull()`             | Opposite of `isnull()`, returns a DataFrame with booleans indicating non-missing values.|\n",
    "| `df.dropna()`              | Removes missing values.                                                     |\n",
    "| `df.fillna(value)`         | Fills missing values with a specified value.                                |\n",
    "| `df.astype(dtype)`         | Casts a pandas object to a specified dtype.                                 |\n",
    "| `df.sort_values(by)`       | Sorts the DataFrame by the specified column(s).                             |\n",
    "| `df.sort_index()`          | Sorts the DataFrame by its index.                                           |\n",
    "| `df.groupby(by)`           | Groups the DataFrame using a mapper or by a Series of columns.              |\n",
    "| `df.merge()`               | Merges DataFrame objects by performing a database-style join operation.     |\n",
    "| `df.concat()`              | Concatenates pandas objects along a particular axis.                        |\n",
    "| `df.pivot_table()`         | Creates a spreadsheet-style pivot table as a DataFrame.                     |\n",
    "| `df.apply(func)`           | Applies a function along an axis of the DataFrame.                          |\n",
    "| `df.map(func)`             | Maps a function to each element of a Series.                                |\n",
    "| `df.drop(labels)`          | Drops specified labels from rows or columns.                                |\n",
    "| `df.rename(columns)`       | Renames the labels of columns.                                              |\n",
    "| `df.duplicated()`          | Returns boolean Series denoting duplicate rows.                             |\n",
    "| `df.drop_duplicates()`     | Removes duplicate rows from the DataFrame.                                  |\n",
    "| `df.to_csv(filename)`      | Writes the DataFrame to a CSV file.                                         |\n",
    "| `pd.read_csv(filename)`    | Reads a CSV file into a DataFrame.                                          |\n",
    "| `df.to_excel(filename)`    | Writes the DataFrame to an Excel file.                                      |\n",
    "| `pd.read_excel(filename)`  | Reads an Excel file into a DataFrame.                                       |\n",
    "| `df.corr()`                | Computes pairwise correlation of columns.                                   |\n",
    "| `df.cov()`                 | Computes pairwise covariance of columns.                                    |\n",
    "| `df.melt()`                | Unpivots a DataFrame from wide format to long format.                       |\n",
    "| `df.pivot()`               | Reshapes data (produces a \"pivot\" table) based on column values.            |\n",
    "| `df.sample(n)`             | Returns a random sample of items from an axis of the DataFrame.             |\n",
    "| `df.nunique()`             | Returns the number of unique values for each column.                        |\n",
    "| `df.memory_usage()`        | Returns the memory usage of each column in bytes.                           |\n",
    "| `df.query(expr)`           | Queries the DataFrame with a boolean expression.                            |\n",
    "| `df.eval(expr)`            | Evaluates a string expression using the DataFrame columns.                  |\n",
    "| `df.loc[]`                 | Access a group of rows and columns by labels or a boolean array.            |\n",
    "| `df.iloc[]`                | Access a group of rows and columns by integer position(s).                  |\n",
    "| `df.at[]`                  | Access a single value for a row/column label pair.                          |\n",
    "| `df.iat[]`                 | Access a single value for a row/column pair by integer position.            |\n",
    "| `df.set_index(keys)`       | Set the DataFrame index using existing columns.                             |\n",
    "| `df.reset_index()`         | Reset the index of the DataFrame, and use the default one instead.          |\n",
    "| `df.replace(to_replace, value)` | Replace values given in `to_replace` with `value`.                     |\n",
    "| `df.append(other)`         | Append rows of `other` to the end of the DataFrame.                         |\n",
    "| `df.join(other)`           | Join columns of another DataFrame.                                          |\n"
   ]
  },
  {
   "cell_type": "markdown",
   "metadata": {},
   "source": [
    "# Step:\n",
    "1. Create a new conda environment \"python_ml\"\n",
    "2. install the following packages:\n",
    "   1. python conda install python\n",
    "     1. pandas\n",
    "     2. numpy   \n",
    "     3. matplotlib\n",
    "     4. seaborn\n",
    "     5. scipy \n",
    "     6. scikit-learn\n",
    "     7. jupyter\n",
    "     8. openpyxl\n",
    "     9. plotly\n",
    "\n",
    "\n",
    "\n",
    " pip install pandas numpy matplotlib seaborn scipy scikit-learn jupyter openpyxl plotly\n",
    "\n"
   ]
  },
  {
   "cell_type": "markdown",
   "metadata": {},
   "source": [
    "1. **import pandas as pd**\n",
    "2. **import numpy as np** \n",
    "3. **import seaborn as sns**\n",
    "4. **import matplotlib.pyplot as plt**\n",
    "5. **from sklearn import linear_model**"
   ]
  }
 ],
 "metadata": {
  "kernelspec": {
   "display_name": "python_ml",
   "language": "python",
   "name": "python3"
  },
  "language_info": {
   "codemirror_mode": {
    "name": "ipython",
    "version": 3
   },
   "file_extension": ".py",
   "mimetype": "text/x-python",
   "name": "python",
   "nbconvert_exporter": "python",
   "pygments_lexer": "ipython3",
   "version": "3.11.10"
  }
 },
 "nbformat": 4,
 "nbformat_minor": 2
}

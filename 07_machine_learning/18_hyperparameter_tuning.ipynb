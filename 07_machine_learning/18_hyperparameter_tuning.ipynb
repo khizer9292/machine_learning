{
 "cells": [
  {
   "cell_type": "markdown",
   "metadata": {},
   "source": [
    "# Hyperparametere Tuning\n",
    "Hyperparameter tuning is the process of selecting a combination of parameters that optimizes a model's performance.\n",
    "\n",
    "Types of Hyperparameter Tuning:\n",
    "1. `Grid Search:` This is a brute-force approach where all possible combinations of hyperparameters are tried, and the best combination is selected based on a performance metric.\n",
    "2. `Random Search:` This is a more efficient approach where a random subset of hyperparameters is tried, and the best combination is selected.\n",
    "3. `Bayesian Optimization:` This is a more efficient approach where a probabilistic model is used to search for the best combination of hyperparameters.\n",
    "4. `Gradient based Optimization:` This is a more efficient approach where a gradient-based algorithm is used to search for the best combination of hyperparameters."
   ]
  },
  {
   "cell_type": "markdown",
   "metadata": {},
   "source": [
    "# Cross-Validation\n",
    "Cross validation is a process of splitting a dataset into a training set and a test set, and then training a model on the training set and evaluating its performance on the test set."
   ]
  },
  {
   "cell_type": "code",
   "execution_count": 15,
   "metadata": {},
   "outputs": [],
   "source": [
    "# import the libraries \n",
    "from sklearn.ensemble import RandomForestClassifier\n",
    "from sklearn.model_selection import train_test_split, GridSearchCV, RandomizedSearchCV\n",
    "from sklearn.metrics import accuracy_score, confusion_matrix, classification_report"
   ]
  },
  {
   "cell_type": "code",
   "execution_count": 16,
   "metadata": {},
   "outputs": [],
   "source": [
    "# load the data \n",
    "from sklearn.datasets import load_iris\n",
    "\n",
    "iris = load_iris()\n",
    "X = iris.data\n",
    "y = iris.target"
   ]
  },
  {
   "cell_type": "code",
   "execution_count": 18,
   "metadata": {},
   "outputs": [
    {
     "name": "stdout",
     "output_type": "stream",
     "text": [
      "Fitting 5 folds for each of 168 candidates, totalling 840 fits\n",
      "{'bootstrap': True, 'criterion': 'gini', 'max_depth': 4, 'n_estimators': 100}\n"
     ]
    }
   ],
   "source": [
    "# define the model \n",
    "model = RandomForestClassifier()\n",
    "\n",
    "# create the parameters gird\n",
    "param_grid = {\n",
    "    'n_estimators': [50, 100, 200, 300, 400, 500],\n",
    "    'max_depth': [4, 5, 6, 7, 8, 9, 10],\n",
    "    'criterion': ['gini', 'entropy'],\n",
    "    'bootstrap': [True, False]\n",
    "}\n",
    "\n",
    "# set up the gird search or a pipline \n",
    "grid = GridSearchCV(\n",
    "    estimator=model, \n",
    "    param_grid=param_grid, cv=5, \n",
    "    scoring='accuracy', \n",
    "    verbose=1, n_jobs=-1\n",
    "    )\n",
    "\n",
    "# fit the model    \n",
    "grid.fit(X, y)\n",
    "\n",
    "# print the best parameters\n",
    "print(grid.best_params_)"
   ]
  },
  {
   "cell_type": "code",
   "execution_count": 19,
   "metadata": {},
   "outputs": [
    {
     "name": "stdout",
     "output_type": "stream",
     "text": [
      "Fitting 5 folds for each of 20 candidates, totalling 100 fits\n",
      "{'n_estimators': 500, 'max_depth': 5, 'criterion': 'entropy', 'bootstrap': True}\n"
     ]
    }
   ],
   "source": [
    "# set up the random search cv \n",
    "gird = RandomizedSearchCV(\n",
    "    estimator=model,\n",
    "    param_distributions=param_grid,\n",
    "    cv=5,\n",
    "    scoring='accuracy',\n",
    "    verbose=1,\n",
    "    n_jobs=-1,\n",
    "    n_iter=20\n",
    ")\n",
    "\n",
    "gird.fit(X, y)\n",
    "\n",
    "# print the best parameters\n",
    "print(gird.best_params_)"
   ]
  },
  {
   "cell_type": "code",
   "execution_count": null,
   "metadata": {},
   "outputs": [],
   "source": []
  }
 ],
 "metadata": {
  "kernelspec": {
   "display_name": "python_ml",
   "language": "python",
   "name": "python3"
  },
  "language_info": {
   "codemirror_mode": {
    "name": "ipython",
    "version": 3
   },
   "file_extension": ".py",
   "mimetype": "text/x-python",
   "name": "python",
   "nbconvert_exporter": "python",
   "pygments_lexer": "ipython3",
   "version": "3.11.0"
  }
 },
 "nbformat": 4,
 "nbformat_minor": 2
}

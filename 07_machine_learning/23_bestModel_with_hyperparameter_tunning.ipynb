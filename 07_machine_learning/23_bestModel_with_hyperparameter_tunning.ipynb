{
 "cells": [
  {
   "cell_type": "markdown",
   "metadata": {},
   "source": [
    "# Selecting the Best Model with Best Hyperparameters"
   ]
  },
  {
   "cell_type": "code",
   "execution_count": 2,
   "metadata": {},
   "outputs": [],
   "source": [
    "# Import all the necessary libraries\n",
    "import numpy as np\n",
    "import pandas as pd\n",
    "import seaborn as sns\n",
    "import matplotlib.pyplot as plt\n",
    "\n",
    "# import the preprocessing modules \n",
    "from sklearn.pipeline import Pipeline\n",
    "from sklearn.compose import ColumnTransformer\n",
    "from sklearn.preprocessing import LabelEncoder\n",
    "from sklearn.preprocessing import StandardScaler, MinMaxScaler\n",
    "\n",
    "# import all the models which we have to use in this noteBook \n",
    "from sklearn.svm import SVR\n",
    "from xgboost import XGBRegressor\n",
    "from sklearn.tree import DecisionTreeRegressor\n",
    "from sklearn.linear_model import LinearRegression\n",
    "from sklearn.neighbors import KNeighborsRegressor\n",
    "from sklearn.ensemble import RandomForestRegressor, GradientBoostingRegressor\n",
    "\n",
    "# import the cross validation module \n",
    "from sklearn.model_selection import cross_val_score, train_test_split, GridSearchCV\n",
    "\n",
    "# import the metrics to evalute the models \n",
    "from sklearn.metrics import mean_squared_error, mean_absolute_error, r2_score, root_mean_squared_error"
   ]
  },
  {
   "cell_type": "code",
   "execution_count": 3,
   "metadata": {},
   "outputs": [
    {
     "data": {
      "application/vnd.microsoft.datawrangler.viewer.v0+json": {
       "columns": [
        {
         "name": "index",
         "rawType": "int64",
         "type": "integer"
        },
        {
         "name": "total_bill",
         "rawType": "float64",
         "type": "float"
        },
        {
         "name": "tip",
         "rawType": "float64",
         "type": "float"
        },
        {
         "name": "sex",
         "rawType": "category",
         "type": "unknown"
        },
        {
         "name": "smoker",
         "rawType": "category",
         "type": "unknown"
        },
        {
         "name": "day",
         "rawType": "category",
         "type": "unknown"
        },
        {
         "name": "time",
         "rawType": "category",
         "type": "unknown"
        },
        {
         "name": "size",
         "rawType": "int64",
         "type": "integer"
        }
       ],
       "conversionMethod": "pd.DataFrame",
       "ref": "0880739d-2075-4bea-952f-d17b5a977e17",
       "rows": [
        [
         "0",
         "16.99",
         "1.01",
         "Female",
         "No",
         "Sun",
         "Dinner",
         "2"
        ],
        [
         "1",
         "10.34",
         "1.66",
         "Male",
         "No",
         "Sun",
         "Dinner",
         "3"
        ],
        [
         "2",
         "21.01",
         "3.5",
         "Male",
         "No",
         "Sun",
         "Dinner",
         "3"
        ],
        [
         "3",
         "23.68",
         "3.31",
         "Male",
         "No",
         "Sun",
         "Dinner",
         "2"
        ],
        [
         "4",
         "24.59",
         "3.61",
         "Female",
         "No",
         "Sun",
         "Dinner",
         "4"
        ]
       ],
       "shape": {
        "columns": 7,
        "rows": 5
       }
      },
      "text/html": [
       "<div>\n",
       "<style scoped>\n",
       "    .dataframe tbody tr th:only-of-type {\n",
       "        vertical-align: middle;\n",
       "    }\n",
       "\n",
       "    .dataframe tbody tr th {\n",
       "        vertical-align: top;\n",
       "    }\n",
       "\n",
       "    .dataframe thead th {\n",
       "        text-align: right;\n",
       "    }\n",
       "</style>\n",
       "<table border=\"1\" class=\"dataframe\">\n",
       "  <thead>\n",
       "    <tr style=\"text-align: right;\">\n",
       "      <th></th>\n",
       "      <th>total_bill</th>\n",
       "      <th>tip</th>\n",
       "      <th>sex</th>\n",
       "      <th>smoker</th>\n",
       "      <th>day</th>\n",
       "      <th>time</th>\n",
       "      <th>size</th>\n",
       "    </tr>\n",
       "  </thead>\n",
       "  <tbody>\n",
       "    <tr>\n",
       "      <th>0</th>\n",
       "      <td>16.99</td>\n",
       "      <td>1.01</td>\n",
       "      <td>Female</td>\n",
       "      <td>No</td>\n",
       "      <td>Sun</td>\n",
       "      <td>Dinner</td>\n",
       "      <td>2</td>\n",
       "    </tr>\n",
       "    <tr>\n",
       "      <th>1</th>\n",
       "      <td>10.34</td>\n",
       "      <td>1.66</td>\n",
       "      <td>Male</td>\n",
       "      <td>No</td>\n",
       "      <td>Sun</td>\n",
       "      <td>Dinner</td>\n",
       "      <td>3</td>\n",
       "    </tr>\n",
       "    <tr>\n",
       "      <th>2</th>\n",
       "      <td>21.01</td>\n",
       "      <td>3.50</td>\n",
       "      <td>Male</td>\n",
       "      <td>No</td>\n",
       "      <td>Sun</td>\n",
       "      <td>Dinner</td>\n",
       "      <td>3</td>\n",
       "    </tr>\n",
       "    <tr>\n",
       "      <th>3</th>\n",
       "      <td>23.68</td>\n",
       "      <td>3.31</td>\n",
       "      <td>Male</td>\n",
       "      <td>No</td>\n",
       "      <td>Sun</td>\n",
       "      <td>Dinner</td>\n",
       "      <td>2</td>\n",
       "    </tr>\n",
       "    <tr>\n",
       "      <th>4</th>\n",
       "      <td>24.59</td>\n",
       "      <td>3.61</td>\n",
       "      <td>Female</td>\n",
       "      <td>No</td>\n",
       "      <td>Sun</td>\n",
       "      <td>Dinner</td>\n",
       "      <td>4</td>\n",
       "    </tr>\n",
       "  </tbody>\n",
       "</table>\n",
       "</div>"
      ],
      "text/plain": [
       "   total_bill   tip     sex smoker  day    time  size\n",
       "0       16.99  1.01  Female     No  Sun  Dinner     2\n",
       "1       10.34  1.66    Male     No  Sun  Dinner     3\n",
       "2       21.01  3.50    Male     No  Sun  Dinner     3\n",
       "3       23.68  3.31    Male     No  Sun  Dinner     2\n",
       "4       24.59  3.61  Female     No  Sun  Dinner     4"
      ]
     },
     "execution_count": 3,
     "metadata": {},
     "output_type": "execute_result"
    }
   ],
   "source": [
    "df = sns.load_dataset(\"tips\")\n",
    "df.head()"
   ]
  },
  {
   "cell_type": "code",
   "execution_count": 4,
   "metadata": {},
   "outputs": [
    {
     "data": {
      "text/plain": [
       "Index(['total_bill', 'tip', 'sex', 'smoker', 'day', 'time', 'size'], dtype='object')"
      ]
     },
     "execution_count": 4,
     "metadata": {},
     "output_type": "execute_result"
    }
   ],
   "source": [
    "df.columns"
   ]
  },
  {
   "cell_type": "markdown",
   "metadata": {},
   "source": [
    "# Regression Task"
   ]
  },
  {
   "cell_type": "code",
   "execution_count": 5,
   "metadata": {},
   "outputs": [],
   "source": [
    "# now we can select the feature and targets or labels from the dataset\n",
    "# features\n",
    "X = df.drop('tip', axis=1)\n",
    "\n",
    "# Targets \n",
    "y = df['tip']\n",
    "\n",
    "# now, we encode all the categorical variables by using labelencoder\n",
    "for col in X.columns:\n",
    "    le = LabelEncoder()\n",
    "    if X[col].dtype =='category' or X[col].dtype == 'object':\n",
    "        X[col] = le.fit_transform(X[col])"
   ]
  },
  {
   "cell_type": "markdown",
   "metadata": {},
   "source": [
    "### Mean Absolute Error"
   ]
  },
  {
   "cell_type": "code",
   "execution_count": 6,
   "metadata": {},
   "outputs": [
    {
     "name": "stdout",
     "output_type": "stream",
     "text": [
      "Mean Absolute Error for SVM is 0.57\n",
      "Mean Absolute Error for Liner Regression is 0.67\n",
      "Mean Absolute Error for XGBoost is 0.67\n",
      "Mean Absolute Error for KNeighbors is 0.73\n",
      "Mean Absolute Error for Gradient Boosting is 0.73\n",
      "Mean Absolute Error for Random Forest is 0.78\n",
      "Mean Absolute Error for Decision Tree is 0.94\n"
     ]
    }
   ],
   "source": [
    "# spliting the data into train and test data\n",
    "X_train, X_test, y_train, y_test = train_test_split(X, y, test_size=0.2, random_state=42)\n",
    "\n",
    "# create the list of models which we want to use \n",
    "models = [\n",
    "    (\"SVM\", SVR()),\n",
    "    (\"XGBoost\", XGBRegressor()),\n",
    "    (\"Decision Tree\", DecisionTreeRegressor()),\n",
    "    (\"Liner Regression\", LinearRegression()),\n",
    "    (\"KNeighbors\", KNeighborsRegressor()),\n",
    "    (\"Random Forest\", RandomForestRegressor()),\n",
    "    (\"Gradient Boosting\", GradientBoostingRegressor())\n",
    "]\n",
    "model_score = []\n",
    "# fitting , predicting and evaluating the each model by using for loop \n",
    "for name, model in models:\n",
    "    model.fit(X_train, y_train)\n",
    "    y_pred = model.predict(X_test)\n",
    "\n",
    "    # evaluating the model\n",
    "    mar = mean_absolute_error(y_test, y_pred)\n",
    "    model_score.append((name, mar))\n",
    "\n",
    "short_models = sorted(model_score, key=lambda x: x[1], reverse=False)\n",
    "for model in short_models:\n",
    "    print(f\"Mean Absolute Error for {model[0]} is {model[1]:.2f}\")"
   ]
  },
  {
   "cell_type": "markdown",
   "metadata": {},
   "source": [
    "### Root Mean Squared Error"
   ]
  },
  {
   "cell_type": "markdown",
   "metadata": {},
   "source": [
    "higher (high and low)\n",
    "lower (high and low)\n",
    "\n",
    " \n"
   ]
  },
  {
   "cell_type": "code",
   "execution_count": 7,
   "metadata": {},
   "outputs": [
    {
     "name": "stdout",
     "output_type": "stream",
     "text": [
      "Root Mean Squared Error for SVM is 0.73\n",
      "Root Mean Squared Error for LinearRegression is 0.83\n",
      "Root Mean Squared Error for XGBoost is 0.86\n",
      "Root Mean Squared Error for Gradient Boosting is 0.89\n",
      "Root Mean Squared Error for KNeighbors Regressor is 0.92\n",
      "Root Mean Squared Error for Random Forest is 0.96\n",
      "Root Mean Squared Error for Decision Tree is 1.04\n"
     ]
    }
   ],
   "source": [
    "# spliting the data into train and test data\n",
    "X_train, X_test, y_train, y_test = train_test_split(X, y, test_size=0.2, random_state=42)\n",
    "\n",
    "# creating the list of models which we want to compare\n",
    "models = {\n",
    "    \"SVM\": SVR(),\n",
    "    \"XGBoost\": XGBRegressor(), \n",
    "    \"Decision Tree\": DecisionTreeRegressor(),\n",
    "    \"LinearRegression\": LinearRegression(),\n",
    "    \"Random Forest\": RandomForestRegressor(),\n",
    "    \"KNeighbors Regressor\": KNeighborsRegressor(),\n",
    "    \"Gradient Boosting\": GradientBoostingRegressor(),\n",
    "}\n",
    "\n",
    "model_score = []\n",
    "\n",
    "for name, model in models.items():\n",
    "    # fitting the model to the training data\n",
    "    model.fit(X_train, y_train)\n",
    "\n",
    "    # predicting the model\n",
    "    y_pred = model.predict(X_test)\n",
    "\n",
    "    # evaluating the model by using Root Mean Squared Error (RMSE)\n",
    "    rmse = root_mean_squared_error(y_test , y_pred)\n",
    "    model_score.append((name, rmse))\n",
    "\n",
    "short_models = sorted(model_score, key=lambda x: x[1], reverse=False)\n",
    "for model in short_models:\n",
    "    print(f\"Root Mean Squared Error for {model[0]} is {model[1]:.2f}\")"
   ]
  },
  {
   "cell_type": "code",
   "execution_count": 8,
   "metadata": {},
   "outputs": [
    {
     "name": "stdout",
     "output_type": "stream",
     "text": [
      "Mean Squared Error for XGBoost is 0.66\n",
      "Mean Squared Error for Linear Regression is 0.69\n",
      "Mean Squared Error for KNN is 0.69\n",
      "Mean Squared Error for Decision Tree is 0.88\n",
      "Mean Squared Error for Random Forest is 0.99\n",
      "Mean Squared Error for SVM is 1.46\n"
     ]
    }
   ],
   "source": [
    "models = {\n",
    "    \"SVM\": (\n",
    "        SVR(),      \n",
    "        {\n",
    "            'kernel': ['linear', 'poly', 'rbf'],\n",
    "            # 'C': [1.0, 0.1, 0.01],\n",
    "            # 'epsilon': [0.1, 0.01, 0.001],\n",
    "            # 'gamma': ['auto'],\n",
    "            # 'shrinking': [True, False],\n",
    "            # 'cache_size': [50, 100, 200],\n",
    "            # 'verbose': [True, False]\n",
    "        }\n",
    "    ),\n",
    "    \"Random Forest\": (\n",
    "        RandomForestRegressor(),\n",
    "        {\n",
    "            'n_estimators': [10, 100, 1000],\n",
    "            # 'max_depth': [None, 5, 10],\n",
    "            # 'min_samples_split': [2, 5, 10]\n",
    "        }\n",
    "    ),\n",
    "    \"KNN\": (\n",
    "        KNeighborsRegressor(),\n",
    "        {\n",
    "            'n_neighbors': [5, 10, 15],\n",
    "            # 'algorithm': ['kd_tree', 'ball_tree'],\n",
    "            # 'weights': ['uniform', 'distance'],\n",
    "        }\n",
    "    ),\n",
    "    \"Decision Tree\": (\n",
    "        DecisionTreeRegressor(), \n",
    "        {\n",
    "            'max_depth': [None, 5, 10],\n",
    "            # 'min_samples_split': [2, 5, 10],\n",
    "            # 'max_features': ['sqrt', 'log2', None]\n",
    "        }\n",
    "    ),\n",
    "    \"Linear Regression\": (\n",
    "        LinearRegression(), {}\n",
    "    ),\n",
    "    \"XGBoost\": (\n",
    "        XGBRegressor(),\n",
    "        {\n",
    "            'n_estimators': [10, 100]\n",
    "        }\n",
    "    )\n",
    "}\n",
    "\n",
    "model_score = []\n",
    "\n",
    "# loop through each model\n",
    "\n",
    "for name, (model, param) in models.items():\n",
    "    # create a pipeline\n",
    "    pipeline = GridSearchCV(model, param, cv=5)\n",
    "\n",
    "    # fit the pipeline to the training data\n",
    "    pipeline.fit(X_train, y_train)\n",
    "\n",
    "    # make predictions on the test set\n",
    "    y_pred = pipeline.predict(X_test)\n",
    "\n",
    "    # evaluate the model\n",
    "    mse = mean_squared_error(y_test, y_pred)\n",
    "    model_score.append((name, mse))\n",
    "\n",
    "short_models = sorted(model_score, key=lambda x: x[1], reverse=False)\n",
    "for model in short_models:\n",
    "    print(f\"Mean Squared Error for {model[0]} is {model[1]:.2f}\")"
   ]
  },
  {
   "cell_type": "markdown",
   "metadata": {},
   "source": [
    "**Assignment:** Find the best model based on each metrics from above mentioned results? with Diamonds dataset"
   ]
  },
  {
   "cell_type": "code",
   "execution_count": 9,
   "metadata": {},
   "outputs": [
    {
     "data": {
      "application/vnd.microsoft.datawrangler.viewer.v0+json": {
       "columns": [
        {
         "name": "index",
         "rawType": "int64",
         "type": "integer"
        },
        {
         "name": "carat",
         "rawType": "float64",
         "type": "float"
        },
        {
         "name": "cut",
         "rawType": "category",
         "type": "unknown"
        },
        {
         "name": "color",
         "rawType": "category",
         "type": "unknown"
        },
        {
         "name": "clarity",
         "rawType": "category",
         "type": "unknown"
        },
        {
         "name": "depth",
         "rawType": "float64",
         "type": "float"
        },
        {
         "name": "table",
         "rawType": "float64",
         "type": "float"
        },
        {
         "name": "price",
         "rawType": "int64",
         "type": "integer"
        },
        {
         "name": "x",
         "rawType": "float64",
         "type": "float"
        },
        {
         "name": "y",
         "rawType": "float64",
         "type": "float"
        },
        {
         "name": "z",
         "rawType": "float64",
         "type": "float"
        }
       ],
       "conversionMethod": "pd.DataFrame",
       "ref": "631962d9-d5c7-4d9d-8242-fd54f6f54608",
       "rows": [
        [
         "0",
         "0.23",
         "Ideal",
         "E",
         "SI2",
         "61.5",
         "55.0",
         "326",
         "3.95",
         "3.98",
         "2.43"
        ],
        [
         "1",
         "0.21",
         "Premium",
         "E",
         "SI1",
         "59.8",
         "61.0",
         "326",
         "3.89",
         "3.84",
         "2.31"
        ],
        [
         "2",
         "0.23",
         "Good",
         "E",
         "VS1",
         "56.9",
         "65.0",
         "327",
         "4.05",
         "4.07",
         "2.31"
        ],
        [
         "3",
         "0.29",
         "Premium",
         "I",
         "VS2",
         "62.4",
         "58.0",
         "334",
         "4.2",
         "4.23",
         "2.63"
        ],
        [
         "4",
         "0.31",
         "Good",
         "J",
         "SI2",
         "63.3",
         "58.0",
         "335",
         "4.34",
         "4.35",
         "2.75"
        ]
       ],
       "shape": {
        "columns": 10,
        "rows": 5
       }
      },
      "text/html": [
       "<div>\n",
       "<style scoped>\n",
       "    .dataframe tbody tr th:only-of-type {\n",
       "        vertical-align: middle;\n",
       "    }\n",
       "\n",
       "    .dataframe tbody tr th {\n",
       "        vertical-align: top;\n",
       "    }\n",
       "\n",
       "    .dataframe thead th {\n",
       "        text-align: right;\n",
       "    }\n",
       "</style>\n",
       "<table border=\"1\" class=\"dataframe\">\n",
       "  <thead>\n",
       "    <tr style=\"text-align: right;\">\n",
       "      <th></th>\n",
       "      <th>carat</th>\n",
       "      <th>cut</th>\n",
       "      <th>color</th>\n",
       "      <th>clarity</th>\n",
       "      <th>depth</th>\n",
       "      <th>table</th>\n",
       "      <th>price</th>\n",
       "      <th>x</th>\n",
       "      <th>y</th>\n",
       "      <th>z</th>\n",
       "    </tr>\n",
       "  </thead>\n",
       "  <tbody>\n",
       "    <tr>\n",
       "      <th>0</th>\n",
       "      <td>0.23</td>\n",
       "      <td>Ideal</td>\n",
       "      <td>E</td>\n",
       "      <td>SI2</td>\n",
       "      <td>61.5</td>\n",
       "      <td>55.0</td>\n",
       "      <td>326</td>\n",
       "      <td>3.95</td>\n",
       "      <td>3.98</td>\n",
       "      <td>2.43</td>\n",
       "    </tr>\n",
       "    <tr>\n",
       "      <th>1</th>\n",
       "      <td>0.21</td>\n",
       "      <td>Premium</td>\n",
       "      <td>E</td>\n",
       "      <td>SI1</td>\n",
       "      <td>59.8</td>\n",
       "      <td>61.0</td>\n",
       "      <td>326</td>\n",
       "      <td>3.89</td>\n",
       "      <td>3.84</td>\n",
       "      <td>2.31</td>\n",
       "    </tr>\n",
       "    <tr>\n",
       "      <th>2</th>\n",
       "      <td>0.23</td>\n",
       "      <td>Good</td>\n",
       "      <td>E</td>\n",
       "      <td>VS1</td>\n",
       "      <td>56.9</td>\n",
       "      <td>65.0</td>\n",
       "      <td>327</td>\n",
       "      <td>4.05</td>\n",
       "      <td>4.07</td>\n",
       "      <td>2.31</td>\n",
       "    </tr>\n",
       "    <tr>\n",
       "      <th>3</th>\n",
       "      <td>0.29</td>\n",
       "      <td>Premium</td>\n",
       "      <td>I</td>\n",
       "      <td>VS2</td>\n",
       "      <td>62.4</td>\n",
       "      <td>58.0</td>\n",
       "      <td>334</td>\n",
       "      <td>4.20</td>\n",
       "      <td>4.23</td>\n",
       "      <td>2.63</td>\n",
       "    </tr>\n",
       "    <tr>\n",
       "      <th>4</th>\n",
       "      <td>0.31</td>\n",
       "      <td>Good</td>\n",
       "      <td>J</td>\n",
       "      <td>SI2</td>\n",
       "      <td>63.3</td>\n",
       "      <td>58.0</td>\n",
       "      <td>335</td>\n",
       "      <td>4.34</td>\n",
       "      <td>4.35</td>\n",
       "      <td>2.75</td>\n",
       "    </tr>\n",
       "  </tbody>\n",
       "</table>\n",
       "</div>"
      ],
      "text/plain": [
       "   carat      cut color clarity  depth  table  price     x     y     z\n",
       "0   0.23    Ideal     E     SI2   61.5   55.0    326  3.95  3.98  2.43\n",
       "1   0.21  Premium     E     SI1   59.8   61.0    326  3.89  3.84  2.31\n",
       "2   0.23     Good     E     VS1   56.9   65.0    327  4.05  4.07  2.31\n",
       "3   0.29  Premium     I     VS2   62.4   58.0    334  4.20  4.23  2.63\n",
       "4   0.31     Good     J     SI2   63.3   58.0    335  4.34  4.35  2.75"
      ]
     },
     "execution_count": 9,
     "metadata": {},
     "output_type": "execute_result"
    }
   ],
   "source": [
    "diamond_data = sns.load_dataset(\"diamonds\")\n",
    "diamond_data.head()"
   ]
  },
  {
   "cell_type": "code",
   "execution_count": 10,
   "metadata": {},
   "outputs": [
    {
     "data": {
      "text/plain": [
       "Index(['carat', 'cut', 'color', 'clarity', 'depth', 'table', 'price', 'x', 'y',\n",
       "       'z'],\n",
       "      dtype='object')"
      ]
     },
     "execution_count": 10,
     "metadata": {},
     "output_type": "execute_result"
    }
   ],
   "source": [
    "diamond_data.columns"
   ]
  },
  {
   "cell_type": "code",
   "execution_count": 11,
   "metadata": {},
   "outputs": [
    {
     "name": "stdout",
     "output_type": "stream",
     "text": [
      "<class 'pandas.core.frame.DataFrame'>\n",
      "RangeIndex: 53940 entries, 0 to 53939\n",
      "Data columns (total 10 columns):\n",
      " #   Column   Non-Null Count  Dtype   \n",
      "---  ------   --------------  -----   \n",
      " 0   carat    53940 non-null  float64 \n",
      " 1   cut      53940 non-null  category\n",
      " 2   color    53940 non-null  category\n",
      " 3   clarity  53940 non-null  category\n",
      " 4   depth    53940 non-null  float64 \n",
      " 5   table    53940 non-null  float64 \n",
      " 6   price    53940 non-null  int64   \n",
      " 7   x        53940 non-null  float64 \n",
      " 8   y        53940 non-null  float64 \n",
      " 9   z        53940 non-null  float64 \n",
      "dtypes: category(3), float64(6), int64(1)\n",
      "memory usage: 3.0 MB\n"
     ]
    }
   ],
   "source": [
    "diamond_data.info()"
   ]
  },
  {
   "cell_type": "code",
   "execution_count": 12,
   "metadata": {},
   "outputs": [],
   "source": [
    "# selecting the features and targets or labels from the dataset\n",
    "# feature from the diamond dataset\n",
    "X = diamond_data.drop(\"price\", axis=1)\n",
    "\n",
    "# target or labels from the diamond dataset\n",
    "y = diamond_data['price']\n",
    "\n",
    "# now, we encode all the categorical variables by using labelEncoder\n",
    "for col in X.columns:\n",
    "    le = LabelEncoder()\n",
    "    if X[col].dtype == 'category':\n",
    "        X[col] = le.fit_transform(X[col])        "
   ]
  },
  {
   "cell_type": "code",
   "execution_count": 13,
   "metadata": {},
   "outputs": [
    {
     "name": "stdout",
     "output_type": "stream",
     "text": [
      "<class 'pandas.core.frame.DataFrame'>\n",
      "RangeIndex: 53940 entries, 0 to 53939\n",
      "Data columns (total 9 columns):\n",
      " #   Column   Non-Null Count  Dtype  \n",
      "---  ------   --------------  -----  \n",
      " 0   carat    53940 non-null  float64\n",
      " 1   cut      53940 non-null  int32  \n",
      " 2   color    53940 non-null  int32  \n",
      " 3   clarity  53940 non-null  int32  \n",
      " 4   depth    53940 non-null  float64\n",
      " 5   table    53940 non-null  float64\n",
      " 6   x        53940 non-null  float64\n",
      " 7   y        53940 non-null  float64\n",
      " 8   z        53940 non-null  float64\n",
      "dtypes: float64(6), int32(3)\n",
      "memory usage: 3.1 MB\n"
     ]
    }
   ],
   "source": [
    "X.info()"
   ]
  },
  {
   "cell_type": "markdown",
   "metadata": {},
   "source": [
    "So, We know that there is no categorical or object column in our dataset. We will use all the Regression model easily . But, we need to select the best model for our dataset. For that, we will use the `GridSearchCV` function from the `sklearn library`. This function will help us to find the best model for"
   ]
  },
  {
   "cell_type": "code",
   "execution_count": 14,
   "metadata": {},
   "outputs": [
    {
     "name": "stdout",
     "output_type": "stream",
     "text": [
      "Model: Linear Regression, R2 Score: 0.89\n",
      "Model: XGBoost, R2 Score: 0.98\n",
      "Model: Linear Regression, R2 Score: 0.89\n",
      "Model: XGBoost, R2 Score: 0.98\n",
      "Model: Linear Regression, R2 Score: 0.89\n",
      "Model: SVM, R2 Score: 0.86\n",
      "Model: XGBoost, R2 Score: 0.98\n",
      "Model: KNN, R2 Score: 0.95\n",
      "Model: Linear Regression, R2 Score: 0.89\n",
      "Model: SVM, R2 Score: 0.86\n",
      "Model: Random Forest, R2 Score: 0.98\n",
      "Model: XGBoost, R2 Score: 0.98\n",
      "Model: KNN, R2 Score: 0.95\n",
      "Model: Linear Regression, R2 Score: 0.89\n",
      "Model: SVM, R2 Score: 0.86\n",
      "Model: Random Forest, R2 Score: 0.98\n",
      "Model: XGBoost, R2 Score: 0.98\n",
      "Model: Decision Tree, R2 Score: 0.97\n",
      "Model: KNN, R2 Score: 0.95\n",
      "Model: Linear Regression, R2 Score: 0.89\n",
      "Model: SVM, R2 Score: 0.86\n",
      "CPU times: total: 21min 19s\n",
      "Wall time: 21min 24s\n"
     ]
    }
   ],
   "source": [
    "%%time\n",
    "# spliting the data into training and test dataset\n",
    "X_train, X_test, y_train, y_test = train_test_split(X, y, test_size=0.2, random_state=42)\n",
    "\n",
    "# defining all the models which we want to use\n",
    "models = {\n",
    "\n",
    "    'Linear Regression': (LinearRegression(),{}),\n",
    "    'XGBoost': (XGBRegressor(),{}),\n",
    "\n",
    "    'SVM' : (SVR(),\n",
    "        {     \n",
    "        \"kernel\":['linear', 'poly','rbf'],\n",
    "        \"C\" : [0.1, 1, 10],\n",
    "        }\n",
    "    ),\n",
    "\n",
    "    'KNN':(\n",
    "        KNeighborsRegressor(),\n",
    "        {\n",
    "            'n_neighbors': [1, 5, 10],\n",
    "        }\n",
    "    ),\n",
    "    'Random Forest': (\n",
    "        RandomForestRegressor(),\n",
    "        {\n",
    "            'n_estimators': [10, 50],\n",
    "        }\n",
    "    ),\n",
    "    'Decision Tree' : (\n",
    "        DecisionTreeRegressor(),\n",
    "        {\n",
    "           'criterion': ['squared_error', 'friedman_mse'] \n",
    "        }\n",
    "    ),\n",
    "\n",
    "}\n",
    "model_score = []\n",
    "for name, (model, params) in models.items():\n",
    "    pipeline = GridSearchCV(model, params, cv=3)\n",
    "    pipeline.fit(X_train, y_train)\n",
    "\n",
    "    # predict the model \n",
    "    y_pred = pipeline.predict(X_test)\n",
    "\n",
    "    R2_score = r2_score(y_test, y_pred)\n",
    "    model_score.append((name, R2_score))\n",
    "\n",
    "    sort_models = sorted(model_score, key=lambda x: x[1], reverse=True)\n",
    "    for model in sort_models:\n",
    "        print(f\"Model: {model[0]}, R2 Score: {model[1]:.2f}\")    "
   ]
  }
 ],
 "metadata": {
  "kernelspec": {
   "display_name": "python_ml",
   "language": "python",
   "name": "python3"
  },
  "language_info": {
   "codemirror_mode": {
    "name": "ipython",
    "version": 3
   },
   "file_extension": ".py",
   "mimetype": "text/x-python",
   "name": "python",
   "nbconvert_exporter": "python",
   "pygments_lexer": "ipython3",
   "version": "3.11.0"
  }
 },
 "nbformat": 4,
 "nbformat_minor": 2
}

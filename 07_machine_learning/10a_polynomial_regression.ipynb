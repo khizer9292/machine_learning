{
 "cells": [
  {
   "cell_type": "markdown",
   "id": "30db65e0",
   "metadata": {},
   "source": [
    "\n",
    "# Polynomial Regression\n",
    "\n",
    "Polynomial Regression is a form of linear regression in which the relationship between the independent variable x and dependent variable y is modeled as an nth degree polynomial. Polynomial regression fits a nonlinear relationship between the value of x and the corresponding conditional mean of y, denoted E(y |x), and has been used to describe nonlinear phenomena such as the growth rate of tissues, the distribution of carbon isotopes in lake sediments, and the progression of disease epidemics."
   ]
  },
  {
   "cell_type": "code",
   "execution_count": 1,
   "id": "2c17afbe",
   "metadata": {},
   "outputs": [],
   "source": [
    "import numpy as np\n",
    "import matplotlib.pyplot as plt\n",
    "from sklearn.preprocessing import PolynomialFeatures\n",
    "from sklearn.linear_model import LinearRegression\n",
    "import operator"
   ]
  },
  {
   "cell_type": "code",
   "execution_count": 5,
   "id": "e043cd77",
   "metadata": {},
   "outputs": [
    {
     "name": "stdout",
     "output_type": "stream",
     "text": [
      "[[-3.29215704]\n",
      " [ 0.79952837]\n",
      " [-0.93621395]\n",
      " [-4.7226796 ]\n",
      " [-3.60267397]\n",
      " [ 4.93183364]\n",
      " [-0.85026525]\n",
      " [ 2.45407162]\n",
      " [ 2.30965656]\n",
      " [ 0.76820449]\n",
      " [ 1.56786929]\n",
      " [-2.36282052]\n",
      " [-0.28311318]\n",
      " [ 1.63497495]\n",
      " [ 0.6684103 ]\n",
      " [ 0.99897702]\n",
      " [-2.48223722]\n",
      " [ 2.61547479]\n",
      " [ 1.0607969 ]\n",
      " [ 4.56228722]]\n",
      "[[-35.62772241]\n",
      " [ -1.51810708]\n",
      " [ -3.09589848]\n",
      " [-54.55657982]\n",
      " [-25.75192957]\n",
      " [-51.07722948]\n",
      " [ -5.1588917 ]\n",
      " [-13.15241501]\n",
      " [ -6.76103261]\n",
      " [  0.99600451]\n",
      " [ -5.88371664]\n",
      " [-15.39417459]\n",
      " [ -6.10677656]\n",
      " [-12.65370063]\n",
      " [ -4.26887081]\n",
      " [ -3.52788624]\n",
      " [-14.1143684 ]\n",
      " [-10.45880243]\n",
      " [ -5.35176366]\n",
      " [-40.97355035]]\n"
     ]
    }
   ],
   "source": [
    "# creating dummy data\n",
    "np.random.seed(0)\n",
    "X = 2 - 3 * np.random.normal(0, 1, 20)\n",
    "y = X - 2 * (X ** 2) + np.random.normal(-3, 3, 20)\n",
    "\n",
    "# Reshape the data \n",
    "X = X[:, np.newaxis]\n",
    "y = y[:, np.newaxis]\n",
    "print(X)\n",
    "print(y)"
   ]
  },
  {
   "cell_type": "code",
   "execution_count": 6,
   "id": "7666bf3c",
   "metadata": {},
   "outputs": [
    {
     "name": "stdout",
     "output_type": "stream",
     "text": [
      "[[ 1.         -3.29215704 10.83829796]\n",
      " [ 1.          0.79952837  0.63924562]\n",
      " [ 1.         -0.93621395  0.87649656]\n",
      " [ 1.         -4.7226796  22.30370258]\n",
      " [ 1.         -3.60267397 12.97925974]\n",
      " [ 1.          4.93183364 24.32298305]\n",
      " [ 1.         -0.85026525  0.722951  ]\n",
      " [ 1.          2.45407162  6.02246754]\n",
      " [ 1.          2.30965656  5.3345134 ]\n",
      " [ 1.          0.76820449  0.59013814]\n",
      " [ 1.          1.56786929  2.4582141 ]\n",
      " [ 1.         -2.36282052  5.58292081]\n",
      " [ 1.         -0.28311318  0.08015307]\n",
      " [ 1.          1.63497495  2.67314309]\n",
      " [ 1.          0.6684103   0.44677233]\n",
      " [ 1.          0.99897702  0.99795508]\n",
      " [ 1.         -2.48223722  6.16150161]\n",
      " [ 1.          2.61547479  6.84070838]\n",
      " [ 1.          1.0607969   1.12529005]\n",
      " [ 1.          4.56228722 20.81446466]]\n"
     ]
    }
   ],
   "source": [
    "# set the polynomial transformation degree\n",
    "degree = 2\n",
    "poly_feature = PolynomialFeatures(degree = degree)\n",
    "X_poly = poly_feature.fit_transform(X)\n",
    "print(X_poly)"
   ]
  },
  {
   "cell_type": "code",
   "execution_count": 7,
   "id": "2fc42fb0",
   "metadata": {},
   "outputs": [],
   "source": [
    "# Train the model \n",
    "model = LinearRegression()\n",
    "model.fit(X_poly, y)\n",
    "y_poly_pred = model.predict(X_poly)"
   ]
  },
  {
   "cell_type": "code",
   "execution_count": 8,
   "id": "9fd8abc1",
   "metadata": {},
   "outputs": [
    {
     "data": {
      "image/png": "[encoded data removed]",
      "text/plain": [
       "<Figure size 640x480 with 1 Axes>"
      ]
     },
     "metadata": {},
     "output_type": "display_data"
    }
   ],
   "source": [
    "# ploting the results\n",
    "plt.scatter(X, y, color = 'blue')\n",
    "sorted_axis = operator.itemgetter(0)\n",
    "sorted_zip = sorted(zip(X, y_poly_pred), key = sorted_axis)\n",
    "X, y_poly_pred = zip(*sorted_zip)\n",
    "plt.plot(X, y_poly_pred, color = 'magenta')\n",
    "plt.title('Polynomial Regression')\n",
    "plt.xlabel('X')\n",
    "plt.ylabel('y')\n",
    "plt.show()"
   ]
  }
 ],
 "metadata": {
  "kernelspec": {
   "display_name": "python_ml",
   "language": "python",
   "name": "python3"
  },
  "language_info": {
   "codemirror_mode": {
    "name": "ipython",
    "version": 3
   },
   "file_extension": ".py",
   "mimetype": "text/x-python",
   "name": "python",
   "nbconvert_exporter": "python",
   "pygments_lexer": "ipython3",
   "version": "3.11.0"
  }
 },
 "nbformat": 4,
 "nbformat_minor": 5
}
